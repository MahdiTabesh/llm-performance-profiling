{
 "cells": [
  {
   "cell_type": "markdown",
   "metadata": {
    "id": "SqV51jnXYr1w"
   },
   "source": [
    "## C5: CPU vs GPU Training Performance"
   ]
  },
  {
   "cell_type": "code",
   "execution_count": null,
   "metadata": {
    "colab": {
     "base_uri": "https://localhost:8080/",
     "height": 727
    },
    "executionInfo": {
     "elapsed": 769353,
     "status": "ok",
     "timestamp": 1760898380517,
     "user": {
      "displayName": "Mahdi Saleh Tabesh",
      "userId": "07240825415212703464"
     },
     "user_tz": 240
    },
    "id": "5RQbvzS7YTUV",
    "outputId": "601df055-dcdd-4538-bc49-cf42f0f7d170"
   },
   "outputs": [
    {
     "data": {
      "text/html": [],
      "text/plain": [
       "<IPython.core.display.HTML object>"
      ]
     },
     "metadata": {},
     "output_type": "display_data"
    },
    {
     "data": {
      "text/html": [
       "Tracking run with wandb version 0.22.2"
      ],
      "text/plain": [
       "<IPython.core.display.HTML object>"
      ]
     },
     "metadata": {},
     "output_type": "display_data"
    },
    {
     "data": {
      "text/html": [
       "Run data is saved locally in <code>/content/drive/MyDrive/03-HPML HW2/wandb/run-20251019_181330-k75so6ga</code>"
      ],
      "text/plain": [
       "<IPython.core.display.HTML object>"
      ]
     },
     "metadata": {},
     "output_type": "display_data"
    },
    {
     "data": {
      "text/html": [
       "Syncing run <strong><a href='https://wandb.ai/mah3i-tabesh500-mahdi-saleh-tabesh/hpml-hw2-llm/runs/k75so6ga' target=\"_blank\">GPU_bs32_lr1e-4</a></strong> to <a href='https://wandb.ai/mah3i-tabesh500-mahdi-saleh-tabesh/hpml-hw2-llm' target=\"_blank\">Weights & Biases</a> (<a href='https://wandb.me/developer-guide' target=\"_blank\">docs</a>)<br>"
      ],
      "text/plain": [
       "<IPython.core.display.HTML object>"
      ]
     },
     "metadata": {},
     "output_type": "display_data"
    },
    {
     "data": {
      "text/html": [
       " View project at <a href='https://wandb.ai/mah3i-tabesh500-mahdi-saleh-tabesh/hpml-hw2-llm' target=\"_blank\">https://wandb.ai/mah3i-tabesh500-mahdi-saleh-tabesh/hpml-hw2-llm</a>"
      ],
      "text/plain": [
       "<IPython.core.display.HTML object>"
      ]
     },
     "metadata": {},
     "output_type": "display_data"
    },
    {
     "data": {
      "text/html": [
       " View run at <a href='https://wandb.ai/mah3i-tabesh500-mahdi-saleh-tabesh/hpml-hw2-llm/runs/k75so6ga' target=\"_blank\">https://wandb.ai/mah3i-tabesh500-mahdi-saleh-tabesh/hpml-hw2-llm/runs/k75so6ga</a>"
      ],
      "text/plain": [
       "<IPython.core.display.HTML object>"
      ]
     },
     "metadata": {},
     "output_type": "display_data"
    },
    {
     "name": "stderr",
     "output_type": "stream",
     "text": [
      "Some weights of DistilBertForSequenceClassification were not initialized from the model checkpoint at distilbert-base-uncased and are newly initialized: ['classifier.bias', 'classifier.weight', 'pre_classifier.bias', 'pre_classifier.weight']\n",
      "You should probably TRAIN this model on a down-stream task to be able to use it for predictions and inference.\n"
     ]
    },
    {
     "name": "stdout",
     "output_type": "stream",
     "text": [
      "Epoch 1: Train Loss=0.3100, Train Acc=0.8678, Test Acc=0.8974, Epoch Time=115.197s\n",
      "Epoch 2: Train Loss=0.1680, Train Acc=0.9378, Test Acc=0.8912, Epoch Time=115.062s\n",
      "Epoch 3: Train Loss=0.0868, Train Acc=0.9712, Test Acc=0.8780, Epoch Time=114.966s\n",
      "Epoch 4: Train Loss=0.0521, Train Acc=0.9823, Test Acc=0.8772, Epoch Time=114.963s\n",
      "Epoch 5: Train Loss=0.0375, Train Acc=0.9876, Test Acc=0.8789, Epoch Time=114.970s\n"
     ]
    },
    {
     "data": {
      "text/html": [],
      "text/plain": [
       "<IPython.core.display.HTML object>"
      ]
     },
     "metadata": {},
     "output_type": "display_data"
    },
    {
     "data": {
      "text/html": [
       "<br>    <style><br>        .wandb-row {<br>            display: flex;<br>            flex-direction: row;<br>            flex-wrap: wrap;<br>            justify-content: flex-start;<br>            width: 100%;<br>        }<br>        .wandb-col {<br>            display: flex;<br>            flex-direction: column;<br>            flex-basis: 100%;<br>            flex: 1;<br>            padding: 10px;<br>        }<br>    </style><br><div class=\"wandb-row\"><div class=\"wandb-col\"><h3>Run history:</h3><br/><table class=\"wandb\"><tr><td>test/acc</td><td>█▆▁▁▂</td></tr><tr><td>time/compute</td><td>█▇▃▁▁</td></tr><tr><td>time/data</td><td>█▁▂▄▄</td></tr><tr><td>time/epoch</td><td>█▄▁▁▁</td></tr><tr><td>train/acc</td><td>▁▅▇██</td></tr><tr><td>train/loss</td><td>█▄▂▁▁</td></tr></table><br/></div><div class=\"wandb-col\"><h3>Run summary:</h3><br/><table class=\"wandb\"><tr><td>test/acc</td><td>0.87892</td></tr><tr><td>time/compute</td><td>111.94612</td></tr><tr><td>time/data</td><td>2.44886</td></tr><tr><td>time/epoch</td><td>114.96991</td></tr><tr><td>train/acc</td><td>0.98756</td></tr><tr><td>train/loss</td><td>0.03753</td></tr></table><br/></div></div>"
      ],
      "text/plain": [
       "<IPython.core.display.HTML object>"
      ]
     },
     "metadata": {},
     "output_type": "display_data"
    },
    {
     "data": {
      "text/html": [
       " View run <strong style=\"color:#cdcd00\">GPU_bs32_lr1e-4</strong> at: <a href='https://wandb.ai/mah3i-tabesh500-mahdi-saleh-tabesh/hpml-hw2-llm/runs/k75so6ga' target=\"_blank\">https://wandb.ai/mah3i-tabesh500-mahdi-saleh-tabesh/hpml-hw2-llm/runs/k75so6ga</a><br> View project at: <a href='https://wandb.ai/mah3i-tabesh500-mahdi-saleh-tabesh/hpml-hw2-llm' target=\"_blank\">https://wandb.ai/mah3i-tabesh500-mahdi-saleh-tabesh/hpml-hw2-llm</a><br>Synced 5 W&B file(s), 0 media file(s), 0 artifact file(s) and 0 other file(s)"
      ],
      "text/plain": [
       "<IPython.core.display.HTML object>"
      ]
     },
     "metadata": {},
     "output_type": "display_data"
    },
    {
     "data": {
      "text/html": [
       "Find logs at: <code>./wandb/run-20251019_181330-k75so6ga/logs</code>"
      ],
      "text/plain": [
       "<IPython.core.display.HTML object>"
      ]
     },
     "metadata": {},
     "output_type": "display_data"
    }
   ],
   "source": [
    "import torch\n",
    "import numpy as np\n",
    "import wandb\n",
    "\n",
    "# Set device to GPU for this run (CPU training skipped)\n",
    "device = torch.device(\"cuda\" if torch.cuda.is_available() else \"cpu\")\n",
    "\n",
    "wandb.init(project=\"hpml-hw2-llm\", name=\"GPU_bs32_lr1e-4\", group=\"C5_experiments\",\n",
    "           config={\"model_name\": model_name, \"max_len\": 256, \"batch_size\": 32, \"lr\": 1e-4,\n",
    "                   \"optimizer\": \"AdamW\", \"num_workers\": 2, \"epochs\": 5, \"device\": str(device), \"compile_mode\": False})\n",
    "\n",
    "# Reinitialize model and optimizer for GPU training\n",
    "model = DistilBertForSequenceClassification.from_pretrained(model_name, num_labels=2).to(device)\n",
    "optimizer = torch.optim.AdamW(model.parameters(), lr=1e-4)\n",
    "\n",
    "# DataLoaders (using num_workers=2 as baseline)\n",
    "train_loader = DataLoader(train_ds, batch_size=32, shuffle=True, collate_fn=collate_fn, num_workers=2)\n",
    "test_loader = DataLoader(test_ds, batch_size=32, shuffle=False, collate_fn=collate_fn, num_workers=2)\n",
    "\n",
    "# Training loop for 5 epochs on GPU\n",
    "epochs = 5\n",
    "epoch_total_times = []\n",
    "train_losses = []\n",
    "train_accs = []\n",
    "test_accs = []\n",
    "for epoch in range(1, epochs+1):\n",
    "    model.train()\n",
    "    total_start = time.time()\n",
    "    data_time = 0.0\n",
    "    compute_time = 0.0\n",
    "    batch_end_time = total_start\n",
    "    total_loss = 0.0\n",
    "    correct = 0\n",
    "    total_samples = 0\n",
    "    for batch in train_loader:\n",
    "        # Track time waiting for data\n",
    "        current_time = time.time()\n",
    "        data_time += current_time - batch_end_time\n",
    "        batch = {k: v.to(device) for k, v in batch.items()}\n",
    "        compute_start = time.time()\n",
    "        optimizer.zero_grad()\n",
    "        outputs = model(**batch)\n",
    "        loss = outputs.loss\n",
    "        logits = outputs.logits\n",
    "        loss.backward()\n",
    "        optimizer.step()\n",
    "        # Synchronize and record compute time\n",
    "        if device.type == \"cuda\":\n",
    "            torch.cuda.synchronize()\n",
    "        compute_end = time.time()\n",
    "        compute_time += compute_end - compute_start\n",
    "        # Accumulate training loss and accuracy\n",
    "        total_loss += loss.item() * batch[\"labels\"].size(0)\n",
    "        preds = torch.argmax(logits, dim=1)\n",
    "        correct += (preds == batch[\"labels\"]).sum().item()\n",
    "        total_samples += batch[\"labels\"].size(0)\n",
    "        batch_end_time = compute_end\n",
    "    # End of epoch timing\n",
    "    total_end = time.time()\n",
    "    epoch_total_times.append(total_end - total_start)\n",
    "    avg_train_loss = total_loss / total_samples\n",
    "    train_accuracy = correct / total_samples\n",
    "    # Evaluate on test set\n",
    "    model.eval()\n",
    "    correct_test = 0\n",
    "    total_test = 0\n",
    "    with torch.no_grad():\n",
    "        for batch in test_loader:\n",
    "            batch = {k: v.to(device) for k, v in batch.items()}\n",
    "            outputs = model(input_ids=batch[\"input_ids\"], attention_mask=batch[\"attention_mask\"])\n",
    "            preds = torch.argmax(outputs.logits, dim=1)\n",
    "            if device.type == \"cuda\":\n",
    "                preds = preds.cpu()\n",
    "                labels = batch[\"labels\"].cpu()\n",
    "            else:\n",
    "                labels = batch[\"labels\"]\n",
    "            correct_test += (preds == labels).sum().item()\n",
    "            total_test += labels.size(0)\n",
    "    test_accuracy = correct_test / total_test\n",
    "    train_losses.append(avg_train_loss)\n",
    "    train_accs.append(train_accuracy)\n",
    "    test_accs.append(test_accuracy)\n",
    "    # Log metrics for this epoch to W&B\n",
    "    wandb.log({\"train/loss\": avg_train_loss, \"train/acc\": train_accuracy,\n",
    "               \"test/acc\": test_accuracy, \"time/data\": data_time,\n",
    "               \"time/compute\": compute_time, \"time/epoch\": epoch_total_times[-1]}, step=epoch)\n",
    "    print(f\"Epoch {epoch}: Train Loss={avg_train_loss:.4f}, Train Acc={train_accuracy:.4f}, Test Acc={test_accuracy:.4f}, Epoch Time={epoch_total_times[-1]:.3f}s\")\n",
    "\n",
    "wandb.finish()"
   ]
  },
  {
   "cell_type": "markdown",
   "metadata": {
    "id": "auop8zp8mu8s"
   },
   "source": [
    "# Experiment Tracking (Weights & Biases) link of W&B run page.\n",
    "- View run GPU_bs32_lr1e-4 at: https://wandb.ai/mah3i-tabesh500-mahdi-saleh-tabesh/hpml-hw2-llm/runs/k75so6ga\n",
    "- View project at: https://wandb.ai/mah3i-tabesh500-mahdi-saleh-tabesh/hpml-hw2-llm\n",
    "- Synced 5 W&B file(s), 0 media file(s), 0 artifact file(s) and 0 other file(s)\n",
    "- Find logs at: ./wandb/run-20251019_181330-k75so6ga/logs"
   ]
  },
  {
   "cell_type": "code",
   "execution_count": null,
   "metadata": {
    "id": "BdETjrndiUa-"
   },
   "outputs": [],
   "source": []
  },
  {
   "cell_type": "code",
   "execution_count": null,
   "metadata": {
    "colab": {
     "base_uri": "https://localhost:8080/"
    },
    "executionInfo": {
     "elapsed": 44,
     "status": "ok",
     "timestamp": 1760827964284,
     "user": {
      "displayName": "Mahdi Saleh Tabesh",
      "userId": "07240825415212703464"
     },
     "user_tz": 240
    },
    "id": "AWc0Ry0qdvZ8",
    "outputId": "3042a2be-dc5e-45e9-fa41-ba6a34977778"
   },
   "outputs": [
    {
     "name": "stdout",
     "output_type": "stream",
     "text": [
      "\n",
      "Table T5: Training time and results on GPU (CPU training skipped)\n",
      "\n",
      "  Device  Avg Epoch Time (s)  Final Train Loss  Final Test Acc\n",
      "0    GPU             115.469            0.0434           87.14\n"
     ]
    }
   ],
   "source": [
    "# Compute average epoch time and final metrics for GPU\n",
    "avg_epoch_time = np.mean(epoch_total_times)\n",
    "final_train_loss = train_losses[-1]\n",
    "final_test_acc = test_accs[-1] * 100  # convert to percentage\n",
    "\n",
    "# Prepare Table T5 (only GPU row, CPU skipped)\n",
    "t5_df = pd.DataFrame([[\"GPU\", round(avg_epoch_time,3), round(final_train_loss,4), round(final_test_acc,2)]],\n",
    "                     columns=[\"Device\", \"Avg Epoch Time (s)\", \"Final Train Loss\", \"Final Test Acc\"])\n",
    "print(\"\\nTable T5: Training time and results on GPU (CPU training skipped)\\n\")\n",
    "print(t5_df)"
   ]
  },
  {
   "cell_type": "code",
   "execution_count": null,
   "metadata": {
    "id": "U_keCLP1jbWT"
   },
   "outputs": [],
   "source": []
  },
  {
   "cell_type": "code",
   "execution_count": null,
   "metadata": {
    "colab": {
     "base_uri": "https://localhost:8080/",
     "height": 407
    },
    "executionInfo": {
     "elapsed": 121,
     "status": "ok",
     "timestamp": 1760916024046,
     "user": {
      "displayName": "Mahdi Saleh Tabesh",
      "userId": "07240825415212703464"
     },
     "user_tz": 240
    },
    "id": "Jzu8UAYzjblQ",
    "outputId": "71c8c4b6-b9d5-45e4-94c6-4aa9aafd6197"
   },
   "outputs": [
    {
     "data": {
      "image/png": "[encoded data removed]",
      "text/plain": [
       "<Figure size 500x400 with 1 Axes>"
      ]
     },
     "metadata": {},
     "output_type": "display_data"
    }
   ],
   "source": [
    "import matplotlib.pyplot as plt\n",
    "import numpy as np\n",
    "\n",
    "devices = [\"CPU (Skipped)\", \"GPU\"]\n",
    "avg_times = [0, 115.469]\n",
    "\n",
    "plt.figure(figsize=(5,4))\n",
    "bars = plt.bar(devices, avg_times, color=[\"lightgray\", \"skyblue\"])\n",
    "plt.ylabel(\"Avg Epoch Time (s)\")\n",
    "plt.title(\"Figure F5 – CPU vs GPU Average Epoch Time\")\n",
    "plt.text(1, 115.469 + 2, \"115.47 s\", ha='center', fontsize=10)\n",
    "plt.tight_layout()\n",
    "plt.show()\n"
   ]
  },
  {
   "cell_type": "markdown",
   "metadata": {
    "id": "szhGrDYPvP0T"
   },
   "source": [
    "# C6: Hyperparameter Sensitivity Sweep (Batch Size vs Learning Rate)"
   ]
  },
  {
   "cell_type": "code",
   "execution_count": null,
   "metadata": {
    "colab": {
     "base_uri": "https://localhost:8080/",
     "height": 5784
    },
    "executionInfo": {
     "elapsed": 6977993,
     "status": "ok",
     "timestamp": 1760906018725,
     "user": {
      "displayName": "Mahdi Saleh Tabesh",
      "userId": "07240825415212703464"
     },
     "user_tz": 240
    },
    "id": "-24-NHbpvRH9",
    "outputId": "604158ca-b662-40f2-a8a3-953b4ee0597d"
   },
   "outputs": [
    {
     "data": {
      "text/html": [],
      "text/plain": [
       "<IPython.core.display.HTML object>"
      ]
     },
     "metadata": {},
     "output_type": "display_data"
    },
    {
     "data": {
      "text/html": [
       "Tracking run with wandb version 0.22.2"
      ],
      "text/plain": [
       "<IPython.core.display.HTML object>"
      ]
     },
     "metadata": {},
     "output_type": "display_data"
    },
    {
     "data": {
      "text/html": [
       "Run data is saved locally in <code>/content/drive/MyDrive/03-HPML HW2/wandb/run-20251019_183720-yom1284k</code>"
      ],
      "text/plain": [
       "<IPython.core.display.HTML object>"
      ]
     },
     "metadata": {},
     "output_type": "display_data"
    },
    {
     "data": {
      "text/html": [
       "Syncing run <strong><a href='https://wandb.ai/mah3i-tabesh500-mahdi-saleh-tabesh/hpml-hw2-llm/runs/yom1284k' target=\"_blank\">bs16_lr5e-5</a></strong> to <a href='https://wandb.ai/mah3i-tabesh500-mahdi-saleh-tabesh/hpml-hw2-llm' target=\"_blank\">Weights & Biases</a> (<a href='https://wandb.me/developer-guide' target=\"_blank\">docs</a>)<br>"
      ],
      "text/plain": [
       "<IPython.core.display.HTML object>"
      ]
     },
     "metadata": {},
     "output_type": "display_data"
    },
    {
     "data": {
      "text/html": [
       " View project at <a href='https://wandb.ai/mah3i-tabesh500-mahdi-saleh-tabesh/hpml-hw2-llm' target=\"_blank\">https://wandb.ai/mah3i-tabesh500-mahdi-saleh-tabesh/hpml-hw2-llm</a>"
      ],
      "text/plain": [
       "<IPython.core.display.HTML object>"
      ]
     },
     "metadata": {},
     "output_type": "display_data"
    },
    {
     "data": {
      "text/html": [
       " View run at <a href='https://wandb.ai/mah3i-tabesh500-mahdi-saleh-tabesh/hpml-hw2-llm/runs/yom1284k' target=\"_blank\">https://wandb.ai/mah3i-tabesh500-mahdi-saleh-tabesh/hpml-hw2-llm/runs/yom1284k</a>"
      ],
      "text/plain": [
       "<IPython.core.display.HTML object>"
      ]
     },
     "metadata": {},
     "output_type": "display_data"
    },
    {
     "name": "stderr",
     "output_type": "stream",
     "text": [
      "Some weights of DistilBertForSequenceClassification were not initialized from the model checkpoint at distilbert-base-uncased and are newly initialized: ['classifier.bias', 'classifier.weight', 'pre_classifier.bias', 'pre_classifier.weight']\n",
      "You should probably TRAIN this model on a down-stream task to be able to use it for predictions and inference.\n"
     ]
    },
    {
     "data": {
      "text/html": [],
      "text/plain": [
       "<IPython.core.display.HTML object>"
      ]
     },
     "metadata": {},
     "output_type": "display_data"
    },
    {
     "data": {
      "text/html": [
       "<br>    <style><br>        .wandb-row {<br>            display: flex;<br>            flex-direction: row;<br>            flex-wrap: wrap;<br>            justify-content: flex-start;<br>            width: 100%;<br>        }<br>        .wandb-col {<br>            display: flex;<br>            flex-direction: column;<br>            flex-basis: 100%;<br>            flex: 1;<br>            padding: 10px;<br>        }<br>    </style><br><div class=\"wandb-row\"><div class=\"wandb-col\"><h3>Run history:</h3><br/><table class=\"wandb\"><tr><td>test/acc</td><td>▇█▄▃▁</td></tr><tr><td>time/compute</td><td>█▃▁▂▂</td></tr><tr><td>time/data</td><td>▁▃▆█▇</td></tr><tr><td>time/epoch</td><td>█▁▂▇▅</td></tr><tr><td>train/acc</td><td>▁▅▇██</td></tr><tr><td>train/loss</td><td>█▄▂▁▁</td></tr></table><br/></div><div class=\"wandb-col\"><h3>Run summary:</h3><br/><table class=\"wandb\"><tr><td>test/acc</td><td>0.89008</td></tr><tr><td>time/compute</td><td>120.59335</td></tr><tr><td>time/data</td><td>4.20167</td></tr><tr><td>time/epoch</td><td>125.53764</td></tr><tr><td>train/acc</td><td>0.98716</td></tr><tr><td>train/loss</td><td>0.03652</td></tr></table><br/></div></div>"
      ],
      "text/plain": [
       "<IPython.core.display.HTML object>"
      ]
     },
     "metadata": {},
     "output_type": "display_data"
    },
    {
     "data": {
      "text/html": [
       " View run <strong style=\"color:#cdcd00\">bs16_lr5e-5</strong> at: <a href='https://wandb.ai/mah3i-tabesh500-mahdi-saleh-tabesh/hpml-hw2-llm/runs/yom1284k' target=\"_blank\">https://wandb.ai/mah3i-tabesh500-mahdi-saleh-tabesh/hpml-hw2-llm/runs/yom1284k</a><br> View project at: <a href='https://wandb.ai/mah3i-tabesh500-mahdi-saleh-tabesh/hpml-hw2-llm' target=\"_blank\">https://wandb.ai/mah3i-tabesh500-mahdi-saleh-tabesh/hpml-hw2-llm</a><br>Synced 5 W&B file(s), 0 media file(s), 0 artifact file(s) and 0 other file(s)"
      ],
      "text/plain": [
       "<IPython.core.display.HTML object>"
      ]
     },
     "metadata": {},
     "output_type": "display_data"
    },
    {
     "data": {
      "text/html": [
       "Find logs at: <code>./wandb/run-20251019_183720-yom1284k/logs</code>"
      ],
      "text/plain": [
       "<IPython.core.display.HTML object>"
      ]
     },
     "metadata": {},
     "output_type": "display_data"
    },
    {
     "name": "stdout",
     "output_type": "stream",
     "text": [
      "Done training for batch_size=16, lr=5e-05: Avg Epoch Time=125.531s, Final Test Acc=89.01%\n"
     ]
    },
    {
     "data": {
      "text/html": [],
      "text/plain": [
       "<IPython.core.display.HTML object>"
      ]
     },
     "metadata": {},
     "output_type": "display_data"
    },
    {
     "data": {
      "text/html": [
       "Tracking run with wandb version 0.22.2"
      ],
      "text/plain": [
       "<IPython.core.display.HTML object>"
      ]
     },
     "metadata": {},
     "output_type": "display_data"
    },
    {
     "data": {
      "text/html": [
       "Run data is saved locally in <code>/content/drive/MyDrive/03-HPML HW2/wandb/run-20251019_185121-ncizyil1</code>"
      ],
      "text/plain": [
       "<IPython.core.display.HTML object>"
      ]
     },
     "metadata": {},
     "output_type": "display_data"
    },
    {
     "data": {
      "text/html": [
       "Syncing run <strong><a href='https://wandb.ai/mah3i-tabesh500-mahdi-saleh-tabesh/hpml-hw2-llm/runs/ncizyil1' target=\"_blank\">bs16_lr1e-4</a></strong> to <a href='https://wandb.ai/mah3i-tabesh500-mahdi-saleh-tabesh/hpml-hw2-llm' target=\"_blank\">Weights & Biases</a> (<a href='https://wandb.me/developer-guide' target=\"_blank\">docs</a>)<br>"
      ],
      "text/plain": [
       "<IPython.core.display.HTML object>"
      ]
     },
     "metadata": {},
     "output_type": "display_data"
    },
    {
     "data": {
      "text/html": [
       " View project at <a href='https://wandb.ai/mah3i-tabesh500-mahdi-saleh-tabesh/hpml-hw2-llm' target=\"_blank\">https://wandb.ai/mah3i-tabesh500-mahdi-saleh-tabesh/hpml-hw2-llm</a>"
      ],
      "text/plain": [
       "<IPython.core.display.HTML object>"
      ]
     },
     "metadata": {},
     "output_type": "display_data"
    },
    {
     "data": {
      "text/html": [
       " View run at <a href='https://wandb.ai/mah3i-tabesh500-mahdi-saleh-tabesh/hpml-hw2-llm/runs/ncizyil1' target=\"_blank\">https://wandb.ai/mah3i-tabesh500-mahdi-saleh-tabesh/hpml-hw2-llm/runs/ncizyil1</a>"
      ],
      "text/plain": [
       "<IPython.core.display.HTML object>"
      ]
     },
     "metadata": {},
     "output_type": "display_data"
    },
    {
     "name": "stderr",
     "output_type": "stream",
     "text": [
      "Some weights of DistilBertForSequenceClassification were not initialized from the model checkpoint at distilbert-base-uncased and are newly initialized: ['classifier.bias', 'classifier.weight', 'pre_classifier.bias', 'pre_classifier.weight']\n",
      "You should probably TRAIN this model on a down-stream task to be able to use it for predictions and inference.\n"
     ]
    },
    {
     "data": {
      "text/html": [],
      "text/plain": [
       "<IPython.core.display.HTML object>"
      ]
     },
     "metadata": {},
     "output_type": "display_data"
    },
    {
     "data": {
      "text/html": [
       "<br>    <style><br>        .wandb-row {<br>            display: flex;<br>            flex-direction: row;<br>            flex-wrap: wrap;<br>            justify-content: flex-start;<br>            width: 100%;<br>        }<br>        .wandb-col {<br>            display: flex;<br>            flex-direction: column;<br>            flex-basis: 100%;<br>            flex: 1;<br>            padding: 10px;<br>        }<br>    </style><br><div class=\"wandb-row\"><div class=\"wandb-col\"><h3>Run history:</h3><br/><table class=\"wandb\"><tr><td>test/acc</td><td>█▇▁▃▂</td></tr><tr><td>time/compute</td><td>██▄▄▁</td></tr><tr><td>time/data</td><td>█▅▆▅▁</td></tr><tr><td>time/epoch</td><td>█▆▅▅▁</td></tr><tr><td>train/acc</td><td>▁▅▇██</td></tr><tr><td>train/loss</td><td>█▄▂▂▁</td></tr></table><br/></div><div class=\"wandb-col\"><h3>Run summary:</h3><br/><table class=\"wandb\"><tr><td>test/acc</td><td>0.83592</td></tr><tr><td>time/compute</td><td>120.47009</td></tr><tr><td>time/data</td><td>4.01226</td></tr><tr><td>time/epoch</td><td>125.22064</td></tr><tr><td>train/acc</td><td>0.98064</td></tr><tr><td>train/loss</td><td>0.05953</td></tr></table><br/></div></div>"
      ],
      "text/plain": [
       "<IPython.core.display.HTML object>"
      ]
     },
     "metadata": {},
     "output_type": "display_data"
    },
    {
     "data": {
      "text/html": [
       " View run <strong style=\"color:#cdcd00\">bs16_lr1e-4</strong> at: <a href='https://wandb.ai/mah3i-tabesh500-mahdi-saleh-tabesh/hpml-hw2-llm/runs/ncizyil1' target=\"_blank\">https://wandb.ai/mah3i-tabesh500-mahdi-saleh-tabesh/hpml-hw2-llm/runs/ncizyil1</a><br> View project at: <a href='https://wandb.ai/mah3i-tabesh500-mahdi-saleh-tabesh/hpml-hw2-llm' target=\"_blank\">https://wandb.ai/mah3i-tabesh500-mahdi-saleh-tabesh/hpml-hw2-llm</a><br>Synced 5 W&B file(s), 0 media file(s), 0 artifact file(s) and 0 other file(s)"
      ],
      "text/plain": [
       "<IPython.core.display.HTML object>"
      ]
     },
     "metadata": {},
     "output_type": "display_data"
    },
    {
     "data": {
      "text/html": [
       "Find logs at: <code>./wandb/run-20251019_185121-ncizyil1/logs</code>"
      ],
      "text/plain": [
       "<IPython.core.display.HTML object>"
      ]
     },
     "metadata": {},
     "output_type": "display_data"
    },
    {
     "name": "stdout",
     "output_type": "stream",
     "text": [
      "Done training for batch_size=16, lr=0.0001: Avg Epoch Time=125.459s, Final Test Acc=83.59%\n"
     ]
    },
    {
     "data": {
      "text/html": [],
      "text/plain": [
       "<IPython.core.display.HTML object>"
      ]
     },
     "metadata": {},
     "output_type": "display_data"
    },
    {
     "data": {
      "text/html": [
       "Tracking run with wandb version 0.22.2"
      ],
      "text/plain": [
       "<IPython.core.display.HTML object>"
      ]
     },
     "metadata": {},
     "output_type": "display_data"
    },
    {
     "data": {
      "text/html": [
       "Run data is saved locally in <code>/content/drive/MyDrive/03-HPML HW2/wandb/run-20251019_190521-q8p66mcd</code>"
      ],
      "text/plain": [
       "<IPython.core.display.HTML object>"
      ]
     },
     "metadata": {},
     "output_type": "display_data"
    },
    {
     "data": {
      "text/html": [
       "Syncing run <strong><a href='https://wandb.ai/mah3i-tabesh500-mahdi-saleh-tabesh/hpml-hw2-llm/runs/q8p66mcd' target=\"_blank\">bs16_lr5e-4</a></strong> to <a href='https://wandb.ai/mah3i-tabesh500-mahdi-saleh-tabesh/hpml-hw2-llm' target=\"_blank\">Weights & Biases</a> (<a href='https://wandb.me/developer-guide' target=\"_blank\">docs</a>)<br>"
      ],
      "text/plain": [
       "<IPython.core.display.HTML object>"
      ]
     },
     "metadata": {},
     "output_type": "display_data"
    },
    {
     "data": {
      "text/html": [
       " View project at <a href='https://wandb.ai/mah3i-tabesh500-mahdi-saleh-tabesh/hpml-hw2-llm' target=\"_blank\">https://wandb.ai/mah3i-tabesh500-mahdi-saleh-tabesh/hpml-hw2-llm</a>"
      ],
      "text/plain": [
       "<IPython.core.display.HTML object>"
      ]
     },
     "metadata": {},
     "output_type": "display_data"
    },
    {
     "data": {
      "text/html": [
       " View run at <a href='https://wandb.ai/mah3i-tabesh500-mahdi-saleh-tabesh/hpml-hw2-llm/runs/q8p66mcd' target=\"_blank\">https://wandb.ai/mah3i-tabesh500-mahdi-saleh-tabesh/hpml-hw2-llm/runs/q8p66mcd</a>"
      ],
      "text/plain": [
       "<IPython.core.display.HTML object>"
      ]
     },
     "metadata": {},
     "output_type": "display_data"
    },
    {
     "name": "stderr",
     "output_type": "stream",
     "text": [
      "Some weights of DistilBertForSequenceClassification were not initialized from the model checkpoint at distilbert-base-uncased and are newly initialized: ['classifier.bias', 'classifier.weight', 'pre_classifier.bias', 'pre_classifier.weight']\n",
      "You should probably TRAIN this model on a down-stream task to be able to use it for predictions and inference.\n"
     ]
    },
    {
     "data": {
      "text/html": [],
      "text/plain": [
       "<IPython.core.display.HTML object>"
      ]
     },
     "metadata": {},
     "output_type": "display_data"
    },
    {
     "data": {
      "text/html": [
       "<br>    <style><br>        .wandb-row {<br>            display: flex;<br>            flex-direction: row;<br>            flex-wrap: wrap;<br>            justify-content: flex-start;<br>            width: 100%;<br>        }<br>        .wandb-col {<br>            display: flex;<br>            flex-direction: column;<br>            flex-basis: 100%;<br>            flex: 1;<br>            padding: 10px;<br>        }<br>    </style><br><div class=\"wandb-row\"><div class=\"wandb-col\"><h3>Run history:</h3><br/><table class=\"wandb\"><tr><td>test/acc</td><td>▁▁▁▁▁</td></tr><tr><td>time/compute</td><td>█▂▄▃▁</td></tr><tr><td>time/data</td><td>█▄▂▁▃</td></tr><tr><td>time/epoch</td><td>█▃▃▁▂</td></tr><tr><td>train/acc</td><td>▄▃█▁▄</td></tr><tr><td>train/loss</td><td>█▁▁▁▁</td></tr></table><br/></div><div class=\"wandb-col\"><h3>Run summary:</h3><br/><table class=\"wandb\"><tr><td>test/acc</td><td>0.5</td></tr><tr><td>time/compute</td><td>120.38261</td></tr><tr><td>time/data</td><td>3.86102</td></tr><tr><td>time/epoch</td><td>124.87919</td></tr><tr><td>train/acc</td><td>0.49924</td></tr><tr><td>train/loss</td><td>0.69321</td></tr></table><br/></div></div>"
      ],
      "text/plain": [
       "<IPython.core.display.HTML object>"
      ]
     },
     "metadata": {},
     "output_type": "display_data"
    },
    {
     "data": {
      "text/html": [
       " View run <strong style=\"color:#cdcd00\">bs16_lr5e-4</strong> at: <a href='https://wandb.ai/mah3i-tabesh500-mahdi-saleh-tabesh/hpml-hw2-llm/runs/q8p66mcd' target=\"_blank\">https://wandb.ai/mah3i-tabesh500-mahdi-saleh-tabesh/hpml-hw2-llm/runs/q8p66mcd</a><br> View project at: <a href='https://wandb.ai/mah3i-tabesh500-mahdi-saleh-tabesh/hpml-hw2-llm' target=\"_blank\">https://wandb.ai/mah3i-tabesh500-mahdi-saleh-tabesh/hpml-hw2-llm</a><br>Synced 5 W&B file(s), 0 media file(s), 0 artifact file(s) and 0 other file(s)"
      ],
      "text/plain": [
       "<IPython.core.display.HTML object>"
      ]
     },
     "metadata": {},
     "output_type": "display_data"
    },
    {
     "data": {
      "text/html": [
       "Find logs at: <code>./wandb/run-20251019_190521-q8p66mcd/logs</code>"
      ],
      "text/plain": [
       "<IPython.core.display.HTML object>"
      ]
     },
     "metadata": {},
     "output_type": "display_data"
    },
    {
     "name": "stdout",
     "output_type": "stream",
     "text": [
      "Done training for batch_size=16, lr=0.0005: Avg Epoch Time=125.006s, Final Test Acc=50.00%\n"
     ]
    },
    {
     "data": {
      "text/html": [],
      "text/plain": [
       "<IPython.core.display.HTML object>"
      ]
     },
     "metadata": {},
     "output_type": "display_data"
    },
    {
     "data": {
      "text/html": [
       "Tracking run with wandb version 0.22.2"
      ],
      "text/plain": [
       "<IPython.core.display.HTML object>"
      ]
     },
     "metadata": {},
     "output_type": "display_data"
    },
    {
     "data": {
      "text/html": [
       "Run data is saved locally in <code>/content/drive/MyDrive/03-HPML HW2/wandb/run-20251019_191917-nk9pt2ud</code>"
      ],
      "text/plain": [
       "<IPython.core.display.HTML object>"
      ]
     },
     "metadata": {},
     "output_type": "display_data"
    },
    {
     "data": {
      "text/html": [
       "Syncing run <strong><a href='https://wandb.ai/mah3i-tabesh500-mahdi-saleh-tabesh/hpml-hw2-llm/runs/nk9pt2ud' target=\"_blank\">bs32_lr5e-5</a></strong> to <a href='https://wandb.ai/mah3i-tabesh500-mahdi-saleh-tabesh/hpml-hw2-llm' target=\"_blank\">Weights & Biases</a> (<a href='https://wandb.me/developer-guide' target=\"_blank\">docs</a>)<br>"
      ],
      "text/plain": [
       "<IPython.core.display.HTML object>"
      ]
     },
     "metadata": {},
     "output_type": "display_data"
    },
    {
     "data": {
      "text/html": [
       " View project at <a href='https://wandb.ai/mah3i-tabesh500-mahdi-saleh-tabesh/hpml-hw2-llm' target=\"_blank\">https://wandb.ai/mah3i-tabesh500-mahdi-saleh-tabesh/hpml-hw2-llm</a>"
      ],
      "text/plain": [
       "<IPython.core.display.HTML object>"
      ]
     },
     "metadata": {},
     "output_type": "display_data"
    },
    {
     "data": {
      "text/html": [
       " View run at <a href='https://wandb.ai/mah3i-tabesh500-mahdi-saleh-tabesh/hpml-hw2-llm/runs/nk9pt2ud' target=\"_blank\">https://wandb.ai/mah3i-tabesh500-mahdi-saleh-tabesh/hpml-hw2-llm/runs/nk9pt2ud</a>"
      ],
      "text/plain": [
       "<IPython.core.display.HTML object>"
      ]
     },
     "metadata": {},
     "output_type": "display_data"
    },
    {
     "name": "stderr",
     "output_type": "stream",
     "text": [
      "Some weights of DistilBertForSequenceClassification were not initialized from the model checkpoint at distilbert-base-uncased and are newly initialized: ['classifier.bias', 'classifier.weight', 'pre_classifier.bias', 'pre_classifier.weight']\n",
      "You should probably TRAIN this model on a down-stream task to be able to use it for predictions and inference.\n"
     ]
    },
    {
     "data": {
      "text/html": [],
      "text/plain": [
       "<IPython.core.display.HTML object>"
      ]
     },
     "metadata": {},
     "output_type": "display_data"
    },
    {
     "data": {
      "text/html": [
       "<br>    <style><br>        .wandb-row {<br>            display: flex;<br>            flex-direction: row;<br>            flex-wrap: wrap;<br>            justify-content: flex-start;<br>            width: 100%;<br>        }<br>        .wandb-col {<br>            display: flex;<br>            flex-direction: column;<br>            flex-basis: 100%;<br>            flex: 1;<br>            padding: 10px;<br>        }<br>    </style><br><div class=\"wandb-row\"><div class=\"wandb-col\"><h3>Run history:</h3><br/><table class=\"wandb\"><tr><td>test/acc</td><td>█▆▅▁▃</td></tr><tr><td>time/compute</td><td>█▂▁▁▇</td></tr><tr><td>time/data</td><td>█▁▃▁▇</td></tr><tr><td>time/epoch</td><td>█▂▁▁▇</td></tr><tr><td>train/acc</td><td>▁▅▇██</td></tr><tr><td>train/loss</td><td>█▄▂▁▁</td></tr></table><br/></div><div class=\"wandb-col\"><h3>Run summary:</h3><br/><table class=\"wandb\"><tr><td>test/acc</td><td>0.9014</td></tr><tr><td>time/compute</td><td>112.00905</td></tr><tr><td>time/data</td><td>2.31971</td></tr><tr><td>time/epoch</td><td>114.83656</td></tr><tr><td>train/acc</td><td>0.99008</td></tr><tr><td>train/loss</td><td>0.03205</td></tr></table><br/></div></div>"
      ],
      "text/plain": [
       "<IPython.core.display.HTML object>"
      ]
     },
     "metadata": {},
     "output_type": "display_data"
    },
    {
     "data": {
      "text/html": [
       " View run <strong style=\"color:#cdcd00\">bs32_lr5e-5</strong> at: <a href='https://wandb.ai/mah3i-tabesh500-mahdi-saleh-tabesh/hpml-hw2-llm/runs/nk9pt2ud' target=\"_blank\">https://wandb.ai/mah3i-tabesh500-mahdi-saleh-tabesh/hpml-hw2-llm/runs/nk9pt2ud</a><br> View project at: <a href='https://wandb.ai/mah3i-tabesh500-mahdi-saleh-tabesh/hpml-hw2-llm' target=\"_blank\">https://wandb.ai/mah3i-tabesh500-mahdi-saleh-tabesh/hpml-hw2-llm</a><br>Synced 5 W&B file(s), 0 media file(s), 0 artifact file(s) and 0 other file(s)"
      ],
      "text/plain": [
       "<IPython.core.display.HTML object>"
      ]
     },
     "metadata": {},
     "output_type": "display_data"
    },
    {
     "data": {
      "text/html": [
       "Find logs at: <code>./wandb/run-20251019_191917-nk9pt2ud/logs</code>"
      ],
      "text/plain": [
       "<IPython.core.display.HTML object>"
      ]
     },
     "metadata": {},
     "output_type": "display_data"
    },
    {
     "name": "stdout",
     "output_type": "stream",
     "text": [
      "Done training for batch_size=32, lr=5e-05: Avg Epoch Time=114.761s, Final Test Acc=90.14%\n"
     ]
    },
    {
     "data": {
      "text/html": [],
      "text/plain": [
       "<IPython.core.display.HTML object>"
      ]
     },
     "metadata": {},
     "output_type": "display_data"
    },
    {
     "data": {
      "text/html": [
       "Tracking run with wandb version 0.22.2"
      ],
      "text/plain": [
       "<IPython.core.display.HTML object>"
      ]
     },
     "metadata": {},
     "output_type": "display_data"
    },
    {
     "data": {
      "text/html": [
       "Run data is saved locally in <code>/content/drive/MyDrive/03-HPML HW2/wandb/run-20251019_193203-hq8jlfc9</code>"
      ],
      "text/plain": [
       "<IPython.core.display.HTML object>"
      ]
     },
     "metadata": {},
     "output_type": "display_data"
    },
    {
     "data": {
      "text/html": [
       "Syncing run <strong><a href='https://wandb.ai/mah3i-tabesh500-mahdi-saleh-tabesh/hpml-hw2-llm/runs/hq8jlfc9' target=\"_blank\">bs32_lr1e-4</a></strong> to <a href='https://wandb.ai/mah3i-tabesh500-mahdi-saleh-tabesh/hpml-hw2-llm' target=\"_blank\">Weights & Biases</a> (<a href='https://wandb.me/developer-guide' target=\"_blank\">docs</a>)<br>"
      ],
      "text/plain": [
       "<IPython.core.display.HTML object>"
      ]
     },
     "metadata": {},
     "output_type": "display_data"
    },
    {
     "data": {
      "text/html": [
       " View project at <a href='https://wandb.ai/mah3i-tabesh500-mahdi-saleh-tabesh/hpml-hw2-llm' target=\"_blank\">https://wandb.ai/mah3i-tabesh500-mahdi-saleh-tabesh/hpml-hw2-llm</a>"
      ],
      "text/plain": [
       "<IPython.core.display.HTML object>"
      ]
     },
     "metadata": {},
     "output_type": "display_data"
    },
    {
     "data": {
      "text/html": [
       " View run at <a href='https://wandb.ai/mah3i-tabesh500-mahdi-saleh-tabesh/hpml-hw2-llm/runs/hq8jlfc9' target=\"_blank\">https://wandb.ai/mah3i-tabesh500-mahdi-saleh-tabesh/hpml-hw2-llm/runs/hq8jlfc9</a>"
      ],
      "text/plain": [
       "<IPython.core.display.HTML object>"
      ]
     },
     "metadata": {},
     "output_type": "display_data"
    },
    {
     "name": "stderr",
     "output_type": "stream",
     "text": [
      "Some weights of DistilBertForSequenceClassification were not initialized from the model checkpoint at distilbert-base-uncased and are newly initialized: ['classifier.bias', 'classifier.weight', 'pre_classifier.bias', 'pre_classifier.weight']\n",
      "You should probably TRAIN this model on a down-stream task to be able to use it for predictions and inference.\n"
     ]
    },
    {
     "data": {
      "text/html": [],
      "text/plain": [
       "<IPython.core.display.HTML object>"
      ]
     },
     "metadata": {},
     "output_type": "display_data"
    },
    {
     "data": {
      "text/html": [
       "<br>    <style><br>        .wandb-row {<br>            display: flex;<br>            flex-direction: row;<br>            flex-wrap: wrap;<br>            justify-content: flex-start;<br>            width: 100%;<br>        }<br>        .wandb-col {<br>            display: flex;<br>            flex-direction: column;<br>            flex-basis: 100%;<br>            flex: 1;<br>            padding: 10px;<br>        }<br>    </style><br><div class=\"wandb-row\"><div class=\"wandb-col\"><h3>Run history:</h3><br/><table class=\"wandb\"><tr><td>test/acc</td><td>█▅▅▆▁</td></tr><tr><td>time/compute</td><td>█▂▅▁▃</td></tr><tr><td>time/data</td><td>▁▂█▆▆</td></tr><tr><td>time/epoch</td><td>█▁█▃▅</td></tr><tr><td>train/acc</td><td>▁▅▇██</td></tr><tr><td>train/loss</td><td>█▄▂▁▁</td></tr></table><br/></div><div class=\"wandb-col\"><h3>Run summary:</h3><br/><table class=\"wandb\"><tr><td>test/acc</td><td>0.86096</td></tr><tr><td>time/compute</td><td>111.90139</td></tr><tr><td>time/data</td><td>2.31844</td></tr><tr><td>time/epoch</td><td>114.72537</td></tr><tr><td>train/acc</td><td>0.987</td></tr><tr><td>train/loss</td><td>0.0396</td></tr></table><br/></div></div>"
      ],
      "text/plain": [
       "<IPython.core.display.HTML object>"
      ]
     },
     "metadata": {},
     "output_type": "display_data"
    },
    {
     "data": {
      "text/html": [
       " View run <strong style=\"color:#cdcd00\">bs32_lr1e-4</strong> at: <a href='https://wandb.ai/mah3i-tabesh500-mahdi-saleh-tabesh/hpml-hw2-llm/runs/hq8jlfc9' target=\"_blank\">https://wandb.ai/mah3i-tabesh500-mahdi-saleh-tabesh/hpml-hw2-llm/runs/hq8jlfc9</a><br> View project at: <a href='https://wandb.ai/mah3i-tabesh500-mahdi-saleh-tabesh/hpml-hw2-llm' target=\"_blank\">https://wandb.ai/mah3i-tabesh500-mahdi-saleh-tabesh/hpml-hw2-llm</a><br>Synced 5 W&B file(s), 0 media file(s), 0 artifact file(s) and 0 other file(s)"
      ],
      "text/plain": [
       "<IPython.core.display.HTML object>"
      ]
     },
     "metadata": {},
     "output_type": "display_data"
    },
    {
     "data": {
      "text/html": [
       "Find logs at: <code>./wandb/run-20251019_193203-hq8jlfc9/logs</code>"
      ],
      "text/plain": [
       "<IPython.core.display.HTML object>"
      ]
     },
     "metadata": {},
     "output_type": "display_data"
    },
    {
     "name": "stdout",
     "output_type": "stream",
     "text": [
      "Done training for batch_size=32, lr=0.0001: Avg Epoch Time=114.724s, Final Test Acc=86.10%\n"
     ]
    },
    {
     "data": {
      "text/html": [],
      "text/plain": [
       "<IPython.core.display.HTML object>"
      ]
     },
     "metadata": {},
     "output_type": "display_data"
    },
    {
     "data": {
      "text/html": [
       "Tracking run with wandb version 0.22.2"
      ],
      "text/plain": [
       "<IPython.core.display.HTML object>"
      ]
     },
     "metadata": {},
     "output_type": "display_data"
    },
    {
     "data": {
      "text/html": [
       "Run data is saved locally in <code>/content/drive/MyDrive/03-HPML HW2/wandb/run-20251019_194449-oy2ieuzs</code>"
      ],
      "text/plain": [
       "<IPython.core.display.HTML object>"
      ]
     },
     "metadata": {},
     "output_type": "display_data"
    },
    {
     "data": {
      "text/html": [
       "Syncing run <strong><a href='https://wandb.ai/mah3i-tabesh500-mahdi-saleh-tabesh/hpml-hw2-llm/runs/oy2ieuzs' target=\"_blank\">bs32_lr5e-4</a></strong> to <a href='https://wandb.ai/mah3i-tabesh500-mahdi-saleh-tabesh/hpml-hw2-llm' target=\"_blank\">Weights & Biases</a> (<a href='https://wandb.me/developer-guide' target=\"_blank\">docs</a>)<br>"
      ],
      "text/plain": [
       "<IPython.core.display.HTML object>"
      ]
     },
     "metadata": {},
     "output_type": "display_data"
    },
    {
     "data": {
      "text/html": [
       " View project at <a href='https://wandb.ai/mah3i-tabesh500-mahdi-saleh-tabesh/hpml-hw2-llm' target=\"_blank\">https://wandb.ai/mah3i-tabesh500-mahdi-saleh-tabesh/hpml-hw2-llm</a>"
      ],
      "text/plain": [
       "<IPython.core.display.HTML object>"
      ]
     },
     "metadata": {},
     "output_type": "display_data"
    },
    {
     "data": {
      "text/html": [
       " View run at <a href='https://wandb.ai/mah3i-tabesh500-mahdi-saleh-tabesh/hpml-hw2-llm/runs/oy2ieuzs' target=\"_blank\">https://wandb.ai/mah3i-tabesh500-mahdi-saleh-tabesh/hpml-hw2-llm/runs/oy2ieuzs</a>"
      ],
      "text/plain": [
       "<IPython.core.display.HTML object>"
      ]
     },
     "metadata": {},
     "output_type": "display_data"
    },
    {
     "name": "stderr",
     "output_type": "stream",
     "text": [
      "Some weights of DistilBertForSequenceClassification were not initialized from the model checkpoint at distilbert-base-uncased and are newly initialized: ['classifier.bias', 'classifier.weight', 'pre_classifier.bias', 'pre_classifier.weight']\n",
      "You should probably TRAIN this model on a down-stream task to be able to use it for predictions and inference.\n"
     ]
    },
    {
     "data": {
      "text/html": [],
      "text/plain": [
       "<IPython.core.display.HTML object>"
      ]
     },
     "metadata": {},
     "output_type": "display_data"
    },
    {
     "data": {
      "text/html": [
       "<br>    <style><br>        .wandb-row {<br>            display: flex;<br>            flex-direction: row;<br>            flex-wrap: wrap;<br>            justify-content: flex-start;<br>            width: 100%;<br>        }<br>        .wandb-col {<br>            display: flex;<br>            flex-direction: column;<br>            flex-basis: 100%;<br>            flex: 1;<br>            padding: 10px;<br>        }<br>    </style><br><div class=\"wandb-row\"><div class=\"wandb-col\"><h3>Run history:</h3><br/><table class=\"wandb\"><tr><td>test/acc</td><td>▁▁▁▁▁</td></tr><tr><td>time/compute</td><td>▂▁▂▇█</td></tr><tr><td>time/data</td><td>▁▁▂█▇</td></tr><tr><td>time/epoch</td><td>▁▁▂▇█</td></tr><tr><td>train/acc</td><td>▁█▃▂█</td></tr><tr><td>train/loss</td><td>█▁▂▁▁</td></tr></table><br/></div><div class=\"wandb-col\"><h3>Run summary:</h3><br/><table class=\"wandb\"><tr><td>test/acc</td><td>0.5</td></tr><tr><td>time/compute</td><td>112.01856</td></tr><tr><td>time/data</td><td>2.35531</td></tr><tr><td>time/epoch</td><td>114.89043</td></tr><tr><td>train/acc</td><td>0.5022</td></tr><tr><td>train/loss</td><td>0.69333</td></tr></table><br/></div></div>"
      ],
      "text/plain": [
       "<IPython.core.display.HTML object>"
      ]
     },
     "metadata": {},
     "output_type": "display_data"
    },
    {
     "data": {
      "text/html": [
       " View run <strong style=\"color:#cdcd00\">bs32_lr5e-4</strong> at: <a href='https://wandb.ai/mah3i-tabesh500-mahdi-saleh-tabesh/hpml-hw2-llm/runs/oy2ieuzs' target=\"_blank\">https://wandb.ai/mah3i-tabesh500-mahdi-saleh-tabesh/hpml-hw2-llm/runs/oy2ieuzs</a><br> View project at: <a href='https://wandb.ai/mah3i-tabesh500-mahdi-saleh-tabesh/hpml-hw2-llm' target=\"_blank\">https://wandb.ai/mah3i-tabesh500-mahdi-saleh-tabesh/hpml-hw2-llm</a><br>Synced 5 W&B file(s), 0 media file(s), 0 artifact file(s) and 0 other file(s)"
      ],
      "text/plain": [
       "<IPython.core.display.HTML object>"
      ]
     },
     "metadata": {},
     "output_type": "display_data"
    },
    {
     "data": {
      "text/html": [
       "Find logs at: <code>./wandb/run-20251019_194449-oy2ieuzs/logs</code>"
      ],
      "text/plain": [
       "<IPython.core.display.HTML object>"
      ]
     },
     "metadata": {},
     "output_type": "display_data"
    },
    {
     "name": "stdout",
     "output_type": "stream",
     "text": [
      "Done training for batch_size=32, lr=0.0005: Avg Epoch Time=114.762s, Final Test Acc=50.00%\n"
     ]
    },
    {
     "data": {
      "text/html": [],
      "text/plain": [
       "<IPython.core.display.HTML object>"
      ]
     },
     "metadata": {},
     "output_type": "display_data"
    },
    {
     "data": {
      "text/html": [
       "Tracking run with wandb version 0.22.2"
      ],
      "text/plain": [
       "<IPython.core.display.HTML object>"
      ]
     },
     "metadata": {},
     "output_type": "display_data"
    },
    {
     "data": {
      "text/html": [
       "Run data is saved locally in <code>/content/drive/MyDrive/03-HPML HW2/wandb/run-20251019_195736-zisxzlrp</code>"
      ],
      "text/plain": [
       "<IPython.core.display.HTML object>"
      ]
     },
     "metadata": {},
     "output_type": "display_data"
    },
    {
     "data": {
      "text/html": [
       "Syncing run <strong><a href='https://wandb.ai/mah3i-tabesh500-mahdi-saleh-tabesh/hpml-hw2-llm/runs/zisxzlrp' target=\"_blank\">bs64_lr5e-5</a></strong> to <a href='https://wandb.ai/mah3i-tabesh500-mahdi-saleh-tabesh/hpml-hw2-llm' target=\"_blank\">Weights & Biases</a> (<a href='https://wandb.me/developer-guide' target=\"_blank\">docs</a>)<br>"
      ],
      "text/plain": [
       "<IPython.core.display.HTML object>"
      ]
     },
     "metadata": {},
     "output_type": "display_data"
    },
    {
     "data": {
      "text/html": [
       " View project at <a href='https://wandb.ai/mah3i-tabesh500-mahdi-saleh-tabesh/hpml-hw2-llm' target=\"_blank\">https://wandb.ai/mah3i-tabesh500-mahdi-saleh-tabesh/hpml-hw2-llm</a>"
      ],
      "text/plain": [
       "<IPython.core.display.HTML object>"
      ]
     },
     "metadata": {},
     "output_type": "display_data"
    },
    {
     "data": {
      "text/html": [
       " View run at <a href='https://wandb.ai/mah3i-tabesh500-mahdi-saleh-tabesh/hpml-hw2-llm/runs/zisxzlrp' target=\"_blank\">https://wandb.ai/mah3i-tabesh500-mahdi-saleh-tabesh/hpml-hw2-llm/runs/zisxzlrp</a>"
      ],
      "text/plain": [
       "<IPython.core.display.HTML object>"
      ]
     },
     "metadata": {},
     "output_type": "display_data"
    },
    {
     "name": "stderr",
     "output_type": "stream",
     "text": [
      "Some weights of DistilBertForSequenceClassification were not initialized from the model checkpoint at distilbert-base-uncased and are newly initialized: ['classifier.bias', 'classifier.weight', 'pre_classifier.bias', 'pre_classifier.weight']\n",
      "You should probably TRAIN this model on a down-stream task to be able to use it for predictions and inference.\n"
     ]
    },
    {
     "data": {
      "text/html": [],
      "text/plain": [
       "<IPython.core.display.HTML object>"
      ]
     },
     "metadata": {},
     "output_type": "display_data"
    },
    {
     "data": {
      "text/html": [
       "<br>    <style><br>        .wandb-row {<br>            display: flex;<br>            flex-direction: row;<br>            flex-wrap: wrap;<br>            justify-content: flex-start;<br>            width: 100%;<br>        }<br>        .wandb-col {<br>            display: flex;<br>            flex-direction: column;<br>            flex-basis: 100%;<br>            flex: 1;<br>            padding: 10px;<br>        }<br>    </style><br><div class=\"wandb-row\"><div class=\"wandb-col\"><h3>Run history:</h3><br/><table class=\"wandb\"><tr><td>test/acc</td><td>██▇▁▅</td></tr><tr><td>time/compute</td><td>█▃▄▁▂</td></tr><tr><td>time/data</td><td>▄▂█▁█</td></tr><tr><td>time/epoch</td><td>█▂█▁▇</td></tr><tr><td>train/acc</td><td>▁▅▇██</td></tr><tr><td>train/loss</td><td>█▄▂▁▁</td></tr></table><br/></div><div class=\"wandb-col\"><h3>Run summary:</h3><br/><table class=\"wandb\"><tr><td>test/acc</td><td>0.90212</td></tr><tr><td>time/compute</td><td>106.29513</td></tr><tr><td>time/data</td><td>1.48687</td></tr><tr><td>time/epoch</td><td>108.21886</td></tr><tr><td>train/acc</td><td>0.98848</td></tr><tr><td>train/loss</td><td>0.03611</td></tr></table><br/></div></div>"
      ],
      "text/plain": [
       "<IPython.core.display.HTML object>"
      ]
     },
     "metadata": {},
     "output_type": "display_data"
    },
    {
     "data": {
      "text/html": [
       " View run <strong style=\"color:#cdcd00\">bs64_lr5e-5</strong> at: <a href='https://wandb.ai/mah3i-tabesh500-mahdi-saleh-tabesh/hpml-hw2-llm/runs/zisxzlrp' target=\"_blank\">https://wandb.ai/mah3i-tabesh500-mahdi-saleh-tabesh/hpml-hw2-llm/runs/zisxzlrp</a><br> View project at: <a href='https://wandb.ai/mah3i-tabesh500-mahdi-saleh-tabesh/hpml-hw2-llm' target=\"_blank\">https://wandb.ai/mah3i-tabesh500-mahdi-saleh-tabesh/hpml-hw2-llm</a><br>Synced 5 W&B file(s), 0 media file(s), 0 artifact file(s) and 0 other file(s)"
      ],
      "text/plain": [
       "<IPython.core.display.HTML object>"
      ]
     },
     "metadata": {},
     "output_type": "display_data"
    },
    {
     "data": {
      "text/html": [
       "Find logs at: <code>./wandb/run-20251019_195736-zisxzlrp/logs</code>"
      ],
      "text/plain": [
       "<IPython.core.display.HTML object>"
      ]
     },
     "metadata": {},
     "output_type": "display_data"
    },
    {
     "name": "stdout",
     "output_type": "stream",
     "text": [
      "Done training for batch_size=64, lr=5e-05: Avg Epoch Time=108.207s, Final Test Acc=90.21%\n"
     ]
    },
    {
     "data": {
      "text/html": [],
      "text/plain": [
       "<IPython.core.display.HTML object>"
      ]
     },
     "metadata": {},
     "output_type": "display_data"
    },
    {
     "data": {
      "text/html": [
       "Tracking run with wandb version 0.22.2"
      ],
      "text/plain": [
       "<IPython.core.display.HTML object>"
      ]
     },
     "metadata": {},
     "output_type": "display_data"
    },
    {
     "data": {
      "text/html": [
       "Run data is saved locally in <code>/content/drive/MyDrive/03-HPML HW2/wandb/run-20251019_200937-tu436dtk</code>"
      ],
      "text/plain": [
       "<IPython.core.display.HTML object>"
      ]
     },
     "metadata": {},
     "output_type": "display_data"
    },
    {
     "data": {
      "text/html": [
       "Syncing run <strong><a href='https://wandb.ai/mah3i-tabesh500-mahdi-saleh-tabesh/hpml-hw2-llm/runs/tu436dtk' target=\"_blank\">bs64_lr1e-4</a></strong> to <a href='https://wandb.ai/mah3i-tabesh500-mahdi-saleh-tabesh/hpml-hw2-llm' target=\"_blank\">Weights & Biases</a> (<a href='https://wandb.me/developer-guide' target=\"_blank\">docs</a>)<br>"
      ],
      "text/plain": [
       "<IPython.core.display.HTML object>"
      ]
     },
     "metadata": {},
     "output_type": "display_data"
    },
    {
     "data": {
      "text/html": [
       " View project at <a href='https://wandb.ai/mah3i-tabesh500-mahdi-saleh-tabesh/hpml-hw2-llm' target=\"_blank\">https://wandb.ai/mah3i-tabesh500-mahdi-saleh-tabesh/hpml-hw2-llm</a>"
      ],
      "text/plain": [
       "<IPython.core.display.HTML object>"
      ]
     },
     "metadata": {},
     "output_type": "display_data"
    },
    {
     "data": {
      "text/html": [
       " View run at <a href='https://wandb.ai/mah3i-tabesh500-mahdi-saleh-tabesh/hpml-hw2-llm/runs/tu436dtk' target=\"_blank\">https://wandb.ai/mah3i-tabesh500-mahdi-saleh-tabesh/hpml-hw2-llm/runs/tu436dtk</a>"
      ],
      "text/plain": [
       "<IPython.core.display.HTML object>"
      ]
     },
     "metadata": {},
     "output_type": "display_data"
    },
    {
     "name": "stderr",
     "output_type": "stream",
     "text": [
      "Some weights of DistilBertForSequenceClassification were not initialized from the model checkpoint at distilbert-base-uncased and are newly initialized: ['classifier.bias', 'classifier.weight', 'pre_classifier.bias', 'pre_classifier.weight']\n",
      "You should probably TRAIN this model on a down-stream task to be able to use it for predictions and inference.\n"
     ]
    },
    {
     "data": {
      "text/html": [],
      "text/plain": [
       "<IPython.core.display.HTML object>"
      ]
     },
     "metadata": {},
     "output_type": "display_data"
    },
    {
     "data": {
      "text/html": [
       "<br>    <style><br>        .wandb-row {<br>            display: flex;<br>            flex-direction: row;<br>            flex-wrap: wrap;<br>            justify-content: flex-start;<br>            width: 100%;<br>        }<br>        .wandb-col {<br>            display: flex;<br>            flex-direction: column;<br>            flex-basis: 100%;<br>            flex: 1;<br>            padding: 10px;<br>        }<br>    </style><br><div class=\"wandb-row\"><div class=\"wandb-col\"><h3>Run history:</h3><br/><table class=\"wandb\"><tr><td>test/acc</td><td>█▇▁▁▄</td></tr><tr><td>time/compute</td><td>█▄▃▃▁</td></tr><tr><td>time/data</td><td>▂▄▂█▁</td></tr><tr><td>time/epoch</td><td>█▅▃▅▁</td></tr><tr><td>train/acc</td><td>▁▅▇██</td></tr><tr><td>train/loss</td><td>█▄▂▁▁</td></tr></table><br/></div><div class=\"wandb-col\"><h3>Run summary:</h3><br/><table class=\"wandb\"><tr><td>test/acc</td><td>0.89764</td></tr><tr><td>time/compute</td><td>106.2828</td></tr><tr><td>time/data</td><td>1.46857</td></tr><tr><td>time/epoch</td><td>108.1783</td></tr><tr><td>train/acc</td><td>0.98932</td></tr><tr><td>train/loss</td><td>0.03189</td></tr></table><br/></div></div>"
      ],
      "text/plain": [
       "<IPython.core.display.HTML object>"
      ]
     },
     "metadata": {},
     "output_type": "display_data"
    },
    {
     "data": {
      "text/html": [
       " View run <strong style=\"color:#cdcd00\">bs64_lr1e-4</strong> at: <a href='https://wandb.ai/mah3i-tabesh500-mahdi-saleh-tabesh/hpml-hw2-llm/runs/tu436dtk' target=\"_blank\">https://wandb.ai/mah3i-tabesh500-mahdi-saleh-tabesh/hpml-hw2-llm/runs/tu436dtk</a><br> View project at: <a href='https://wandb.ai/mah3i-tabesh500-mahdi-saleh-tabesh/hpml-hw2-llm' target=\"_blank\">https://wandb.ai/mah3i-tabesh500-mahdi-saleh-tabesh/hpml-hw2-llm</a><br>Synced 5 W&B file(s), 0 media file(s), 0 artifact file(s) and 0 other file(s)"
      ],
      "text/plain": [
       "<IPython.core.display.HTML object>"
      ]
     },
     "metadata": {},
     "output_type": "display_data"
    },
    {
     "data": {
      "text/html": [
       "Find logs at: <code>./wandb/run-20251019_200937-tu436dtk/logs</code>"
      ],
      "text/plain": [
       "<IPython.core.display.HTML object>"
      ]
     },
     "metadata": {},
     "output_type": "display_data"
    },
    {
     "name": "stdout",
     "output_type": "stream",
     "text": [
      "Done training for batch_size=64, lr=0.0001: Avg Epoch Time=108.207s, Final Test Acc=89.76%\n"
     ]
    },
    {
     "data": {
      "text/html": [],
      "text/plain": [
       "<IPython.core.display.HTML object>"
      ]
     },
     "metadata": {},
     "output_type": "display_data"
    },
    {
     "data": {
      "text/html": [
       "Tracking run with wandb version 0.22.2"
      ],
      "text/plain": [
       "<IPython.core.display.HTML object>"
      ]
     },
     "metadata": {},
     "output_type": "display_data"
    },
    {
     "data": {
      "text/html": [
       "Run data is saved locally in <code>/content/drive/MyDrive/03-HPML HW2/wandb/run-20251019_202138-4f9xsdt3</code>"
      ],
      "text/plain": [
       "<IPython.core.display.HTML object>"
      ]
     },
     "metadata": {},
     "output_type": "display_data"
    },
    {
     "data": {
      "text/html": [
       "Syncing run <strong><a href='https://wandb.ai/mah3i-tabesh500-mahdi-saleh-tabesh/hpml-hw2-llm/runs/4f9xsdt3' target=\"_blank\">bs64_lr5e-4</a></strong> to <a href='https://wandb.ai/mah3i-tabesh500-mahdi-saleh-tabesh/hpml-hw2-llm' target=\"_blank\">Weights & Biases</a> (<a href='https://wandb.me/developer-guide' target=\"_blank\">docs</a>)<br>"
      ],
      "text/plain": [
       "<IPython.core.display.HTML object>"
      ]
     },
     "metadata": {},
     "output_type": "display_data"
    },
    {
     "data": {
      "text/html": [
       " View project at <a href='https://wandb.ai/mah3i-tabesh500-mahdi-saleh-tabesh/hpml-hw2-llm' target=\"_blank\">https://wandb.ai/mah3i-tabesh500-mahdi-saleh-tabesh/hpml-hw2-llm</a>"
      ],
      "text/plain": [
       "<IPython.core.display.HTML object>"
      ]
     },
     "metadata": {},
     "output_type": "display_data"
    },
    {
     "data": {
      "text/html": [
       " View run at <a href='https://wandb.ai/mah3i-tabesh500-mahdi-saleh-tabesh/hpml-hw2-llm/runs/4f9xsdt3' target=\"_blank\">https://wandb.ai/mah3i-tabesh500-mahdi-saleh-tabesh/hpml-hw2-llm/runs/4f9xsdt3</a>"
      ],
      "text/plain": [
       "<IPython.core.display.HTML object>"
      ]
     },
     "metadata": {},
     "output_type": "display_data"
    },
    {
     "name": "stderr",
     "output_type": "stream",
     "text": [
      "Some weights of DistilBertForSequenceClassification were not initialized from the model checkpoint at distilbert-base-uncased and are newly initialized: ['classifier.bias', 'classifier.weight', 'pre_classifier.bias', 'pre_classifier.weight']\n",
      "You should probably TRAIN this model on a down-stream task to be able to use it for predictions and inference.\n"
     ]
    },
    {
     "data": {
      "text/html": [],
      "text/plain": [
       "<IPython.core.display.HTML object>"
      ]
     },
     "metadata": {},
     "output_type": "display_data"
    },
    {
     "data": {
      "text/html": [
       "<br>    <style><br>        .wandb-row {<br>            display: flex;<br>            flex-direction: row;<br>            flex-wrap: wrap;<br>            justify-content: flex-start;<br>            width: 100%;<br>        }<br>        .wandb-col {<br>            display: flex;<br>            flex-direction: column;<br>            flex-basis: 100%;<br>            flex: 1;<br>            padding: 10px;<br>        }<br>    </style><br><div class=\"wandb-row\"><div class=\"wandb-col\"><h3>Run history:</h3><br/><table class=\"wandb\"><tr><td>test/acc</td><td>▁▁▁▁▁</td></tr><tr><td>time/compute</td><td>█▂▂▁▆</td></tr><tr><td>time/data</td><td>▄█▁▂▁</td></tr><tr><td>time/epoch</td><td>█▆▂▁▆</td></tr><tr><td>train/acc</td><td>█▅▅▁▂</td></tr><tr><td>train/loss</td><td>█▂▁▁▁</td></tr></table><br/></div><div class=\"wandb-col\"><h3>Run summary:</h3><br/><table class=\"wandb\"><tr><td>test/acc</td><td>0.5</td></tr><tr><td>time/compute</td><td>106.30937</td></tr><tr><td>time/data</td><td>1.45201</td></tr><tr><td>time/epoch</td><td>108.19634</td></tr><tr><td>train/acc</td><td>0.49484</td></tr><tr><td>train/loss</td><td>0.69319</td></tr></table><br/></div></div>"
      ],
      "text/plain": [
       "<IPython.core.display.HTML object>"
      ]
     },
     "metadata": {},
     "output_type": "display_data"
    },
    {
     "data": {
      "text/html": [
       " View run <strong style=\"color:#cdcd00\">bs64_lr5e-4</strong> at: <a href='https://wandb.ai/mah3i-tabesh500-mahdi-saleh-tabesh/hpml-hw2-llm/runs/4f9xsdt3' target=\"_blank\">https://wandb.ai/mah3i-tabesh500-mahdi-saleh-tabesh/hpml-hw2-llm/runs/4f9xsdt3</a><br> View project at: <a href='https://wandb.ai/mah3i-tabesh500-mahdi-saleh-tabesh/hpml-hw2-llm' target=\"_blank\">https://wandb.ai/mah3i-tabesh500-mahdi-saleh-tabesh/hpml-hw2-llm</a><br>Synced 5 W&B file(s), 0 media file(s), 0 artifact file(s) and 0 other file(s)"
      ],
      "text/plain": [
       "<IPython.core.display.HTML object>"
      ]
     },
     "metadata": {},
     "output_type": "display_data"
    },
    {
     "data": {
      "text/html": [
       "Find logs at: <code>./wandb/run-20251019_202138-4f9xsdt3/logs</code>"
      ],
      "text/plain": [
       "<IPython.core.display.HTML object>"
      ]
     },
     "metadata": {},
     "output_type": "display_data"
    },
    {
     "name": "stdout",
     "output_type": "stream",
     "text": [
      "Done training for batch_size=64, lr=0.0005: Avg Epoch Time=108.183s, Final Test Acc=50.00%\n"
     ]
    }
   ],
   "source": [
    "import numpy as np\n",
    "import seaborn as sns\n",
    "\n",
    "batch_sizes = [16, 32, 64]\n",
    "learning_rates = [5e-5, 1e-4, 5e-4]\n",
    "results = []\n",
    "\n",
    "for bs in batch_sizes:\n",
    "    for lr in learning_rates:\n",
    "        # Format learning rate for naming (e.g., \"5e-5\", \"1e-4\", \"5e-4\")\n",
    "        if lr == 5e-5:\n",
    "            lr_str = \"5e-5\"\n",
    "        elif lr == 1e-4:\n",
    "            lr_str = \"1e-4\"\n",
    "        elif lr == 5e-4:\n",
    "            lr_str = \"5e-4\"\n",
    "        else:\n",
    "            lr_str = str(lr)\n",
    "        wandb.init(project=\"hpml-hw2-llm\", name=f\"bs{bs}_lr{lr_str}\", group=\"hparam_sweep\",\n",
    "                   config={\"model_name\": model_name, \"max_len\": 256, \"batch_size\": bs, \"lr\": lr,\n",
    "                           \"optimizer\": \"AdamW\", \"num_workers\": 2, \"epochs\": 5, \"device\": \"cuda\", \"compile_mode\": False})\n",
    "        # Reinitialize model, optimizer, and DataLoaders for each configuration\n",
    "        model = DistilBertForSequenceClassification.from_pretrained(model_name, num_labels=2).to('cuda')\n",
    "        optimizer = torch.optim.AdamW(model.parameters(), lr=lr)\n",
    "        train_loader = DataLoader(train_ds, batch_size=bs, shuffle=True, collate_fn=collate_fn, num_workers=2)\n",
    "        test_loader = DataLoader(test_ds, batch_size=bs, shuffle=False, collate_fn=collate_fn, num_workers=2)\n",
    "        epochs = 5\n",
    "        epoch_total_times = []\n",
    "        final_train_loss = None\n",
    "        final_train_acc = None\n",
    "        final_test_acc = None\n",
    "        for epoch in range(1, epochs+1):\n",
    "            model.train()\n",
    "            total_start = time.time()\n",
    "            data_time = 0.0\n",
    "            compute_time = 0.0\n",
    "            batch_end_time = total_start\n",
    "            total_loss = 0.0\n",
    "            correct = 0\n",
    "            total_samples = 0\n",
    "            for batch in train_loader:\n",
    "                current_time = time.time()\n",
    "                data_time += current_time - batch_end_time\n",
    "                batch = {k: v.to('cuda') for k, v in batch.items()}\n",
    "                compute_start = time.time()\n",
    "                optimizer.zero_grad()\n",
    "                outputs = model(**batch)\n",
    "                loss = outputs.loss\n",
    "                logits = outputs.logits\n",
    "                loss.backward()\n",
    "                optimizer.step()\n",
    "                if torch.cuda.is_available():\n",
    "                    torch.cuda.synchronize()\n",
    "                compute_end = time.time()\n",
    "                compute_time += compute_end - compute_start\n",
    "                total_loss += loss.item() * batch[\"labels\"].size(0)\n",
    "                preds = torch.argmax(logits, dim=1)\n",
    "                correct += (preds == batch[\"labels\"]).sum().item()\n",
    "                total_samples += batch[\"labels\"].size(0)\n",
    "                batch_end_time = compute_end\n",
    "            total_end = time.time()\n",
    "            epoch_total_times.append(total_end - total_start)\n",
    "            avg_train_loss = total_loss / total_samples\n",
    "            train_accuracy = correct / total_samples\n",
    "            # Evaluate on test set at epoch end\n",
    "            model.eval()\n",
    "            correct_test = 0\n",
    "            total_test = 0\n",
    "            with torch.no_grad():\n",
    "                for batch in test_loader:\n",
    "                    batch = {k: v.to('cuda') for k, v in batch.items()}\n",
    "                    outputs = model(input_ids=batch[\"input_ids\"], attention_mask=batch[\"attention_mask\"])\n",
    "                    preds = torch.argmax(outputs.logits, dim=1)\n",
    "                    preds = preds.cpu()\n",
    "                    labels = batch[\"labels\"].cpu()\n",
    "                    correct_test += (preds == labels).sum().item()\n",
    "                    total_test += labels.size(0)\n",
    "            test_accuracy = correct_test / total_test\n",
    "            wandb.log({\"train/loss\": avg_train_loss, \"train/acc\": train_accuracy,\n",
    "                       \"test/acc\": test_accuracy, \"time/data\": data_time,\n",
    "                       \"time/compute\": compute_time, \"time/epoch\": epoch_total_times[-1]}, step=epoch)\n",
    "        # End of training for this config\n",
    "        wandb.finish()\n",
    "        avg_epoch_time = float(np.mean(epoch_total_times))\n",
    "        final_train_loss = avg_train_loss\n",
    "        final_train_acc = train_accuracy * 100.0\n",
    "        final_test_acc = test_accuracy * 100.0\n",
    "        results.append((bs, lr, round(avg_epoch_time,3), round(final_train_loss,4),\n",
    "                        round(final_train_acc,2), round(final_test_acc,2)))\n",
    "        print(f\"Done training for batch_size={bs}, lr={lr}: Avg Epoch Time={avg_epoch_time:.3f}s, Final Test Acc={final_test_acc:.2f}%\")\n",
    "\n"
   ]
  },
  {
   "cell_type": "markdown",
   "metadata": {
    "id": "bGS3rIo-nLcB"
   },
   "source": [
    "# Experiment Tracking (Weights & Biases) link of W&B run page.\n",
    "- View run bs16_lr5e-5 at: https://wandb.ai/mah3i-tabesh500-mahdi-saleh-tabesh/hpml-hw2-llm/runs/yom1284k\n",
    "- View run bs16_lr1e-4 at: https://wandb.ai/mah3i-tabesh500-mahdi-saleh-tabesh/hpml-hw2-llm/runs/ncizyil1\n",
    "\n",
    "- View run bs16_lr5e-4 at: https://wandb.ai/mah3i-tabesh500-mahdi-saleh-tabesh/hpml-hw2-llm/runs/q8p66mcd\n",
    "- View run bs32_lr5e-5 at: https://wandb.ai/mah3i-tabesh500-mahdi-saleh-tabesh/hpml-hw2-llm/runs/nk9pt2ud\n",
    "- View run bs32_lr1e-4 at: https://wandb.ai/mah3i-tabesh500-mahdi-saleh-tabesh/hpml-hw2-llm/runs/hq8jlfc9\n",
    "- View run bs32_lr5e-4 at: https://wandb.ai/mah3i-tabesh500-mahdi-saleh-tabesh/hpml-hw2-llm/runs/oy2ieuzs\n",
    "- View run bs64_lr5e-5 at: https://wandb.ai/mah3i-tabesh500-mahdi-saleh-tabesh/hpml-hw2-llm/runs/zisxzlrp\n",
    "- View run bs64_lr1e-4 at: https://wandb.ai/mah3i-tabesh500-mahdi-saleh-tabesh/hpml-hw2-llm/runs/tu436dtk\n",
    "- View run bs64_lr5e-4 at: https://wandb.ai/mah3i-tabesh500-mahdi-saleh-tabesh/hpml-hw2-llm/runs/4f9xsdt3\n",
    "- View project at: https://wandb.ai/mah3i-tabesh500-mahdi-saleh-tabesh/hpml-hw2-llm\n",
    "- Synced 5 W&B file(s), 0 media file(s), 0 artifact file(s) and 0 other file(s)\n",
    "- Find logs at: ./wandb/run-20251019_202138-4f9xsdt3/logs"
   ]
  },
  {
   "cell_type": "code",
   "execution_count": null,
   "metadata": {
    "colab": {
     "base_uri": "https://localhost:8080/"
    },
    "executionInfo": {
     "elapsed": 15,
     "status": "ok",
     "timestamp": 1760906018788,
     "user": {
      "displayName": "Mahdi Saleh Tabesh",
      "userId": "07240825415212703464"
     },
     "user_tz": 240
    },
    "id": "0jIhhTVqvk_Z",
    "outputId": "ae4c3011-c9ee-40f1-8501-e90d113da2df"
   },
   "outputs": [
    {
     "name": "stdout",
     "output_type": "stream",
     "text": [
      "\n",
      "Table T6: Results for Batch size vs Learning rate sweep\n",
      "\n",
      "   Batch       LR  Avg Epoch Time (s)  Final Train Loss  Train Acc  Test Acc\n",
      "0     16  0.00005             125.531            0.0365      98.72     89.01\n",
      "1     16  0.00010             125.459            0.0595      98.06     83.59\n",
      "2     16  0.00050             125.006            0.6932      49.92     50.00\n",
      "3     32  0.00005             114.761            0.0320      99.01     90.14\n",
      "4     32  0.00010             114.724            0.0396      98.70     86.10\n",
      "5     32  0.00050             114.762            0.6933      50.22     50.00\n",
      "6     64  0.00005             108.207            0.0361      98.85     90.21\n",
      "7     64  0.00010             108.207            0.0319      98.93     89.76\n",
      "8     64  0.00050             108.183            0.6932      49.48     50.00\n"
     ]
    }
   ],
   "source": [
    "# Table T6: one row per config\n",
    "results_df = pd.DataFrame(results, columns=[\"Batch\", \"LR\", \"Avg Epoch Time (s)\", \"Final Train Loss\", \"Train Acc\", \"Test Acc\"])\n",
    "print(\"\\nTable T6: Results for Batch size vs Learning rate sweep\\n\")\n",
    "print(results_df)"
   ]
  },
  {
   "cell_type": "code",
   "execution_count": null,
   "metadata": {
    "colab": {
     "base_uri": "https://localhost:8080/",
     "height": 797
    },
    "executionInfo": {
     "elapsed": 375,
     "status": "ok",
     "timestamp": 1760906019166,
     "user": {
      "displayName": "Mahdi Saleh Tabesh",
      "userId": "07240825415212703464"
     },
     "user_tz": 240
    },
    "id": "bcdPA94IvSoU",
    "outputId": "12f655e5-e71b-4dd7-b671-38d4dd305e67"
   },
   "outputs": [
    {
     "data": {
      "image/png": "[encoded data removed]",
      "text/plain": [
       "<Figure size 600x400 with 2 Axes>"
      ]
     },
     "metadata": {},
     "output_type": "display_data"
    },
    {
     "data": {
      "image/png": "[encoded data removed]",
      "text/plain": [
       "<Figure size 600x400 with 2 Axes>"
      ]
     },
     "metadata": {},
     "output_type": "display_data"
    }
   ],
   "source": [
    "# Plot heatmaps for average epoch time and test accuracy\n",
    "time_pivot = results_df.pivot(index=\"Batch\", columns=\"LR\", values=\"Avg Epoch Time (s)\")\n",
    "acc_pivot = results_df.pivot(index=\"Batch\", columns=\"LR\", values=\"Test Acc\")\n",
    "# Ensure correct order of columns (LR ascending) and rows (Batch ascending)\n",
    "time_pivot = time_pivot[[5e-5, 1e-4, 5e-4]]\n",
    "acc_pivot = acc_pivot[[5e-5, 1e-4, 5e-4]]\n",
    "\n",
    "# Rename columns to string form for better display\n",
    "time_pivot.columns = [\"5e-5\", \"1e-4\", \"5e-4\"]\n",
    "acc_pivot.columns = [\"5e-5\", \"1e-4\", \"5e-4\"]\n",
    "\n",
    "plt.figure(figsize=(6,4))\n",
    "sns.heatmap(time_pivot, annot=True, fmt=\".2f\", cmap=\"YlOrRd\")\n",
    "plt.title(\"Figure F6a - Avg Epoch Time (s)\")\n",
    "plt.xlabel(\"Learning Rate\")\n",
    "plt.ylabel(\"Batch Size\")\n",
    "plt.xticks(rotation=0)\n",
    "plt.tight_layout()\n",
    "plt.show()\n",
    "\n",
    "plt.figure(figsize=(6,4))\n",
    "sns.heatmap(acc_pivot, annot=True, fmt=\".2f\", cmap=\"YlGn\")\n",
    "plt.title(\"Figure F6b - Test Accuracy (%)\")\n",
    "plt.xlabel(\"Learning Rate\")\n",
    "plt.ylabel(\"Batch Size\")\n",
    "plt.xticks(rotation=0)\n",
    "plt.tight_layout()\n",
    "plt.show()"
   ]
  },
  {
   "cell_type": "code",
   "execution_count": null,
   "metadata": {
    "id": "_f65Edtqw_Ne"
   },
   "outputs": [],
   "source": []
  },
  {
   "cell_type": "code",
   "execution_count": null,
   "metadata": {
    "id": "M7IleMNPw_lU"
   },
   "outputs": [],
   "source": []
  }
 ],
 "metadata": {
  "accelerator": "GPU",
  "colab": {
   "authorship_tag": "ABX9TyNHBnqfF1L1ZlspdC4L1Bhn",
   "gpuType": "A100",
   "provenance": []
  },
  "kernelspec": {
   "display_name": "Python 3 (ipykernel)",
   "language": "python",
   "name": "python3"
  },
  "language_info": {
   "codemirror_mode": {
    "name": "ipython",
    "version": 3
   },
   "file_extension": ".py",
   "mimetype": "text/x-python",
   "name": "python",
   "nbconvert_exporter": "python",
   "pygments_lexer": "ipython3",
   "version": "3.10.17"
  }
 },
 "nbformat": 4,
 "nbformat_minor": 4
}
