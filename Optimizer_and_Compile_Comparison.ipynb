{
 "cells": [
  {
   "cell_type": "markdown",
   "metadata": {
    "id": "pCfql6tExCsb"
   },
   "source": [
    "# C7: Optimizer Comparison (SGD vs Adam vs AdamW)"
   ]
  },
  {
   "cell_type": "code",
   "execution_count": null,
   "metadata": {
    "colab": {
     "base_uri": "https://localhost:8080/",
     "height": 1939
    },
    "executionInfo": {
     "elapsed": 2286848,
     "status": "ok",
     "timestamp": 1760908306016,
     "user": {
      "displayName": "Mahdi Saleh Tabesh",
      "userId": "07240825415212703464"
     },
     "user_tz": 240
    },
    "id": "-Xb9a1WSw_uw",
    "outputId": "b5cfe0f4-3e17-4099-fddb-9db357c73071"
   },
   "outputs": [
    {
     "data": {
      "text/html": [],
      "text/plain": [
       "<IPython.core.display.HTML object>"
      ]
     },
     "metadata": {},
     "output_type": "display_data"
    },
    {
     "data": {
      "text/html": [
       "Tracking run with wandb version 0.22.2"
      ],
      "text/plain": [
       "<IPython.core.display.HTML object>"
      ]
     },
     "metadata": {},
     "output_type": "display_data"
    },
    {
     "data": {
      "text/html": [
       "Run data is saved locally in <code>/content/drive/MyDrive/03-HPML HW2/wandb/run-20251019_203339-r6s9er65</code>"
      ],
      "text/plain": [
       "<IPython.core.display.HTML object>"
      ]
     },
     "metadata": {},
     "output_type": "display_data"
    },
    {
     "data": {
      "text/html": [
       "Syncing run <strong><a href='https://wandb.ai/mah3i-tabesh500-mahdi-saleh-tabesh/hpml-hw2-llm/runs/r6s9er65' target=\"_blank\">SGD_bs32_lr1e-4</a></strong> to <a href='https://wandb.ai/mah3i-tabesh500-mahdi-saleh-tabesh/hpml-hw2-llm' target=\"_blank\">Weights & Biases</a> (<a href='https://wandb.me/developer-guide' target=\"_blank\">docs</a>)<br>"
      ],
      "text/plain": [
       "<IPython.core.display.HTML object>"
      ]
     },
     "metadata": {},
     "output_type": "display_data"
    },
    {
     "data": {
      "text/html": [
       " View project at <a href='https://wandb.ai/mah3i-tabesh500-mahdi-saleh-tabesh/hpml-hw2-llm' target=\"_blank\">https://wandb.ai/mah3i-tabesh500-mahdi-saleh-tabesh/hpml-hw2-llm</a>"
      ],
      "text/plain": [
       "<IPython.core.display.HTML object>"
      ]
     },
     "metadata": {},
     "output_type": "display_data"
    },
    {
     "data": {
      "text/html": [
       " View run at <a href='https://wandb.ai/mah3i-tabesh500-mahdi-saleh-tabesh/hpml-hw2-llm/runs/r6s9er65' target=\"_blank\">https://wandb.ai/mah3i-tabesh500-mahdi-saleh-tabesh/hpml-hw2-llm/runs/r6s9er65</a>"
      ],
      "text/plain": [
       "<IPython.core.display.HTML object>"
      ]
     },
     "metadata": {},
     "output_type": "display_data"
    },
    {
     "name": "stderr",
     "output_type": "stream",
     "text": [
      "Some weights of DistilBertForSequenceClassification were not initialized from the model checkpoint at distilbert-base-uncased and are newly initialized: ['classifier.bias', 'classifier.weight', 'pre_classifier.bias', 'pre_classifier.weight']\n",
      "You should probably TRAIN this model on a down-stream task to be able to use it for predictions and inference.\n"
     ]
    },
    {
     "data": {
      "text/html": [],
      "text/plain": [
       "<IPython.core.display.HTML object>"
      ]
     },
     "metadata": {},
     "output_type": "display_data"
    },
    {
     "data": {
      "text/html": [
       "<br>    <style><br>        .wandb-row {<br>            display: flex;<br>            flex-direction: row;<br>            flex-wrap: wrap;<br>            justify-content: flex-start;<br>            width: 100%;<br>        }<br>        .wandb-col {<br>            display: flex;<br>            flex-direction: column;<br>            flex-basis: 100%;<br>            flex: 1;<br>            padding: 10px;<br>        }<br>    </style><br><div class=\"wandb-row\"><div class=\"wandb-col\"><h3>Run history:</h3><br/><table class=\"wandb\"><tr><td>test/acc</td><td>▁▃▅▇█</td></tr><tr><td>time/compute</td><td>█▁▁▆▆</td></tr><tr><td>time/data</td><td>█▁▂▂▄</td></tr><tr><td>time/epoch</td><td>█▁▂▄▅</td></tr><tr><td>train/acc</td><td>▁▂▄▆█</td></tr><tr><td>train/loss</td><td>█▇▆▄▁</td></tr></table><br/></div><div class=\"wandb-col\"><h3>Run summary:</h3><br/><table class=\"wandb\"><tr><td>test/acc</td><td>0.77864</td></tr><tr><td>time/compute</td><td>109.12985</td></tr><tr><td>time/data</td><td>2.38997</td></tr><tr><td>time/epoch</td><td>112.03643</td></tr><tr><td>train/acc</td><td>0.66192</td></tr><tr><td>train/loss</td><td>0.67572</td></tr></table><br/></div></div>"
      ],
      "text/plain": [
       "<IPython.core.display.HTML object>"
      ]
     },
     "metadata": {},
     "output_type": "display_data"
    },
    {
     "data": {
      "text/html": [
       " View run <strong style=\"color:#cdcd00\">SGD_bs32_lr1e-4</strong> at: <a href='https://wandb.ai/mah3i-tabesh500-mahdi-saleh-tabesh/hpml-hw2-llm/runs/r6s9er65' target=\"_blank\">https://wandb.ai/mah3i-tabesh500-mahdi-saleh-tabesh/hpml-hw2-llm/runs/r6s9er65</a><br> View project at: <a href='https://wandb.ai/mah3i-tabesh500-mahdi-saleh-tabesh/hpml-hw2-llm' target=\"_blank\">https://wandb.ai/mah3i-tabesh500-mahdi-saleh-tabesh/hpml-hw2-llm</a><br>Synced 5 W&B file(s), 0 media file(s), 0 artifact file(s) and 0 other file(s)"
      ],
      "text/plain": [
       "<IPython.core.display.HTML object>"
      ]
     },
     "metadata": {},
     "output_type": "display_data"
    },
    {
     "data": {
      "text/html": [
       "Find logs at: <code>./wandb/run-20251019_203339-r6s9er65/logs</code>"
      ],
      "text/plain": [
       "<IPython.core.display.HTML object>"
      ]
     },
     "metadata": {},
     "output_type": "display_data"
    },
    {
     "name": "stdout",
     "output_type": "stream",
     "text": [
      "Done SGD: Avg Epoch Time=111.981s, Final Test Acc=77.86%\n"
     ]
    },
    {
     "data": {
      "text/html": [],
      "text/plain": [
       "<IPython.core.display.HTML object>"
      ]
     },
     "metadata": {},
     "output_type": "display_data"
    },
    {
     "data": {
      "text/html": [
       "Tracking run with wandb version 0.22.2"
      ],
      "text/plain": [
       "<IPython.core.display.HTML object>"
      ]
     },
     "metadata": {},
     "output_type": "display_data"
    },
    {
     "data": {
      "text/html": [
       "Run data is saved locally in <code>/content/drive/MyDrive/03-HPML HW2/wandb/run-20251019_204612-tqp6vyms</code>"
      ],
      "text/plain": [
       "<IPython.core.display.HTML object>"
      ]
     },
     "metadata": {},
     "output_type": "display_data"
    },
    {
     "data": {
      "text/html": [
       "Syncing run <strong><a href='https://wandb.ai/mah3i-tabesh500-mahdi-saleh-tabesh/hpml-hw2-llm/runs/tqp6vyms' target=\"_blank\">Adam_bs32_lr1e-4</a></strong> to <a href='https://wandb.ai/mah3i-tabesh500-mahdi-saleh-tabesh/hpml-hw2-llm' target=\"_blank\">Weights & Biases</a> (<a href='https://wandb.me/developer-guide' target=\"_blank\">docs</a>)<br>"
      ],
      "text/plain": [
       "<IPython.core.display.HTML object>"
      ]
     },
     "metadata": {},
     "output_type": "display_data"
    },
    {
     "data": {
      "text/html": [
       " View project at <a href='https://wandb.ai/mah3i-tabesh500-mahdi-saleh-tabesh/hpml-hw2-llm' target=\"_blank\">https://wandb.ai/mah3i-tabesh500-mahdi-saleh-tabesh/hpml-hw2-llm</a>"
      ],
      "text/plain": [
       "<IPython.core.display.HTML object>"
      ]
     },
     "metadata": {},
     "output_type": "display_data"
    },
    {
     "data": {
      "text/html": [
       " View run at <a href='https://wandb.ai/mah3i-tabesh500-mahdi-saleh-tabesh/hpml-hw2-llm/runs/tqp6vyms' target=\"_blank\">https://wandb.ai/mah3i-tabesh500-mahdi-saleh-tabesh/hpml-hw2-llm/runs/tqp6vyms</a>"
      ],
      "text/plain": [
       "<IPython.core.display.HTML object>"
      ]
     },
     "metadata": {},
     "output_type": "display_data"
    },
    {
     "name": "stderr",
     "output_type": "stream",
     "text": [
      "Some weights of DistilBertForSequenceClassification were not initialized from the model checkpoint at distilbert-base-uncased and are newly initialized: ['classifier.bias', 'classifier.weight', 'pre_classifier.bias', 'pre_classifier.weight']\n",
      "You should probably TRAIN this model on a down-stream task to be able to use it for predictions and inference.\n"
     ]
    },
    {
     "data": {
      "text/html": [],
      "text/plain": [
       "<IPython.core.display.HTML object>"
      ]
     },
     "metadata": {},
     "output_type": "display_data"
    },
    {
     "data": {
      "text/html": [
       "<br>    <style><br>        .wandb-row {<br>            display: flex;<br>            flex-direction: row;<br>            flex-wrap: wrap;<br>            justify-content: flex-start;<br>            width: 100%;<br>        }<br>        .wandb-col {<br>            display: flex;<br>            flex-direction: column;<br>            flex-basis: 100%;<br>            flex: 1;<br>            padding: 10px;<br>        }<br>    </style><br><div class=\"wandb-row\"><div class=\"wandb-col\"><h3>Run history:</h3><br/><table class=\"wandb\"><tr><td>test/acc</td><td>█▆▅▁▂</td></tr><tr><td>time/compute</td><td>▅▁▅█▅</td></tr><tr><td>time/data</td><td>▄█▄▁▂</td></tr><tr><td>time/epoch</td><td>▇▁▅█▅</td></tr><tr><td>train/acc</td><td>▁▅▇██</td></tr><tr><td>train/loss</td><td>█▄▂▁▁</td></tr></table><br/></div><div class=\"wandb-col\"><h3>Run summary:</h3><br/><table class=\"wandb\"><tr><td>test/acc</td><td>0.87276</td></tr><tr><td>time/compute</td><td>111.62882</td></tr><tr><td>time/data</td><td>2.369</td></tr><tr><td>time/epoch</td><td>114.51264</td></tr><tr><td>train/acc</td><td>0.98704</td></tr><tr><td>train/loss</td><td>0.04055</td></tr></table><br/></div></div>"
      ],
      "text/plain": [
       "<IPython.core.display.HTML object>"
      ]
     },
     "metadata": {},
     "output_type": "display_data"
    },
    {
     "data": {
      "text/html": [
       " View run <strong style=\"color:#cdcd00\">Adam_bs32_lr1e-4</strong> at: <a href='https://wandb.ai/mah3i-tabesh500-mahdi-saleh-tabesh/hpml-hw2-llm/runs/tqp6vyms' target=\"_blank\">https://wandb.ai/mah3i-tabesh500-mahdi-saleh-tabesh/hpml-hw2-llm/runs/tqp6vyms</a><br> View project at: <a href='https://wandb.ai/mah3i-tabesh500-mahdi-saleh-tabesh/hpml-hw2-llm' target=\"_blank\">https://wandb.ai/mah3i-tabesh500-mahdi-saleh-tabesh/hpml-hw2-llm</a><br>Synced 5 W&B file(s), 0 media file(s), 0 artifact file(s) and 0 other file(s)"
      ],
      "text/plain": [
       "<IPython.core.display.HTML object>"
      ]
     },
     "metadata": {},
     "output_type": "display_data"
    },
    {
     "data": {
      "text/html": [
       "Find logs at: <code>./wandb/run-20251019_204612-tqp6vyms/logs</code>"
      ],
      "text/plain": [
       "<IPython.core.display.HTML object>"
      ]
     },
     "metadata": {},
     "output_type": "display_data"
    },
    {
     "name": "stdout",
     "output_type": "stream",
     "text": [
      "Done Adam: Avg Epoch Time=114.512s, Final Test Acc=87.28%\n"
     ]
    },
    {
     "data": {
      "text/html": [],
      "text/plain": [
       "<IPython.core.display.HTML object>"
      ]
     },
     "metadata": {},
     "output_type": "display_data"
    },
    {
     "data": {
      "text/html": [
       "Tracking run with wandb version 0.22.2"
      ],
      "text/plain": [
       "<IPython.core.display.HTML object>"
      ]
     },
     "metadata": {},
     "output_type": "display_data"
    },
    {
     "data": {
      "text/html": [
       "Run data is saved locally in <code>/content/drive/MyDrive/03-HPML HW2/wandb/run-20251019_205858-godd6syy</code>"
      ],
      "text/plain": [
       "<IPython.core.display.HTML object>"
      ]
     },
     "metadata": {},
     "output_type": "display_data"
    },
    {
     "data": {
      "text/html": [
       "Syncing run <strong><a href='https://wandb.ai/mah3i-tabesh500-mahdi-saleh-tabesh/hpml-hw2-llm/runs/godd6syy' target=\"_blank\">AdamW_bs32_lr1e-4</a></strong> to <a href='https://wandb.ai/mah3i-tabesh500-mahdi-saleh-tabesh/hpml-hw2-llm' target=\"_blank\">Weights & Biases</a> (<a href='https://wandb.me/developer-guide' target=\"_blank\">docs</a>)<br>"
      ],
      "text/plain": [
       "<IPython.core.display.HTML object>"
      ]
     },
     "metadata": {},
     "output_type": "display_data"
    },
    {
     "data": {
      "text/html": [
       " View project at <a href='https://wandb.ai/mah3i-tabesh500-mahdi-saleh-tabesh/hpml-hw2-llm' target=\"_blank\">https://wandb.ai/mah3i-tabesh500-mahdi-saleh-tabesh/hpml-hw2-llm</a>"
      ],
      "text/plain": [
       "<IPython.core.display.HTML object>"
      ]
     },
     "metadata": {},
     "output_type": "display_data"
    },
    {
     "data": {
      "text/html": [
       " View run at <a href='https://wandb.ai/mah3i-tabesh500-mahdi-saleh-tabesh/hpml-hw2-llm/runs/godd6syy' target=\"_blank\">https://wandb.ai/mah3i-tabesh500-mahdi-saleh-tabesh/hpml-hw2-llm/runs/godd6syy</a>"
      ],
      "text/plain": [
       "<IPython.core.display.HTML object>"
      ]
     },
     "metadata": {},
     "output_type": "display_data"
    },
    {
     "name": "stderr",
     "output_type": "stream",
     "text": [
      "Some weights of DistilBertForSequenceClassification were not initialized from the model checkpoint at distilbert-base-uncased and are newly initialized: ['classifier.bias', 'classifier.weight', 'pre_classifier.bias', 'pre_classifier.weight']\n",
      "You should probably TRAIN this model on a down-stream task to be able to use it for predictions and inference.\n"
     ]
    },
    {
     "data": {
      "text/html": [],
      "text/plain": [
       "<IPython.core.display.HTML object>"
      ]
     },
     "metadata": {},
     "output_type": "display_data"
    },
    {
     "data": {
      "text/html": [
       "<br>    <style><br>        .wandb-row {<br>            display: flex;<br>            flex-direction: row;<br>            flex-wrap: wrap;<br>            justify-content: flex-start;<br>            width: 100%;<br>        }<br>        .wandb-col {<br>            display: flex;<br>            flex-direction: column;<br>            flex-basis: 100%;<br>            flex: 1;<br>            padding: 10px;<br>        }<br>    </style><br><div class=\"wandb-row\"><div class=\"wandb-col\"><h3>Run history:</h3><br/><table class=\"wandb\"><tr><td>test/acc</td><td>██▅▁▁</td></tr><tr><td>time/compute</td><td>█▁▂▃▅</td></tr><tr><td>time/data</td><td>█▂▁▂▆</td></tr><tr><td>time/epoch</td><td>█▁▂▁▄</td></tr><tr><td>train/acc</td><td>▁▅▇██</td></tr><tr><td>train/loss</td><td>█▄▂▁▁</td></tr></table><br/></div><div class=\"wandb-col\"><h3>Run summary:</h3><br/><table class=\"wandb\"><tr><td>test/acc</td><td>0.86492</td></tr><tr><td>time/compute</td><td>111.98224</td></tr><tr><td>time/data</td><td>2.39138</td></tr><tr><td>time/epoch</td><td>114.87785</td></tr><tr><td>train/acc</td><td>0.98616</td></tr><tr><td>train/loss</td><td>0.04109</td></tr></table><br/></div></div>"
      ],
      "text/plain": [
       "<IPython.core.display.HTML object>"
      ]
     },
     "metadata": {},
     "output_type": "display_data"
    },
    {
     "data": {
      "text/html": [
       " View run <strong style=\"color:#cdcd00\">AdamW_bs32_lr1e-4</strong> at: <a href='https://wandb.ai/mah3i-tabesh500-mahdi-saleh-tabesh/hpml-hw2-llm/runs/godd6syy' target=\"_blank\">https://wandb.ai/mah3i-tabesh500-mahdi-saleh-tabesh/hpml-hw2-llm/runs/godd6syy</a><br> View project at: <a href='https://wandb.ai/mah3i-tabesh500-mahdi-saleh-tabesh/hpml-hw2-llm' target=\"_blank\">https://wandb.ai/mah3i-tabesh500-mahdi-saleh-tabesh/hpml-hw2-llm</a><br>Synced 5 W&B file(s), 0 media file(s), 0 artifact file(s) and 0 other file(s)"
      ],
      "text/plain": [
       "<IPython.core.display.HTML object>"
      ]
     },
     "metadata": {},
     "output_type": "display_data"
    },
    {
     "data": {
      "text/html": [
       "Find logs at: <code>./wandb/run-20251019_205858-godd6syy/logs</code>"
      ],
      "text/plain": [
       "<IPython.core.display.HTML object>"
      ]
     },
     "metadata": {},
     "output_type": "display_data"
    },
    {
     "name": "stdout",
     "output_type": "stream",
     "text": [
      "Done AdamW: Avg Epoch Time=114.859s, Final Test Acc=86.49%\n"
     ]
    }
   ],
   "source": [
    "optimizers = [\n",
    "    (\"SGD\", torch.optim.SGD, {}),\n",
    "    (\"Adam\", torch.optim.Adam, {}),\n",
    "    (\"AdamW\", torch.optim.AdamW, {})\n",
    "]\n",
    "base_bs = 32\n",
    "base_lr = 1e-4\n",
    "opt_results = []\n",
    "\n",
    "for opt_name, opt_class, opt_kwargs in optimizers:\n",
    "    wandb.init(project=\"hpml-hw2-llm\", name=f\"{opt_name}_bs{base_bs}_lr1e-4\", group=\"optim_compare\",\n",
    "               config={\"model_name\": model_name, \"max_len\": 256, \"batch_size\": base_bs, \"lr\": base_lr,\n",
    "                       \"optimizer\": opt_name, \"num_workers\": 2, \"epochs\": 5, \"device\": \"cuda\", \"compile_mode\": False})\n",
    "    # Reinitialize model and optimizer\n",
    "    model = DistilBertForSequenceClassification.from_pretrained(model_name, num_labels=2).to('cuda')\n",
    "\n",
    "    optimizer = opt_class(model.parameters(), lr=base_lr, **opt_kwargs)\n",
    "    train_loader = DataLoader(train_ds, batch_size=base_bs, shuffle=True, collate_fn=collate_fn, num_workers=2)\n",
    "    test_loader = DataLoader(test_ds, batch_size=base_bs, shuffle=False, collate_fn=collate_fn, num_workers=2)\n",
    "    epochs = 5\n",
    "    epoch_total_times = []\n",
    "    final_train_loss = None\n",
    "    final_train_acc = None\n",
    "    final_test_acc = None\n",
    "    for epoch in range(1, epochs+1):\n",
    "        model.train()\n",
    "        total_start = time.time()\n",
    "        data_time = 0.0\n",
    "        compute_time = 0.0\n",
    "        batch_end_time = total_start\n",
    "        total_loss = 0.0\n",
    "        correct = 0\n",
    "        total_samples = 0\n",
    "        for batch in train_loader:\n",
    "            current_time = time.time()\n",
    "            data_time += current_time - batch_end_time\n",
    "            batch = {k: v.to('cuda') for k, v in batch.items()}\n",
    "            compute_start = time.time()\n",
    "            optimizer.zero_grad()\n",
    "            outputs = model(**batch)\n",
    "            loss = outputs.loss\n",
    "            logits = outputs.logits\n",
    "            loss.backward()\n",
    "            optimizer.step()\n",
    "            if torch.cuda.is_available():\n",
    "                torch.cuda.synchronize()\n",
    "            compute_end = time.time()\n",
    "            compute_time += compute_end - compute_start\n",
    "            total_loss += loss.item() * batch[\"labels\"].size(0)\n",
    "            preds = torch.argmax(logits, dim=1)\n",
    "            correct += (preds == batch[\"labels\"]).sum().item()\n",
    "            total_samples += batch[\"labels\"].size(0)\n",
    "            batch_end_time = compute_end\n",
    "        total_end = time.time()\n",
    "        epoch_total_times.append(total_end - total_start)\n",
    "        avg_train_loss = total_loss / total_samples\n",
    "        train_accuracy = correct / total_samples\n",
    "        model.eval()\n",
    "        correct_test = 0\n",
    "        total_test = 0\n",
    "        with torch.no_grad():\n",
    "            for batch in test_loader:\n",
    "                batch = {k: v.to('cuda') for k, v in batch.items()}\n",
    "                outputs = model(input_ids=batch[\"input_ids\"], attention_mask=batch[\"attention_mask\"])\n",
    "                preds = torch.argmax(outputs.logits, dim=1)\n",
    "                preds = preds.cpu()\n",
    "                labels = batch[\"labels\"].cpu()\n",
    "                correct_test += (preds == labels).sum().item()\n",
    "                total_test += labels.size(0)\n",
    "        test_accuracy = correct_test / total_test\n",
    "        wandb.log({\"train/loss\": avg_train_loss, \"train/acc\": train_accuracy,\n",
    "                   \"test/acc\": test_accuracy, \"time/data\": data_time,\n",
    "                   \"time/compute\": compute_time, \"time/epoch\": epoch_total_times[-1]}, step=epoch)\n",
    "    # End of training for this optimizer\n",
    "    wandb.finish()\n",
    "    avg_epoch_time = float(np.mean(epoch_total_times))\n",
    "    final_train_loss = avg_train_loss\n",
    "    final_train_acc = train_accuracy * 100.0\n",
    "    final_test_acc = test_accuracy * 100.0\n",
    "    opt_results.append((opt_name, round(avg_epoch_time,3), round(final_train_loss,4),\n",
    "                        round(final_train_acc,2), round(final_test_acc,2)))\n",
    "    print(f\"Done {opt_name}: Avg Epoch Time={avg_epoch_time:.3f}s, Final Test Acc={final_test_acc:.2f}%\")\n",
    "\n",
    "\n"
   ]
  },
  {
   "cell_type": "code",
   "execution_count": null,
   "metadata": {
    "id": "DukEwcjzopeB"
   },
   "outputs": [],
   "source": []
  },
  {
   "cell_type": "markdown",
   "metadata": {
    "id": "Kv6JW_y2oPqM"
   },
   "source": [
    "# Experiment Tracking (Weights & Biases) link of W&B run page.\n",
    "- View run SGD_bs32_lr1e-4 at: https://wandb.ai/mah3i-tabesh500-mahdi-saleh-tabesh/hpml-hw2-llm/runs/r6s9er65\n",
    "- View run Adam_bs32_lr1e-4 at: https://wandb.ai/mah3i-tabesh500-mahdi-saleh-tabesh/hpml-hw2-llm/runs/tqp6vyms\n",
    "- View run AdamW_bs32_lr1e-4 at: https://wandb.ai/mah3i-tabesh500-mahdi-saleh-tabesh/hpml-hw2-llm/runs/godd6syy\n",
    "- View project at: https://wandb.ai/mah3i-tabesh500-mahdi-saleh-tabesh/hpml-hw2-llm\n",
    "- Synced 5 W&B file(s), 0 media file(s), 0 artifact file(s) and 0 other file(s)\n",
    "- Find logs at: ./wandb/run-20251019_205858-godd6syy/logs"
   ]
  },
  {
   "cell_type": "code",
   "execution_count": null,
   "metadata": {
    "id": "aLJ_nhfsoovE"
   },
   "outputs": [],
   "source": []
  },
  {
   "cell_type": "code",
   "execution_count": null,
   "metadata": {
    "colab": {
     "base_uri": "https://localhost:8080/"
    },
    "executionInfo": {
     "elapsed": 49,
     "status": "ok",
     "timestamp": 1760908306070,
     "user": {
      "displayName": "Mahdi Saleh Tabesh",
      "userId": "07240825415212703464"
     },
     "user_tz": 240
    },
    "id": "J9siqHubxRSX",
    "outputId": "c5fa56d2-eae5-400f-d75a-1e1e137f83bb"
   },
   "outputs": [
    {
     "name": "stdout",
     "output_type": "stream",
     "text": [
      "\n",
      "Table T7: Optimizer comparison (5 epochs each)\n",
      "\n",
      "  Optimizer  Avg Epoch Time (s)  Final Train Loss  Train Acc  Test Acc\n",
      "0       SGD             111.981            0.6757      66.19     77.86\n",
      "1      Adam             114.512            0.0406      98.70     87.28\n",
      "2     AdamW             114.859            0.0411      98.62     86.49\n"
     ]
    }
   ],
   "source": [
    "# Table T7: results for each optimizer\n",
    "opt_df = pd.DataFrame(opt_results, columns=[\"Optimizer\", \"Avg Epoch Time (s)\", \"Final Train Loss\", \"Train Acc\", \"Test Acc\"])\n",
    "print(\"\\nTable T7: Optimizer comparison (5 epochs each)\\n\")\n",
    "print(opt_df)"
   ]
  },
  {
   "cell_type": "code",
   "execution_count": null,
   "metadata": {
    "colab": {
     "base_uri": "https://localhost:8080/",
     "height": 407
    },
    "executionInfo": {
     "elapsed": 95,
     "status": "ok",
     "timestamp": 1760908306166,
     "user": {
      "displayName": "Mahdi Saleh Tabesh",
      "userId": "07240825415212703464"
     },
     "user_tz": 240
    },
    "id": "zWJtKNKMxRbF",
    "outputId": "3bd136b7-fabe-478f-c9b7-46822f313223"
   },
   "outputs": [
    {
     "data": {
      "image/png": "[encoded data removed]",
      "text/plain": [
       "<Figure size 500x400 with 1 Axes>"
      ]
     },
     "metadata": {},
     "output_type": "display_data"
    }
   ],
   "source": [
    "# Bar chart for avg epoch time by optimizer\n",
    "plt.figure(figsize=(5,4))\n",
    "plt.bar(opt_df[\"Optimizer\"], opt_df[\"Avg Epoch Time (s)\"], color=[\"#1f77b4\", \"#ff7f0e\", \"#2ca02c\"])\n",
    "plt.ylabel(\"Avg Epoch Time (s)\")\n",
    "plt.title(\"Figure F7 - Average Epoch Time by Optimizer\")\n",
    "plt.grid(axis='y', linestyle='--', alpha=0.6)\n",
    "plt.tight_layout()\n",
    "plt.show()"
   ]
  },
  {
   "cell_type": "code",
   "execution_count": null,
   "metadata": {
    "id": "BkOKNkHW0L9Y"
   },
   "outputs": [],
   "source": []
  },
  {
   "cell_type": "markdown",
   "metadata": {
    "id": "7HELJLjTq5e-"
   },
   "source": [
    "# **Observation – Convergence and Variance:**\n",
    "- SGD showed slower convergence and higher training loss due to its less adaptive nature.\n",
    "- Adam and AdamW both converged faster with lower variance in accuracy, thanks to their\n",
    "- adaptive learning rates and weight decay regularization.\n",
    "\n",
    "Although AdamW and Adam had similar speed, AdamW achieved slightly more stable results\n",
    "and marginally better generalization.\n"
   ]
  },
  {
   "cell_type": "code",
   "execution_count": null,
   "metadata": {
    "id": "Oz-aKXLt0Mou"
   },
   "outputs": [],
   "source": []
  },
  {
   "cell_type": "markdown",
   "metadata": {
    "id": "ag-1dfdwiv-e"
   },
   "source": [
    "# C8: torch.compile (Inductor Backend)"
   ]
  },
  {
   "cell_type": "code",
   "execution_count": null,
   "metadata": {
    "colab": {
     "base_uri": "https://localhost:8080/",
     "height": 1721
    },
    "executionInfo": {
     "elapsed": 2327421,
     "status": "ok",
     "timestamp": 1760911637932,
     "user": {
      "displayName": "Mahdi Saleh Tabesh",
      "userId": "07240825415212703464"
     },
     "user_tz": 240
    },
    "id": "HVqIAE7a0MrJ",
    "outputId": "4d278088-0071-436b-8971-f7d9ea9fc405"
   },
   "outputs": [
    {
     "data": {
      "text/html": [],
      "text/plain": [
       "<IPython.core.display.HTML object>"
      ]
     },
     "metadata": {},
     "output_type": "display_data"
    },
    {
     "data": {
      "text/html": [
       "Tracking run with wandb version 0.22.2"
      ],
      "text/plain": [
       "<IPython.core.display.HTML object>"
      ]
     },
     "metadata": {},
     "output_type": "display_data"
    },
    {
     "data": {
      "text/html": [
       "Run data is saved locally in <code>/content/drive/MyDrive/03-HPML HW2/wandb/run-20251019_212830-4a04567d</code>"
      ],
      "text/plain": [
       "<IPython.core.display.HTML object>"
      ]
     },
     "metadata": {},
     "output_type": "display_data"
    },
    {
     "data": {
      "text/html": [
       "Syncing run <strong><a href='https://wandb.ai/mah3i-tabesh500-mahdi-saleh-tabesh/hpml-hw2-llm/runs/4a04567d' target=\"_blank\">eager_10epochs</a></strong> to <a href='https://wandb.ai/mah3i-tabesh500-mahdi-saleh-tabesh/hpml-hw2-llm' target=\"_blank\">Weights & Biases</a> (<a href='https://wandb.me/developer-guide' target=\"_blank\">docs</a>)<br>"
      ],
      "text/plain": [
       "<IPython.core.display.HTML object>"
      ]
     },
     "metadata": {},
     "output_type": "display_data"
    },
    {
     "data": {
      "text/html": [
       " View project at <a href='https://wandb.ai/mah3i-tabesh500-mahdi-saleh-tabesh/hpml-hw2-llm' target=\"_blank\">https://wandb.ai/mah3i-tabesh500-mahdi-saleh-tabesh/hpml-hw2-llm</a>"
      ],
      "text/plain": [
       "<IPython.core.display.HTML object>"
      ]
     },
     "metadata": {},
     "output_type": "display_data"
    },
    {
     "data": {
      "text/html": [
       " View run at <a href='https://wandb.ai/mah3i-tabesh500-mahdi-saleh-tabesh/hpml-hw2-llm/runs/4a04567d' target=\"_blank\">https://wandb.ai/mah3i-tabesh500-mahdi-saleh-tabesh/hpml-hw2-llm/runs/4a04567d</a>"
      ],
      "text/plain": [
       "<IPython.core.display.HTML object>"
      ]
     },
     "metadata": {},
     "output_type": "display_data"
    },
    {
     "name": "stderr",
     "output_type": "stream",
     "text": [
      "Some weights of DistilBertForSequenceClassification were not initialized from the model checkpoint at distilbert-base-uncased and are newly initialized: ['classifier.bias', 'classifier.weight', 'pre_classifier.bias', 'pre_classifier.weight']\n",
      "You should probably TRAIN this model on a down-stream task to be able to use it for predictions and inference.\n"
     ]
    },
    {
     "name": "stdout",
     "output_type": "stream",
     "text": [
      "Eager | Epoch 1 time: 114.812s\n",
      "Eager | Epoch 2 time: 114.694s\n",
      "Eager | Epoch 3 time: 114.638s\n",
      "Eager | Epoch 4 time: 114.637s\n",
      "Eager | Epoch 5 time: 114.672s\n",
      "Eager | Epoch 6 time: 114.610s\n",
      "Eager | Epoch 7 time: 114.516s\n",
      "Eager | Epoch 8 time: 114.582s\n",
      "Eager | Epoch 9 time: 114.314s\n",
      "Eager | Epoch 10 time: 114.405s\n"
     ]
    },
    {
     "data": {
      "text/html": [],
      "text/plain": [
       "<IPython.core.display.HTML object>"
      ]
     },
     "metadata": {},
     "output_type": "display_data"
    },
    {
     "data": {
      "text/html": [
       "<br>    <style><br>        .wandb-row {<br>            display: flex;<br>            flex-direction: row;<br>            flex-wrap: wrap;<br>            justify-content: flex-start;<br>            width: 100%;<br>        }<br>        .wandb-col {<br>            display: flex;<br>            flex-direction: column;<br>            flex-basis: 100%;<br>            flex: 1;<br>            padding: 10px;<br>        }<br>    </style><br><div class=\"wandb-row\"><div class=\"wandb-col\"><h3>Run history:</h3><br/><table class=\"wandb\"><tr><td>time/epoch</td><td>█▆▆▆▆▅▄▅▁▂</td></tr><tr><td>train/loss</td><td>█▄▃▂▁▁▁▁▁▁</td></tr></table><br/></div><div class=\"wandb-col\"><h3>Run summary:</h3><br/><table class=\"wandb\"><tr><td>time/epoch</td><td>114.4046</td></tr><tr><td>train/loss</td><td>0.02391</td></tr></table><br/></div></div>"
      ],
      "text/plain": [
       "<IPython.core.display.HTML object>"
      ]
     },
     "metadata": {},
     "output_type": "display_data"
    },
    {
     "data": {
      "text/html": [
       " View run <strong style=\"color:#cdcd00\">eager_10epochs</strong> at: <a href='https://wandb.ai/mah3i-tabesh500-mahdi-saleh-tabesh/hpml-hw2-llm/runs/4a04567d' target=\"_blank\">https://wandb.ai/mah3i-tabesh500-mahdi-saleh-tabesh/hpml-hw2-llm/runs/4a04567d</a><br> View project at: <a href='https://wandb.ai/mah3i-tabesh500-mahdi-saleh-tabesh/hpml-hw2-llm' target=\"_blank\">https://wandb.ai/mah3i-tabesh500-mahdi-saleh-tabesh/hpml-hw2-llm</a><br>Synced 5 W&B file(s), 0 media file(s), 0 artifact file(s) and 0 other file(s)"
      ],
      "text/plain": [
       "<IPython.core.display.HTML object>"
      ]
     },
     "metadata": {},
     "output_type": "display_data"
    },
    {
     "data": {
      "text/html": [
       "Find logs at: <code>./wandb/run-20251019_212830-4a04567d/logs</code>"
      ],
      "text/plain": [
       "<IPython.core.display.HTML object>"
      ]
     },
     "metadata": {},
     "output_type": "display_data"
    },
    {
     "data": {
      "text/html": [],
      "text/plain": [
       "<IPython.core.display.HTML object>"
      ]
     },
     "metadata": {},
     "output_type": "display_data"
    },
    {
     "data": {
      "text/html": [
       "Tracking run with wandb version 0.22.2"
      ],
      "text/plain": [
       "<IPython.core.display.HTML object>"
      ]
     },
     "metadata": {},
     "output_type": "display_data"
    },
    {
     "data": {
      "text/html": [
       "Run data is saved locally in <code>/content/drive/MyDrive/03-HPML HW2/wandb/run-20251019_214740-ybnsevtc</code>"
      ],
      "text/plain": [
       "<IPython.core.display.HTML object>"
      ]
     },
     "metadata": {},
     "output_type": "display_data"
    },
    {
     "data": {
      "text/html": [
       "Syncing run <strong><a href='https://wandb.ai/mah3i-tabesh500-mahdi-saleh-tabesh/hpml-hw2-llm/runs/ybnsevtc' target=\"_blank\">compile_(inductor)_10epochs</a></strong> to <a href='https://wandb.ai/mah3i-tabesh500-mahdi-saleh-tabesh/hpml-hw2-llm' target=\"_blank\">Weights & Biases</a> (<a href='https://wandb.me/developer-guide' target=\"_blank\">docs</a>)<br>"
      ],
      "text/plain": [
       "<IPython.core.display.HTML object>"
      ]
     },
     "metadata": {},
     "output_type": "display_data"
    },
    {
     "data": {
      "text/html": [
       " View project at <a href='https://wandb.ai/mah3i-tabesh500-mahdi-saleh-tabesh/hpml-hw2-llm' target=\"_blank\">https://wandb.ai/mah3i-tabesh500-mahdi-saleh-tabesh/hpml-hw2-llm</a>"
      ],
      "text/plain": [
       "<IPython.core.display.HTML object>"
      ]
     },
     "metadata": {},
     "output_type": "display_data"
    },
    {
     "data": {
      "text/html": [
       " View run at <a href='https://wandb.ai/mah3i-tabesh500-mahdi-saleh-tabesh/hpml-hw2-llm/runs/ybnsevtc' target=\"_blank\">https://wandb.ai/mah3i-tabesh500-mahdi-saleh-tabesh/hpml-hw2-llm/runs/ybnsevtc</a>"
      ],
      "text/plain": [
       "<IPython.core.display.HTML object>"
      ]
     },
     "metadata": {},
     "output_type": "display_data"
    },
    {
     "name": "stderr",
     "output_type": "stream",
     "text": [
      "Some weights of DistilBertForSequenceClassification were not initialized from the model checkpoint at distilbert-base-uncased and are newly initialized: ['classifier.bias', 'classifier.weight', 'pre_classifier.bias', 'pre_classifier.weight']\n",
      "You should probably TRAIN this model on a down-stream task to be able to use it for predictions and inference.\n",
      "/usr/local/lib/python3.12/dist-packages/torch/_inductor/compile_fx.py:282: UserWarning: TensorFloat32 tensor cores for float32 matrix multiplication available but not enabled. Consider setting `torch.set_float32_matmul_precision('high')` for better performance.\n",
      "  warnings.warn(\n",
      "/usr/local/lib/python3.12/dist-packages/torch/_inductor/lowering.py:7095: UserWarning: \n",
      "Online softmax is disabled on the fly since Inductor decides to\n",
      "split the reduction. Cut an issue to PyTorch if this is an\n",
      "important use case and you want to speed it up with online\n",
      "softmax.\n",
      "\n",
      "  warnings.warn(\n",
      "/usr/local/lib/python3.12/dist-packages/torch/_inductor/lowering.py:7095: UserWarning: \n",
      "Online softmax is disabled on the fly since Inductor decides to\n",
      "split the reduction. Cut an issue to PyTorch if this is an\n",
      "important use case and you want to speed it up with online\n",
      "softmax.\n",
      "\n",
      "  warnings.warn(\n",
      "W1019 21:49:55.915000 1964 torch/fx/experimental/symbolic_shapes.py:6823] [0/2] _maybe_guard_rel() was called on non-relation expression Eq(s43, 1) | Eq(s72, s43)\n",
      "/usr/local/lib/python3.12/dist-packages/torch/_inductor/lowering.py:7095: UserWarning: \n",
      "Online softmax is disabled on the fly since Inductor decides to\n",
      "split the reduction. Cut an issue to PyTorch if this is an\n",
      "important use case and you want to speed it up with online\n",
      "softmax.\n",
      "\n",
      "  warnings.warn(\n"
     ]
    },
    {
     "name": "stdout",
     "output_type": "stream",
     "text": [
      "Compile (Inductor) | Epoch 1 time: 149.223s\n",
      "Compile (Inductor) | Epoch 2 time: 113.103s\n",
      "Compile (Inductor) | Epoch 3 time: 113.276s\n",
      "Compile (Inductor) | Epoch 4 time: 113.672s\n",
      "Compile (Inductor) | Epoch 5 time: 113.570s\n",
      "Compile (Inductor) | Epoch 6 time: 113.682s\n",
      "Compile (Inductor) | Epoch 7 time: 113.440s\n",
      "Compile (Inductor) | Epoch 8 time: 113.470s\n",
      "Compile (Inductor) | Epoch 9 time: 113.541s\n",
      "Compile (Inductor) | Epoch 10 time: 113.727s\n"
     ]
    },
    {
     "data": {
      "text/html": [],
      "text/plain": [
       "<IPython.core.display.HTML object>"
      ]
     },
     "metadata": {},
     "output_type": "display_data"
    },
    {
     "data": {
      "text/html": [
       "<br>    <style><br>        .wandb-row {<br>            display: flex;<br>            flex-direction: row;<br>            flex-wrap: wrap;<br>            justify-content: flex-start;<br>            width: 100%;<br>        }<br>        .wandb-col {<br>            display: flex;<br>            flex-direction: column;<br>            flex-basis: 100%;<br>            flex: 1;<br>            padding: 10px;<br>        }<br>    </style><br><div class=\"wandb-row\"><div class=\"wandb-col\"><h3>Run history:</h3><br/><table class=\"wandb\"><tr><td>time/epoch</td><td>█▁▁▁▁▁▁▁▁▁</td></tr><tr><td>train/loss</td><td>█▅▃▂▂▂▁▁▁▁</td></tr></table><br/></div><div class=\"wandb-col\"><h3>Run summary:</h3><br/><table class=\"wandb\"><tr><td>time/epoch</td><td>113.72664</td></tr><tr><td>train/loss</td><td>0.02102</td></tr></table><br/></div></div>"
      ],
      "text/plain": [
       "<IPython.core.display.HTML object>"
      ]
     },
     "metadata": {},
     "output_type": "display_data"
    },
    {
     "data": {
      "text/html": [
       " View run <strong style=\"color:#cdcd00\">compile_(inductor)_10epochs</strong> at: <a href='https://wandb.ai/mah3i-tabesh500-mahdi-saleh-tabesh/hpml-hw2-llm/runs/ybnsevtc' target=\"_blank\">https://wandb.ai/mah3i-tabesh500-mahdi-saleh-tabesh/hpml-hw2-llm/runs/ybnsevtc</a><br> View project at: <a href='https://wandb.ai/mah3i-tabesh500-mahdi-saleh-tabesh/hpml-hw2-llm' target=\"_blank\">https://wandb.ai/mah3i-tabesh500-mahdi-saleh-tabesh/hpml-hw2-llm</a><br>Synced 5 W&B file(s), 0 media file(s), 0 artifact file(s) and 0 other file(s)"
      ],
      "text/plain": [
       "<IPython.core.display.HTML object>"
      ]
     },
     "metadata": {},
     "output_type": "display_data"
    },
    {
     "data": {
      "text/html": [
       "Find logs at: <code>./wandb/run-20251019_214740-ybnsevtc/logs</code>"
      ],
      "text/plain": [
       "<IPython.core.display.HTML object>"
      ]
     },
     "metadata": {},
     "output_type": "display_data"
    }
   ],
   "source": [
    "# C8: torch.compile (Inductor Backend)\n",
    "\n",
    "modes = [\n",
    "    (\"Eager\", False),\n",
    "    (\"Compile (Inductor)\", True)\n",
    "]\n",
    "\n",
    "compile_results = []\n",
    "\n",
    "for mode_name, use_compile in modes:\n",
    "    wandb.init(\n",
    "        project=\"hpml-hw2-llm\",\n",
    "        name=f\"{mode_name.replace(' ', '_').lower()}_10epochs\",\n",
    "        group=\"compile_comparison\",\n",
    "        config={\n",
    "            \"model_name\": model_name,\n",
    "            \"sequence_length\": 256,\n",
    "            \"batch_size\": 32,\n",
    "            \"learning_rate\": 1e-4,\n",
    "            \"optimizer\": \"AdamW\",\n",
    "            \"num_workers\": 2,\n",
    "            \"epochs\": 10,\n",
    "            \"device\": \"cuda\",\n",
    "            \"torch_compile\": use_compile\n",
    "        }\n",
    "    )\n",
    "\n",
    "    # Reinitialize model & optimizer\n",
    "    model = DistilBertForSequenceClassification.from_pretrained(model_name, num_labels=2).to(\"cuda\")\n",
    "    if use_compile:\n",
    "        model = torch.compile(model, backend=\"inductor\")\n",
    "\n",
    "    optimizer = torch.optim.AdamW(model.parameters(), lr=1e-4)\n",
    "    train_loader = DataLoader(train_ds, batch_size=32, shuffle=True, collate_fn=collate_fn, num_workers=2)\n",
    "\n",
    "    epoch_times = []\n",
    "    for epoch in range(1, 11):\n",
    "        model.train()\n",
    "        start_time = time.time()\n",
    "        total_loss = 0.0\n",
    "        total_samples = 0\n",
    "\n",
    "        for batch in train_loader:\n",
    "            batch = {k: v.to(\"cuda\") for k, v in batch.items()}\n",
    "            optimizer.zero_grad()\n",
    "            outputs = model(**batch)\n",
    "            loss = outputs.loss\n",
    "            loss.backward()\n",
    "            optimizer.step()\n",
    "            total_loss += loss.item() * batch[\"labels\"].size(0)\n",
    "            total_samples += batch[\"labels\"].size(0)\n",
    "\n",
    "        if torch.cuda.is_available():\n",
    "            torch.cuda.synchronize()\n",
    "\n",
    "        end_time = time.time()\n",
    "        epoch_time = end_time - start_time\n",
    "        epoch_times.append(epoch_time)\n",
    "\n",
    "        wandb.log({\"train/loss\": total_loss / total_samples, \"time/epoch\": epoch_time}, step=epoch)\n",
    "        print(f\"{mode_name} | Epoch {epoch} time: {epoch_time:.3f}s\")\n",
    "\n",
    "    wandb.finish()\n",
    "\n",
    "    # Record results for T8\n",
    "    first_epoch_time = round(epoch_times[0], 3)\n",
    "    avg_6_to_10 = round(np.mean(epoch_times[5:10]), 3)\n",
    "    compile_results.append((mode_name, first_epoch_time, avg_6_to_10))\n",
    "\n"
   ]
  },
  {
   "cell_type": "code",
   "execution_count": null,
   "metadata": {
    "id": "KN_jCUxgowad"
   },
   "outputs": [],
   "source": []
  },
  {
   "cell_type": "markdown",
   "metadata": {
    "id": "6D-abhjroxHe"
   },
   "source": [
    "# Experiment Tracking (Weights & Biases) link of W&B run page.\n",
    "- View run eager_10epochs at: https://wandb.ai/mah3i-tabesh500-mahdi-saleh-tabesh/hpml-hw2-llm/runs/4a04567d\n",
    "- View run compile_(inductor)_10epochs at: https://wandb.ai/mah3i-tabesh500-mahdi-saleh-tabesh/hpml-hw2-llm/runs/ybnsevtc\n",
    "- View project at: https://wandb.ai/mah3i-tabesh500-mahdi-saleh-tabesh/hpml-hw2-llm\n",
    "- Synced 5 W&B file(s), 0 media file(s), 0 artifact file(s) and 0 other file(s)\n",
    "- Find logs at: ./wandb/run-20251019_214740-ybnsevtc/logs"
   ]
  },
  {
   "cell_type": "code",
   "execution_count": null,
   "metadata": {
    "id": "srn7VQgaowra"
   },
   "outputs": [],
   "source": []
  },
  {
   "cell_type": "code",
   "execution_count": null,
   "metadata": {
    "colab": {
     "base_uri": "https://localhost:8080/"
    },
    "executionInfo": {
     "elapsed": 27,
     "status": "ok",
     "timestamp": 1760911637982,
     "user": {
      "displayName": "Mahdi Saleh Tabesh",
      "userId": "07240825415212703464"
     },
     "user_tz": 240
    },
    "id": "UVTbL3660OJG",
    "outputId": "a0dda8f8-a6c9-4a04-bb1a-b965a109a378"
   },
   "outputs": [
    {
     "name": "stdout",
     "output_type": "stream",
     "text": [
      "\n",
      "Table T8: torch.compile (Inductor) vs. Eager Mode\n",
      "\n",
      "                 Mode  First Epoch Time (s)  Avg Time Epochs 6–10 (s)\n",
      "0               Eager               114.812                   114.485\n",
      "1  Compile (Inductor)               149.223                   113.572\n"
     ]
    }
   ],
   "source": [
    "# Table T8: Eager vs. Compile timing comparison\n",
    "compile_df = pd.DataFrame(compile_results, columns=[\"Mode\", \"First Epoch Time (s)\", \"Avg Time Epochs 6–10 (s)\"])\n",
    "print(\"\\nTable T8: torch.compile (Inductor) vs. Eager Mode\\n\")\n",
    "print(compile_df)"
   ]
  },
  {
   "cell_type": "code",
   "execution_count": null,
   "metadata": {
    "colab": {
     "base_uri": "https://localhost:8080/",
     "height": 407
    },
    "executionInfo": {
     "elapsed": 126,
     "status": "ok",
     "timestamp": 1760911638110,
     "user": {
      "displayName": "Mahdi Saleh Tabesh",
      "userId": "07240825415212703464"
     },
     "user_tz": 240
    },
    "id": "Ux1aXZrQ0OlT",
    "outputId": "33aff5a1-991a-4261-9ddd-e113028a8161"
   },
   "outputs": [
    {
     "data": {
      "image/png": "[encoded data removed]",
      "text/plain": [
       "<Figure size 600x400 with 1 Axes>"
      ]
     },
     "metadata": {},
     "output_type": "display_data"
    }
   ],
   "source": [
    "# Figure F8: Bar comparison\n",
    "plt.figure(figsize=(6,4))\n",
    "x = np.arange(len(compile_df[\"Mode\"]))\n",
    "width = 0.35\n",
    "plt.bar(x - width/2, compile_df[\"First Epoch Time (s)\"], width, label=\"First Epoch\")\n",
    "plt.bar(x + width/2, compile_df[\"Avg Time Epochs 6–10 (s)\"], width, label=\"Avg (6–10)\")\n",
    "plt.xticks(x, compile_df[\"Mode\"])\n",
    "plt.ylabel(\"Time (s)\")\n",
    "plt.title(\"Figure F8 - Eager vs. torch.compile Timing\")\n",
    "plt.legend()\n",
    "plt.tight_layout()\n",
    "plt.show()\n"
   ]
  },
  {
   "cell_type": "markdown",
   "metadata": {
    "id": "aUZxtcBJiP3V"
   },
   "source": [
    "# why the first compiled epoch is slower and later epochs faster.\n",
    "- The first compiled epoch is slower because torch.compile performs a one-time graph tracing and kernel generation step that adds compilation overhead.\n",
    "After this initial setup, the model runs optimized fused kernels in later epochs, making the subsequent epochs faster than in Eager mode."
   ]
  },
  {
   "cell_type": "code",
   "execution_count": null,
   "metadata": {
    "id": "IP10ELroirJW"
   },
   "outputs": [],
   "source": []
  }
 ],
 "metadata": {
  "accelerator": "GPU",
  "colab": {
   "authorship_tag": "ABX9TyNHBnqfF1L1ZlspdC4L1Bhn",
   "gpuType": "A100",
   "provenance": []
  },
  "kernelspec": {
   "display_name": "Python 3 (ipykernel)",
   "language": "python",
   "name": "python3"
  },
  "language_info": {
   "codemirror_mode": {
    "name": "ipython",
    "version": 3
   },
   "file_extension": ".py",
   "mimetype": "text/x-python",
   "name": "python",
   "nbconvert_exporter": "python",
   "pygments_lexer": "ipython3",
   "version": "3.10.17"
  }
 },
 "nbformat": 4,
 "nbformat_minor": 4
}
