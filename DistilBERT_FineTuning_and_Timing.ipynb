{
 "cells": [
  {
   "cell_type": "markdown",
   "metadata": {
    "id": "5EZcyOOkd0ki"
   },
   "source": [
    "## 1. Setup and Environment Check\n",
    "\n",
    "First, let's install and import the necessary libraries and verify our computing environment. We will ensure we have PyTorch (for model training), Hugging Face Transformers (for the DistilBERT model and tokenizer), and the Hugging Face Datasets library (to load the IMDB dataset). We also check the GPU availability and software versions:"
   ]
  },
  {
   "cell_type": "code",
   "execution_count": 4,
   "metadata": {
    "colab": {
     "base_uri": "https://localhost:8080/"
    },
    "executionInfo": {
     "elapsed": 11309,
     "status": "ok",
     "timestamp": 1760975596879,
     "user": {
      "displayName": "Mahdi Saleh Tabesh",
      "userId": "07240825415212703464"
     },
     "user_tz": 240
    },
    "id": "0n77lAyLd5S3",
    "outputId": "f2512485-0725-4f22-c733-da7496c5048a"
   },
   "outputs": [
    {
     "name": "stdout",
     "output_type": "stream",
     "text": [
      "PyTorch version: 2.8.0+cu126\n",
      "Transformers version: 4.57.1\n",
      "GPU device: NVIDIA A100-SXM4-40GB\n",
      "CUDA version: 12.6\n"
     ]
    }
   ],
   "source": [
    "!pip install -q transformers datasets\n",
    "\n",
    "import torch, platform\n",
    "try:\n",
    "    import transformers\n",
    "except ImportError:\n",
    "    print(\"Installing transformers...\")\n",
    "    import transformers\n",
    "\n",
    "# Print environment information\n",
    "print(f\"PyTorch version: {torch.__version__}\")\n",
    "print(f\"Transformers version: {transformers.__version__}\")\n",
    "if torch.cuda.is_available():\n",
    "    gpu_name = torch.cuda.get_device_name(0)\n",
    "    print(f\"GPU device: {gpu_name}\")\n",
    "    print(f\"CUDA version: {torch.version.cuda}\")\n",
    "else:\n",
    "    print(\"GPU device: None (using CPU)\")\n"
   ]
  },
  {
   "cell_type": "code",
   "execution_count": 5,
   "metadata": {
    "colab": {
     "base_uri": "https://localhost:8080/"
    },
    "executionInfo": {
     "elapsed": 7,
     "status": "ok",
     "timestamp": 1760975600860,
     "user": {
      "displayName": "Mahdi Saleh Tabesh",
      "userId": "07240825415212703464"
     },
     "user_tz": 240
    },
    "id": "cEhtXbvSebRb",
    "outputId": "28038fc1-3806-4750-fdba-fbd315726ea5"
   },
   "outputs": [
    {
     "name": "stdout",
     "output_type": "stream",
     "text": [
      "Random seed set to: 42\n"
     ]
    }
   ],
   "source": [
    "# Set random seeds for reproducibility\n",
    "import torch\n",
    "import numpy as np\n",
    "import random\n",
    "\n",
    "# Reproducibility\n",
    "seed = 42\n",
    "random.seed(seed)\n",
    "np.random.seed(seed)\n",
    "torch.manual_seed(seed)\n",
    "torch.cuda.manual_seed_all(seed)\n",
    "\n",
    "print(f\"Random seed set to: {seed}\")\n"
   ]
  },
  {
   "cell_type": "markdown",
   "metadata": {
    "id": "dx2nOxuieeq6"
   },
   "source": [
    "# C1: Fine-tuning DistilBERT on IMDB\n",
    "\n",
    "Task: Fine-tune a small language model (DistilBERT) for binary sentiment classification on the IMDB movie reviews dataset. We will train for 5 epochs with batch size 32, maximum sequence length 256, and learning rate 1e-4. We use the DistilBertForSequenceClassification model (with a binary output) and its associated tokenizer. The tokenizer will perform text encoding with truncation to 256 tokens, and we implement dynamic padding in a custom collate_fn so that each batch is padded only to the length of the longest sequence in that batch.\n",
    "\n",
    "Steps:\n",
    "\n",
    "- Load the IMDB dataset via Hugging Face Datasets. This gives us a training set and test set of reviews with labels.\n",
    "\n",
    "- Initialize the DistilBERT tokenizer and model (pretrained weights).\n",
    "\n",
    "- Pre-tokenize the dataset with truncation (but no padding yet).\n",
    "\n",
    "- Define a collate_fn that pads a batch of encoded sequences to the batch's max length.\n",
    "\n",
    "- Create PyTorch DataLoader for training and testing, using our collate function for dynamic padding. We set num_workers=2 for data loading threads as a default.\n",
    "\n",
    "- Fine-tune the model for 5 epochs. For each epoch, we track the training loss and accuracy, and also evaluate the model on the test set to get test accuracy.\n",
    "\n",
    "- Log/print the metrics per epoch, and after training, plot the training loss and accuracy over epochs. Finally, we will present a table of the metrics."
   ]
  },
  {
   "cell_type": "code",
   "execution_count": 7,
   "metadata": {
    "colab": {
     "base_uri": "https://localhost:8080/",
     "height": 404,
     "referenced_widgets": [
      "dba73ab22767420c90e5410c7474a9d4",
      "8e2c3ac4852b4ffbaab8a1b063e17ed2",
      "b359fe07f68541be80f80bf18dd7f072",
      "5846f75dbfec4459b2a57dc15ab156f9",
      "64bffac927d34a909d7cc99a79bd0bd8",
      "6a4dd937f3d8455d998bf5b99bce22be",
      "379c7c3ccaa640759f5203ab7fab0644",
      "3b4bbc38e2e44b7c97873f0797355a24",
      "85cccdb0053c411baf37fc4a9d01b1f3",
      "79b53e23042e40e0a6c07b0a33ea8f37",
      "af1077139faa4855969d0cd7f532decc",
      "345d6d261a924ff49184ec7b53086694",
      "4faaae83012348a2a801fb7a98179e5d",
      "6481adcfbc684153821091559cf67969",
      "2fc4eb58175945f083134c2a735b65c7",
      "3e23b37e969d481581f11db31c43a561",
      "60c4b492f856426f9d811a1b77f20a3e",
      "d44e9a517dab45259700368edb1913c4",
      "0baa0563b46f4b0f88fe4dfb7790adc4",
      "2f0d074599864de2821c0b4d040104f3",
      "bf363ec1dcc843029c377270f30d3ca0",
      "71a16afd534a4ed38f12c3d56e8d82b4",
      "cf76aa7145fc409ea45f9e51ab119bfe",
      "75388de1c75646da98a0d66ff7f86e93",
      "6af307749a424c27a0ebfdc177be7900",
      "914818301e9a414d848ccf89d4326c83",
      "5b1b59cc315542f3935c6ded2f4b227e",
      "f966573dfcdf482a9a7110e02bc285cc",
      "1e9418168d5f46b28aea0943000a9aeb",
      "cf0f3e9e09e84391a53938ddb0a81cd4",
      "950f9f16c26b4ca7b81278ec48f6e604",
      "08bfae2ddf094acaa260fa82775ba2cf",
      "f9a5b90bd1b74aeea4be31d209d4a143",
      "3b455c073c9643389510676c1fde964c",
      "82a53caca1be40989475f84fc9f4f869",
      "7658af2ef26a40ae9435ad9a1cc8e939",
      "bef16636af984689acab6e1848c28e39",
      "e448338b3081470597d9d363a531313b",
      "c276357d264c4cbaab1f8e315866d868",
      "f235def5a4a84aeeae9cf6e690d5d0de",
      "42a12a5003f14cd58314b3dc1a8ac252",
      "850a38e16aa64e05b07412a5c3b8e6ad",
      "52d836f8e69b4490a37e67f65f315210",
      "4743574c16e34e319c59b1bd0990515a",
      "a2e633b8dc04480a9f60bfbc8150828a",
      "2112f2ff9cc041dbb582bab0ebe04387",
      "4f507c32c9214ddf844bca7124005911",
      "2ea1f8b433914752827c7f13f529999a",
      "72d878612f6f4c1296b06fdf22c92539",
      "1fd5fef4915244e2a9532d58528c0007",
      "4666a84309754b2da431159c98c280d8",
      "bcbb8d0fb9a24c6eb56628ef56ed44f1",
      "ff0fc76e1a454733acde20da6bbae900",
      "4d913af97cc8451babcd772bbd91db94",
      "be354fe21dbb4b518d9016444c487594",
      "c223e920208a4a149ec8dcf00f82eb92",
      "53512acc10e2492dbd233dfce2795bf5",
      "8949ba3359dc44798e50592706c3a639",
      "8ad9ee070d0a4f28957fb1db7de83fa3",
      "6b83eb21f90349d98b8546c338696235",
      "998aa59115fc40fa8a36491d6f96a725",
      "91c33cf9590442ab919429122e95f19a",
      "26ad781f4d644b2a81a4cc226b064ce9",
      "aeebaf5a7fad49989a369895e710ec74",
      "58de604769e149be99fc7f481a7a905d",
      "e67950835cc249a08905adb1d9a2592d",
      "7bc5aca7892e4ee598d31d5ba92ab2b6",
      "ce7f25bb03204dab8aae7c70380d0ade",
      "55f069976e3f41cbb104fc6a205880f5",
      "0ea7bfabdc674c4db2d9e329191276bc",
      "10f9786768d24a028830e350002b7e7f",
      "af4679fcb61a4698b2c293bc53f82a1a",
      "246ee01a56f940999f5a2b5e160fcd4d",
      "89c979a3ddfd4c0e9c63533770ae0b12",
      "20424dfb18c34c2d86007b0f30199c55",
      "5115d74e172341c488686162ff51ffb5",
      "031fb83776c44692ba313b0c789c124b",
      "7546be2e5d184bb395b2b2452b6d70f7",
      "23be1f883e9a425889509729efca6e1a",
      "c03a31653655494c8dee07959f3a7f55",
      "4d146f10a8264f5e8a67b4d2a52a9136",
      "68224419f60c418692102233180ac5cb",
      "5c40471e888741a8988b005f2db2130f",
      "2d996db6eb0d4e21836014f27aa77147",
      "ed4f55f053574fb0b311de96d1188b4b",
      "f4a176ecdbee4312842fd5071de29291",
      "da0c9577097940f6b7993e5d82954694",
      "224b18563ccd45728a757bfc88318074",
      "e5acf5d218264902ac955e115ae661ea",
      "f49e3f49f6724372905a8985b3990bcc",
      "0cefa1550110479aaf835869f2e54694",
      "cc1d1ed6a8e34064bce5561576f9a35b",
      "9b2384b5d37243cd966c506bfc89666d",
      "a412e285de5f40a8a43d6baba02fe509",
      "8bbb1f59d9c14e9a80b431381a1339a1",
      "a76f77ded74c4230bea6ce6556b26914",
      "545d94ea54a3453492ecd9b031095259",
      "46dc05dadc3b4da392df2fc4cd5828c2",
      "707297ef1137435f982e7a01d4601c02",
      "d098e7098da3490cbcb5fd9b77105db5",
      "6547737fc13f4ec6a7953342372b3f0e",
      "8254f7d3984e4406b571762c9071dc30",
      "c17253b8e04648efb278b917ff63b6a6",
      "1c359112acaf42bf97005f744069103a",
      "c7e1465f216e408d8bc57e6c51acb514",
      "95884cc0f39b4c9da6559d78ad426f3f",
      "df85b462fd094df981d56e80d323bdb6",
      "8227dee6172a49a9a44ce759e8c080fe",
      "2a5d32ef39604d75a41644ce929723ea",
      "90f564f093ff41e2beb97d02de24a5c7",
      "b25052be0bdf4e69abda144948122d00",
      "de79c876256d40868535c1465ef7500d",
      "fe646b6aac1a4779acbb679b932ce326",
      "15eabdb504d34c289ad7c6be632da17f",
      "72ec45eb34174832911b835bcc24b2f8",
      "14c5f8fa018d4d418b3fd17590d05477",
      "0171f2fae59a42e190f305e82d6ab52d",
      "13c17c16f44444a8a79d0f1b444f8809",
      "c293537720d446ef94701be7d80c023f",
      "7424f1a269aa4c99a8c2b74270c3cacb",
      "1b7a332bc39f4829896a375b78c970db"
     ]
    },
    "executionInfo": {
     "elapsed": 38510,
     "status": "ok",
     "timestamp": 1760975746356,
     "user": {
      "displayName": "Mahdi Saleh Tabesh",
      "userId": "07240825415212703464"
     },
     "user_tz": 240
    },
    "id": "a1LqYPV4evA7",
    "outputId": "5b204263-8652-4ec6-bb20-4dd58f89e3ee"
   },
   "outputs": [
    {
     "data": {
      "application/vnd.jupyter.widget-view+json": {
       "model_id": "dba73ab22767420c90e5410c7474a9d4",
       "version_major": 2,
       "version_minor": 0
      },
      "text/plain": [
       "plain_text/train-00000-of-00001.parquet:   0%|          | 0.00/21.0M [00:00<?, ?B/s]"
      ]
     },
     "metadata": {},
     "output_type": "display_data"
    },
    {
     "data": {
      "application/vnd.jupyter.widget-view+json": {
       "model_id": "345d6d261a924ff49184ec7b53086694",
       "version_major": 2,
       "version_minor": 0
      },
      "text/plain": [
       "plain_text/test-00000-of-00001.parquet:   0%|          | 0.00/20.5M [00:00<?, ?B/s]"
      ]
     },
     "metadata": {},
     "output_type": "display_data"
    },
    {
     "data": {
      "application/vnd.jupyter.widget-view+json": {
       "model_id": "cf76aa7145fc409ea45f9e51ab119bfe",
       "version_major": 2,
       "version_minor": 0
      },
      "text/plain": [
       "plain_text/unsupervised-00000-of-00001.p(…):   0%|          | 0.00/42.0M [00:00<?, ?B/s]"
      ]
     },
     "metadata": {},
     "output_type": "display_data"
    },
    {
     "data": {
      "application/vnd.jupyter.widget-view+json": {
       "model_id": "3b455c073c9643389510676c1fde964c",
       "version_major": 2,
       "version_minor": 0
      },
      "text/plain": [
       "Generating train split:   0%|          | 0/25000 [00:00<?, ? examples/s]"
      ]
     },
     "metadata": {},
     "output_type": "display_data"
    },
    {
     "data": {
      "application/vnd.jupyter.widget-view+json": {
       "model_id": "a2e633b8dc04480a9f60bfbc8150828a",
       "version_major": 2,
       "version_minor": 0
      },
      "text/plain": [
       "Generating test split:   0%|          | 0/25000 [00:00<?, ? examples/s]"
      ]
     },
     "metadata": {},
     "output_type": "display_data"
    },
    {
     "data": {
      "application/vnd.jupyter.widget-view+json": {
       "model_id": "c223e920208a4a149ec8dcf00f82eb92",
       "version_major": 2,
       "version_minor": 0
      },
      "text/plain": [
       "Generating unsupervised split:   0%|          | 0/50000 [00:00<?, ? examples/s]"
      ]
     },
     "metadata": {},
     "output_type": "display_data"
    },
    {
     "data": {
      "application/vnd.jupyter.widget-view+json": {
       "model_id": "7bc5aca7892e4ee598d31d5ba92ab2b6",
       "version_major": 2,
       "version_minor": 0
      },
      "text/plain": [
       "tokenizer_config.json:   0%|          | 0.00/48.0 [00:00<?, ?B/s]"
      ]
     },
     "metadata": {},
     "output_type": "display_data"
    },
    {
     "data": {
      "application/vnd.jupyter.widget-view+json": {
       "model_id": "7546be2e5d184bb395b2b2452b6d70f7",
       "version_major": 2,
       "version_minor": 0
      },
      "text/plain": [
       "vocab.txt:   0%|          | 0.00/232k [00:00<?, ?B/s]"
      ]
     },
     "metadata": {},
     "output_type": "display_data"
    },
    {
     "data": {
      "application/vnd.jupyter.widget-view+json": {
       "model_id": "e5acf5d218264902ac955e115ae661ea",
       "version_major": 2,
       "version_minor": 0
      },
      "text/plain": [
       "tokenizer.json:   0%|          | 0.00/466k [00:00<?, ?B/s]"
      ]
     },
     "metadata": {},
     "output_type": "display_data"
    },
    {
     "data": {
      "application/vnd.jupyter.widget-view+json": {
       "model_id": "d098e7098da3490cbcb5fd9b77105db5",
       "version_major": 2,
       "version_minor": 0
      },
      "text/plain": [
       "config.json:   0%|          | 0.00/483 [00:00<?, ?B/s]"
      ]
     },
     "metadata": {},
     "output_type": "display_data"
    },
    {
     "data": {
      "application/vnd.jupyter.widget-view+json": {
       "model_id": "b25052be0bdf4e69abda144948122d00",
       "version_major": 2,
       "version_minor": 0
      },
      "text/plain": [
       "model.safetensors:   0%|          | 0.00/268M [00:00<?, ?B/s]"
      ]
     },
     "metadata": {},
     "output_type": "display_data"
    },
    {
     "name": "stderr",
     "output_type": "stream",
     "text": [
      "Some weights of DistilBertForSequenceClassification were not initialized from the model checkpoint at distilbert-base-uncased and are newly initialized: ['classifier.bias', 'classifier.weight', 'pre_classifier.bias', 'pre_classifier.weight']\n",
      "You should probably TRAIN this model on a down-stream task to be able to use it for predictions and inference.\n"
     ]
    }
   ],
   "source": [
    "from datasets import load_dataset\n",
    "from transformers import DistilBertTokenizerFast, DistilBertForSequenceClassification\n",
    "import torch\n",
    "from torch.utils.data import DataLoader\n",
    "import torch.optim as optim\n",
    "\n",
    "# Silence Hugging Face tokenizer warnings\n",
    "import warnings\n",
    "warnings.filterwarnings(\"ignore\", message=\".*DistilBertTokenizerFast.*\")\n",
    "\n",
    "# Load the IMDB dataset\n",
    "dataset = load_dataset(\"imdb\")\n",
    "train_ds = dataset[\"train\"]\n",
    "test_ds = dataset[\"test\"]\n",
    "\n",
    "# Initialize the DistilBERT tokenizer and model\n",
    "model_name = \"distilbert-base-uncased\"\n",
    "tokenizer = DistilBertTokenizerFast.from_pretrained(model_name)\n",
    "model = DistilBertForSequenceClassification.from_pretrained(model_name, num_labels=2)"
   ]
  },
  {
   "cell_type": "code",
   "execution_count": 8,
   "metadata": {
    "colab": {
     "base_uri": "https://localhost:8080/",
     "height": 81,
     "referenced_widgets": [
      "9da4f521939d42949205b6cbfbdacc91",
      "cd6e887a2216446e804c0b2806d104f4",
      "0d6fb458e93c4fe49a9e6546f73c9813",
      "7f66f1cc69494ddfa34494417dedc173",
      "4a9d0ce232e84ea49743d8346516a65e",
      "3a10e2421eeb4c34aa8752bf78a9c68d",
      "9bacf453ec7f4847a98665b7e2a3a596",
      "12835fec09664067bd0c99e6f826b9d2",
      "153e061d4a66468086a8fd5f5960630b",
      "37dde8f1b6ee40bcbfaf458331fedc6b",
      "7454439c951c4c4790f2f212fbdf148a",
      "e4d5249330f940f89e1334bcb14e3f72",
      "341950a54ab14b8288b86170cc1a4a19",
      "e4944715640f4575a0f3af0e5792935e",
      "3cc777800ce74440a2e709fb5c7a8dfb",
      "f8a29f26526d4df8bc15090280cdca97",
      "250e897defdd4fb4a281c9bad201e3f6",
      "f57988ecd890483e8999769c7c01243d",
      "7e37a77f3d05400fbc5f077e5db0bef2",
      "f3169aa56f3b42afbe6fa9deefb51fe1",
      "b2b62a46c5e241368b5865829a39e5f3",
      "f1382428497445ad86e3785fc303cd8a"
     ]
    },
    "executionInfo": {
     "elapsed": 12388,
     "status": "ok",
     "timestamp": 1760975765562,
     "user": {
      "displayName": "Mahdi Saleh Tabesh",
      "userId": "07240825415212703464"
     },
     "user_tz": 240
    },
    "id": "dKTgS5ide0BJ",
    "outputId": "e7099d77-e146-40dc-b5fe-54988de8d431"
   },
   "outputs": [
    {
     "data": {
      "application/vnd.jupyter.widget-view+json": {
       "model_id": "9da4f521939d42949205b6cbfbdacc91",
       "version_major": 2,
       "version_minor": 0
      },
      "text/plain": [
       "Map:   0%|          | 0/25000 [00:00<?, ? examples/s]"
      ]
     },
     "metadata": {},
     "output_type": "display_data"
    },
    {
     "data": {
      "application/vnd.jupyter.widget-view+json": {
       "model_id": "e4d5249330f940f89e1334bcb14e3f72",
       "version_major": 2,
       "version_minor": 0
      },
      "text/plain": [
       "Map:   0%|          | 0/25000 [00:00<?, ? examples/s]"
      ]
     },
     "metadata": {},
     "output_type": "display_data"
    }
   ],
   "source": [
    "# Tokenize the datasets (with truncation to max length 256, but no padding yet)\n",
    "def tokenize_batch(batch):\n",
    "    return tokenizer(batch[\"text\"], truncation=True, max_length=256)\n",
    "train_ds = train_ds.map(tokenize_batch, batched=True, remove_columns=[\"text\"])\n",
    "test_ds = test_ds.map(tokenize_batch, batched=True, remove_columns=[\"text\"])\n",
    "\n",
    "# Define custom collate function for dynamic padding\n",
    "def collate_fn(batch):\n",
    "    # Each item in batch is a dict with 'input_ids', 'attention_mask', 'label' fields from tokenization\n",
    "    input_ids = [item[\"input_ids\"] for item in batch]\n",
    "    attention_masks = [item[\"attention_mask\"] for item in batch]\n",
    "    labels = [item[\"label\"] for item in batch]\n",
    "    # Pad sequences dynamically to the longest sequence in this batch\n",
    "    batch_enc = tokenizer.pad(\n",
    "        {\"input_ids\": input_ids, \"attention_mask\": attention_masks},\n",
    "        padding=True,\n",
    "        max_length=None,\n",
    "        return_tensors=\"pt\"\n",
    "    )\n",
    "    # Convert labels to tensor\n",
    "    batch_enc[\"labels\"] = torch.tensor(labels, dtype=torch.long)\n",
    "    return batch_enc\n",
    "\n",
    "# Create DataLoaders for train and test sets\n",
    "train_loader = DataLoader(train_ds, batch_size=32, shuffle=True, collate_fn=collate_fn, num_workers=2)\n",
    "test_loader = DataLoader(test_ds, batch_size=32, shuffle=False, collate_fn=collate_fn, num_workers=2)\n",
    "\n",
    "# Prepare for training\n",
    "device = torch.device(\"cuda\" if torch.cuda.is_available() else \"cpu\")\n",
    "model.to(device)\n",
    "optimizer = optim.AdamW(model.parameters(), lr=1e-4)"
   ]
  },
  {
   "cell_type": "code",
   "execution_count": null,
   "metadata": {
    "id": "vXzFBuHiVOsC"
   },
   "outputs": [],
   "source": []
  },
  {
   "cell_type": "code",
   "execution_count": null,
   "metadata": {
    "colab": {
     "base_uri": "https://localhost:8080/",
     "height": 191
    },
    "executionInfo": {
     "elapsed": 20362,
     "status": "ok",
     "timestamp": 1760891883942,
     "user": {
      "displayName": "Mahdi Saleh Tabesh",
      "userId": "07240825415212703464"
     },
     "user_tz": 240
    },
    "id": "9HA_wVsme0Dy",
    "outputId": "20df2e47-06a0-4664-a447-f4c1bb87dba7"
   },
   "outputs": [
    {
     "data": {
      "application/javascript": [
       "\n",
       "        window._wandbApiKey = new Promise((resolve, reject) => {\n",
       "            function loadScript(url) {\n",
       "            return new Promise(function(resolve, reject) {\n",
       "                let newScript = document.createElement(\"script\");\n",
       "                newScript.onerror = reject;\n",
       "                newScript.onload = resolve;\n",
       "                document.body.appendChild(newScript);\n",
       "                newScript.src = url;\n",
       "            });\n",
       "            }\n",
       "            loadScript(\"https://cdn.jsdelivr.net/npm/postmate/build/postmate.min.js\").then(() => {\n",
       "            const iframe = document.createElement('iframe')\n",
       "            iframe.style.cssText = \"width:0;height:0;border:none\"\n",
       "            document.body.appendChild(iframe)\n",
       "            const handshake = new Postmate({\n",
       "                container: iframe,\n",
       "                url: 'https://wandb.ai/authorize'\n",
       "            });\n",
       "            const timeout = setTimeout(() => reject(\"Couldn't auto authenticate\"), 5000)\n",
       "            handshake.then(function(child) {\n",
       "                child.on('authorize', data => {\n",
       "                    clearTimeout(timeout)\n",
       "                    resolve(data)\n",
       "                });\n",
       "            });\n",
       "            })\n",
       "        });\n",
       "    "
      ],
      "text/plain": [
       "<IPython.core.display.Javascript object>"
      ]
     },
     "metadata": {},
     "output_type": "display_data"
    },
    {
     "name": "stderr",
     "output_type": "stream",
     "text": [
      "\u001b[34m\u001b[1mwandb\u001b[0m: Logging into wandb.ai. (Learn how to deploy a W&B server locally: https://wandb.me/wandb-server)\n",
      "\u001b[34m\u001b[1mwandb\u001b[0m: You can find your API key in your browser here: https://wandb.ai/authorize\n",
      "wandb: Paste an API key from your profile and hit enter:"
     ]
    },
    {
     "name": "stdout",
     "output_type": "stream",
     "text": [
      " ··········\n"
     ]
    },
    {
     "name": "stderr",
     "output_type": "stream",
     "text": [
      "\u001b[34m\u001b[1mwandb\u001b[0m: \u001b[33mWARNING\u001b[0m If you're specifying your api key in code, ensure this code is not shared publicly.\n",
      "\u001b[34m\u001b[1mwandb\u001b[0m: \u001b[33mWARNING\u001b[0m Consider setting the WANDB_API_KEY environment variable, or running `wandb login` from the command line.\n",
      "\u001b[34m\u001b[1mwandb\u001b[0m: No netrc file found, creating one.\n",
      "\u001b[34m\u001b[1mwandb\u001b[0m: Appending key for api.wandb.ai to your netrc file: /root/.netrc\n",
      "\u001b[34m\u001b[1mwandb\u001b[0m: Currently logged in as: \u001b[33mmah3i-tabesh500\u001b[0m (\u001b[33mmah3i-tabesh500-mahdi-saleh-tabesh\u001b[0m) to \u001b[32mhttps://api.wandb.ai\u001b[0m. Use \u001b[1m`wandb login --relogin`\u001b[0m to force relogin\n"
     ]
    },
    {
     "data": {
      "text/plain": [
       "True"
      ]
     },
     "execution_count": 8,
     "metadata": {},
     "output_type": "execute_result"
    }
   ],
   "source": [
    "!pip install wandb -q\n",
    "import wandb\n",
    "\n",
    "wandb.login()"
   ]
  },
  {
   "cell_type": "code",
   "execution_count": null,
   "metadata": {
    "colab": {
     "base_uri": "https://localhost:8080/",
     "height": 917
    },
    "executionInfo": {
     "elapsed": 760327,
     "status": "ok",
     "timestamp": 1760893663952,
     "user": {
      "displayName": "Mahdi Saleh Tabesh",
      "userId": "07240825415212703464"
     },
     "user_tz": 240
    },
    "id": "Py_Jl1-te0Lq",
    "outputId": "c07b2aa4-62fc-4883-ef88-4328ff955944"
   },
   "outputs": [
    {
     "data": {
      "text/html": [],
      "text/plain": [
       "<IPython.core.display.HTML object>"
      ]
     },
     "metadata": {},
     "output_type": "display_data"
    },
    {
     "data": {
      "text/html": [
       "Tracking run with wandb version 0.22.2"
      ],
      "text/plain": [
       "<IPython.core.display.HTML object>"
      ]
     },
     "metadata": {},
     "output_type": "display_data"
    },
    {
     "data": {
      "text/html": [
       "Run data is saved locally in <code>/content/drive/MyDrive/03-HPML HW2/wandb/run-20251019_165503-2ma4i7p5</code>"
      ],
      "text/plain": [
       "<IPython.core.display.HTML object>"
      ]
     },
     "metadata": {},
     "output_type": "display_data"
    },
    {
     "data": {
      "text/html": [
       "Syncing run <strong><a href='https://wandb.ai/mah3i-tabesh500-mahdi-saleh-tabesh/hpml-hw2-llm/runs/2ma4i7p5' target=\"_blank\">C1_baseline_run</a></strong> to <a href='https://wandb.ai/mah3i-tabesh500-mahdi-saleh-tabesh/hpml-hw2-llm' target=\"_blank\">Weights & Biases</a> (<a href='https://wandb.me/developer-guide' target=\"_blank\">docs</a>)<br>"
      ],
      "text/plain": [
       "<IPython.core.display.HTML object>"
      ]
     },
     "metadata": {},
     "output_type": "display_data"
    },
    {
     "data": {
      "text/html": [
       " View project at <a href='https://wandb.ai/mah3i-tabesh500-mahdi-saleh-tabesh/hpml-hw2-llm' target=\"_blank\">https://wandb.ai/mah3i-tabesh500-mahdi-saleh-tabesh/hpml-hw2-llm</a>"
      ],
      "text/plain": [
       "<IPython.core.display.HTML object>"
      ]
     },
     "metadata": {},
     "output_type": "display_data"
    },
    {
     "data": {
      "text/html": [
       " View run at <a href='https://wandb.ai/mah3i-tabesh500-mahdi-saleh-tabesh/hpml-hw2-llm/runs/2ma4i7p5' target=\"_blank\">https://wandb.ai/mah3i-tabesh500-mahdi-saleh-tabesh/hpml-hw2-llm/runs/2ma4i7p5</a>"
      ],
      "text/plain": [
       "<IPython.core.display.HTML object>"
      ]
     },
     "metadata": {},
     "output_type": "display_data"
    },
    {
     "name": "stderr",
     "output_type": "stream",
     "text": [
      "You're using a DistilBertTokenizerFast tokenizer. Please note that with a fast tokenizer, using the `__call__` method is faster than using a method to encode the text followed by a call to the `pad` method to get a padded encoding.\n",
      "You're using a DistilBertTokenizerFast tokenizer. Please note that with a fast tokenizer, using the `__call__` method is faster than using a method to encode the text followed by a call to the `pad` method to get a padded encoding.\n",
      "You're using a DistilBertTokenizerFast tokenizer. Please note that with a fast tokenizer, using the `__call__` method is faster than using a method to encode the text followed by a call to the `pad` method to get a padded encoding.\n",
      "You're using a DistilBertTokenizerFast tokenizer. Please note that with a fast tokenizer, using the `__call__` method is faster than using a method to encode the text followed by a call to the `pad` method to get a padded encoding.\n"
     ]
    },
    {
     "name": "stdout",
     "output_type": "stream",
     "text": [
      "Epoch 1: Train Loss = 0.3090, Train Acc = 0.8694, Test Acc = 0.8912\n"
     ]
    },
    {
     "name": "stderr",
     "output_type": "stream",
     "text": [
      "You're using a DistilBertTokenizerFast tokenizer. Please note that with a fast tokenizer, using the `__call__` method is faster than using a method to encode the text followed by a call to the `pad` method to get a padded encoding.\n",
      "You're using a DistilBertTokenizerFast tokenizer. Please note that with a fast tokenizer, using the `__call__` method is faster than using a method to encode the text followed by a call to the `pad` method to get a padded encoding.\n",
      "You're using a DistilBertTokenizerFast tokenizer. Please note that with a fast tokenizer, using the `__call__` method is faster than using a method to encode the text followed by a call to the `pad` method to get a padded encoding.\n",
      "You're using a DistilBertTokenizerFast tokenizer. Please note that with a fast tokenizer, using the `__call__` method is faster than using a method to encode the text followed by a call to the `pad` method to get a padded encoding.\n"
     ]
    },
    {
     "name": "stdout",
     "output_type": "stream",
     "text": [
      "Epoch 2: Train Loss = 0.1692, Train Acc = 0.9371, Test Acc = 0.8840\n"
     ]
    },
    {
     "name": "stderr",
     "output_type": "stream",
     "text": [
      "You're using a DistilBertTokenizerFast tokenizer. Please note that with a fast tokenizer, using the `__call__` method is faster than using a method to encode the text followed by a call to the `pad` method to get a padded encoding.\n",
      "You're using a DistilBertTokenizerFast tokenizer. Please note that with a fast tokenizer, using the `__call__` method is faster than using a method to encode the text followed by a call to the `pad` method to get a padded encoding.\n",
      "You're using a DistilBertTokenizerFast tokenizer. Please note that with a fast tokenizer, using the `__call__` method is faster than using a method to encode the text followed by a call to the `pad` method to get a padded encoding.\n",
      "You're using a DistilBertTokenizerFast tokenizer. Please note that with a fast tokenizer, using the `__call__` method is faster than using a method to encode the text followed by a call to the `pad` method to get a padded encoding.\n"
     ]
    },
    {
     "name": "stdout",
     "output_type": "stream",
     "text": [
      "Epoch 3: Train Loss = 0.0913, Train Acc = 0.9688, Test Acc = 0.8694\n"
     ]
    },
    {
     "name": "stderr",
     "output_type": "stream",
     "text": [
      "You're using a DistilBertTokenizerFast tokenizer. Please note that with a fast tokenizer, using the `__call__` method is faster than using a method to encode the text followed by a call to the `pad` method to get a padded encoding.\n",
      "You're using a DistilBertTokenizerFast tokenizer. Please note that with a fast tokenizer, using the `__call__` method is faster than using a method to encode the text followed by a call to the `pad` method to get a padded encoding.\n",
      "You're using a DistilBertTokenizerFast tokenizer. Please note that with a fast tokenizer, using the `__call__` method is faster than using a method to encode the text followed by a call to the `pad` method to get a padded encoding.\n",
      "You're using a DistilBertTokenizerFast tokenizer. Please note that with a fast tokenizer, using the `__call__` method is faster than using a method to encode the text followed by a call to the `pad` method to get a padded encoding.\n"
     ]
    },
    {
     "name": "stdout",
     "output_type": "stream",
     "text": [
      "Epoch 4: Train Loss = 0.0623, Train Acc = 0.9780, Test Acc = 0.8757\n"
     ]
    },
    {
     "name": "stderr",
     "output_type": "stream",
     "text": [
      "You're using a DistilBertTokenizerFast tokenizer. Please note that with a fast tokenizer, using the `__call__` method is faster than using a method to encode the text followed by a call to the `pad` method to get a padded encoding.\n",
      "You're using a DistilBertTokenizerFast tokenizer. Please note that with a fast tokenizer, using the `__call__` method is faster than using a method to encode the text followed by a call to the `pad` method to get a padded encoding.\n",
      "You're using a DistilBertTokenizerFast tokenizer. Please note that with a fast tokenizer, using the `__call__` method is faster than using a method to encode the text followed by a call to the `pad` method to get a padded encoding.\n",
      "You're using a DistilBertTokenizerFast tokenizer. Please note that with a fast tokenizer, using the `__call__` method is faster than using a method to encode the text followed by a call to the `pad` method to get a padded encoding.\n"
     ]
    },
    {
     "name": "stdout",
     "output_type": "stream",
     "text": [
      "Epoch 5: Train Loss = 0.0412, Train Acc = 0.9862, Test Acc = 0.8730\n"
     ]
    },
    {
     "data": {
      "text/html": [],
      "text/plain": [
       "<IPython.core.display.HTML object>"
      ]
     },
     "metadata": {},
     "output_type": "display_data"
    },
    {
     "data": {
      "text/html": [
       "<br>    <style><br>        .wandb-row {<br>            display: flex;<br>            flex-direction: row;<br>            flex-wrap: wrap;<br>            justify-content: flex-start;<br>            width: 100%;<br>        }<br>        .wandb-col {<br>            display: flex;<br>            flex-direction: column;<br>            flex-basis: 100%;<br>            flex: 1;<br>            padding: 10px;<br>        }<br>    </style><br><div class=\"wandb-row\"><div class=\"wandb-col\"><h3>Run history:</h3><br/><table class=\"wandb\"><tr><td>test/acc</td><td>█▆▁▃▂</td></tr><tr><td>train/acc</td><td>▁▅▇██</td></tr><tr><td>train/loss</td><td>█▄▂▂▁</td></tr></table><br/></div><div class=\"wandb-col\"><h3>Run summary:</h3><br/><table class=\"wandb\"><tr><td>test/acc</td><td>0.87296</td></tr><tr><td>train/acc</td><td>0.9862</td></tr><tr><td>train/loss</td><td>0.04115</td></tr></table><br/></div></div>"
      ],
      "text/plain": [
       "<IPython.core.display.HTML object>"
      ]
     },
     "metadata": {},
     "output_type": "display_data"
    },
    {
     "data": {
      "text/html": [
       " View run <strong style=\"color:#cdcd00\">C1_baseline_run</strong> at: <a href='https://wandb.ai/mah3i-tabesh500-mahdi-saleh-tabesh/hpml-hw2-llm/runs/2ma4i7p5' target=\"_blank\">https://wandb.ai/mah3i-tabesh500-mahdi-saleh-tabesh/hpml-hw2-llm/runs/2ma4i7p5</a><br> View project at: <a href='https://wandb.ai/mah3i-tabesh500-mahdi-saleh-tabesh/hpml-hw2-llm' target=\"_blank\">https://wandb.ai/mah3i-tabesh500-mahdi-saleh-tabesh/hpml-hw2-llm</a><br>Synced 5 W&B file(s), 0 media file(s), 0 artifact file(s) and 0 other file(s)"
      ],
      "text/plain": [
       "<IPython.core.display.HTML object>"
      ]
     },
     "metadata": {},
     "output_type": "display_data"
    },
    {
     "data": {
      "text/html": [
       "Find logs at: <code>./wandb/run-20251019_165503-2ma4i7p5/logs</code>"
      ],
      "text/plain": [
       "<IPython.core.display.HTML object>"
      ]
     },
     "metadata": {},
     "output_type": "display_data"
    }
   ],
   "source": [
    "wandb.init(\n",
    "    project=\"hpml-hw2-llm\",\n",
    "    name=\"C1_baseline_run\",\n",
    "    group=\"C1_experiments\",\n",
    "    config={\n",
    "        \"model_name\": model_name,\n",
    "        \"batch_size\": 32,\n",
    "        \"lr\": 1e-4,\n",
    "        \"epochs\": 5,\n",
    "        \"optimizer\": \"AdamW\",\n",
    "        \"device\": str(device),\n",
    "        \"num_workers\": 2,\n",
    "        \"compile_mode\": False\n",
    "    }\n",
    ")\n",
    "\n",
    "\n",
    "# Training loop for 5 epochs\n",
    "epochs = 5\n",
    "train_losses = []\n",
    "train_accs = []\n",
    "test_accs = []\n",
    "\n",
    "for epoch in range(1, epochs+1):\n",
    "    model.train()\n",
    "    total_loss = 0.0\n",
    "    correct = 0\n",
    "    total = 0\n",
    "    # Iterate over training batches\n",
    "    for batch in train_loader:\n",
    "        # Move data to device\n",
    "        batch = {k: v.to(device) for k, v in batch.items()}\n",
    "        optimizer.zero_grad()\n",
    "        # Forward pass (with labels to get loss)\n",
    "        outputs = model(**batch)\n",
    "        loss = outputs.loss\n",
    "        logits = outputs.logits\n",
    "        # Backpropagation\n",
    "        loss.backward()\n",
    "        optimizer.step()\n",
    "        # Accumulate loss and accuracy\n",
    "        total_loss += loss.item() * batch[\"labels\"].size(0)\n",
    "        preds = torch.argmax(logits, dim=1)\n",
    "        correct += (preds == batch[\"labels\"]).sum().item()\n",
    "        total += batch[\"labels\"].size(0)\n",
    "    # Compute average loss and accuracy for the epoch\n",
    "    avg_train_loss = total_loss / total\n",
    "    train_accuracy = correct / total\n",
    "    train_losses.append(avg_train_loss)\n",
    "    train_accs.append(train_accuracy)\n",
    "\n",
    "    # Evaluate on test set\n",
    "    model.eval()\n",
    "    correct_test = 0\n",
    "    total_test = 0\n",
    "    with torch.no_grad():\n",
    "        for batch in test_loader:\n",
    "            batch = {k: v.to(device) for k, v in batch.items()}\n",
    "            outputs = model(input_ids=batch[\"input_ids\"], attention_mask=batch[\"attention_mask\"])\n",
    "            logits = outputs.logits\n",
    "            preds = torch.argmax(logits, dim=1)\n",
    "            correct_test += (preds.cpu() == batch[\"labels\"].cpu()).sum().item()\n",
    "            total_test += batch[\"labels\"].size(0)\n",
    "    test_accuracy = correct_test / total_test\n",
    "    test_accs.append(test_accuracy)\n",
    "\n",
    "    wandb.log({\n",
    "    \"train/loss\": avg_train_loss,\n",
    "    \"train/acc\": train_accuracy,\n",
    "    \"test/acc\": test_accuracy}, step=epoch)\n",
    "\n",
    "\n",
    "    # Log the metrics for this epoch\n",
    "    print(f\"Epoch {epoch}: Train Loss = {avg_train_loss:.4f}, Train Acc = {train_accuracy:.4f}, Test Acc = {test_accuracy:.4f}\")\n",
    "\n",
    "wandb.finish()"
   ]
  },
  {
   "cell_type": "code",
   "execution_count": null,
   "metadata": {
    "id": "kXYOWPBjh9BV"
   },
   "outputs": [],
   "source": []
  },
  {
   "cell_type": "markdown",
   "metadata": {
    "id": "iqI5MZDcj6E9"
   },
   "source": [
    "# Experiment Tracking (Weights & Biases) link of W&B run page.\n",
    "- View run C1_baseline_run at: https://wandb.ai/mah3i-tabesh500-mahdi-saleh-tabesh/hpml-hw2-llm/runs/2ma4i7p5\n",
    "- View project at: https://wandb.ai/mah3i-tabesh500-mahdi-saleh-tabesh/hpml-hw2-llm\n",
    "- Synced 5 W&B file(s), 0 media file(s), 0 artifact file(s) and 0 other file(s)\n",
    "- Find logs at: ./wandb/run-20251019_165503-2ma4i7p5/logs"
   ]
  },
  {
   "cell_type": "code",
   "execution_count": null,
   "metadata": {
    "id": "Fo-Ku0Gpluxc"
   },
   "outputs": [],
   "source": []
  },
  {
   "cell_type": "markdown",
   "metadata": {
    "id": "BHb30TZ600EZ"
   },
   "source": [
    "## All the Runs Can be found here in this Link:\n",
    "- https://wandb.ai/mah3i-tabesh500-mahdi-saleh-tabesh/hpml-hw2-llm/table?nw=nwusermah3itabesh500\n",
    "\n",
    "Example Screenshot:\n",
    "\n",
    "![image.png](data:image/png;base64,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)"
   ]
  },
  {
   "cell_type": "code",
   "execution_count": null,
   "metadata": {
    "id": "JGzBvCSN0zlV"
   },
   "outputs": [],
   "source": []
  },
  {
   "cell_type": "markdown",
   "metadata": {
    "id": "rYPrOKi_lvF6"
   },
   "source": [
    "## Figure F1: Training loss and accuracy vs. epoch for DistilBERT fine-tuning on IMDB. The model's loss decreases steadily while accuracy increases, indicating successful learning."
   ]
  },
  {
   "cell_type": "code",
   "execution_count": null,
   "metadata": {
    "colab": {
     "base_uri": "https://localhost:8080/",
     "height": 413
    },
    "executionInfo": {
     "elapsed": 385,
     "status": "ok",
     "timestamp": 1760893664364,
     "user": {
      "displayName": "Mahdi Saleh Tabesh",
      "userId": "07240825415212703464"
     },
     "user_tz": 240
    },
    "id": "1gL1TCb5jq05",
    "outputId": "d534ccac-e322-45ec-dfa5-8bf1719f5640"
   },
   "outputs": [
    {
     "data": {
      "image/png": "[encoded data removed]",
      "text/plain": [
       "<Figure size 1000x400 with 2 Axes>"
      ]
     },
     "metadata": {},
     "output_type": "display_data"
    }
   ],
   "source": [
    "import matplotlib.pyplot as plt\n",
    "\n",
    "epochs_range = range(1, epochs+1)\n",
    "fig, (ax1, ax2) = plt.subplots(1, 2, figsize=(10,4))\n",
    "\n",
    "# Plot training loss\n",
    "ax1.plot(epochs_range, train_losses, marker='o', color='C0')\n",
    "ax1.set_title(\"Training Loss\")\n",
    "ax1.set_xlabel(\"Epoch\")\n",
    "ax1.set_ylabel(\"Loss\")\n",
    "ax1.grid(True)\n",
    "\n",
    "# Plot training accuracy\n",
    "ax2.plot(epochs_range, [acc*100 for acc in train_accs], marker='o', color='C1')\n",
    "ax2.set_title(\"Training Accuracy\")\n",
    "ax2.set_xlabel(\"Epoch\")\n",
    "ax2.set_ylabel(\"Accuracy (%)\")\n",
    "ax2.grid(True)\n",
    "\n",
    "plt.suptitle(\"Training Loss and Accuracy over Epochs\", fontsize=14)\n",
    "plt.tight_layout()\n",
    "plt.show()\n"
   ]
  },
  {
   "cell_type": "code",
   "execution_count": null,
   "metadata": {
    "id": "sTm9jxCvl3gi"
   },
   "outputs": [],
   "source": []
  },
  {
   "cell_type": "markdown",
   "metadata": {
    "id": "kh4zEtXzl30S"
   },
   "source": [
    "## Below, Table T1 summarizes the per-epoch training and test metrics:"
   ]
  },
  {
   "cell_type": "code",
   "execution_count": null,
   "metadata": {
    "colab": {
     "base_uri": "https://localhost:8080/"
    },
    "executionInfo": {
     "elapsed": 10,
     "status": "ok",
     "timestamp": 1760893664375,
     "user": {
      "displayName": "Mahdi Saleh Tabesh",
      "userId": "07240825415212703464"
     },
     "user_tz": 240
    },
    "id": "LZgUvxLulStQ",
    "outputId": "5b6f9d6e-22a9-48d7-c497-36344f8db870"
   },
   "outputs": [
    {
     "name": "stdout",
     "output_type": "stream",
     "text": [
      "   Epoch  Train Loss  Train Acc  Test Acc\n",
      "0      1      0.3090      86.94     89.12\n",
      "1      2      0.1692      93.71     88.40\n",
      "2      3      0.0913      96.88     86.94\n",
      "3      4      0.0623      97.80     87.57\n",
      "4      5      0.0412      98.62     87.30\n"
     ]
    }
   ],
   "source": [
    "# Generate LaTeX table for per-epoch metrics\n",
    "import pandas as pd\n",
    "\n",
    "# Create a DataFrame\n",
    "metrics_df = pd.DataFrame({\n",
    "    \"Epoch\": list(range(1, len(train_losses)+1)),\n",
    "    \"Train Loss\": [round(x, 4) for x in train_losses],\n",
    "    \"Train Acc\": [round(x*100, 2) for x in train_accs],\n",
    "    \"Test Acc\": [round(x*100, 2) for x in test_accs]\n",
    "})\n",
    "\n",
    "# Display the DataFrame\n",
    "print(metrics_df)\n"
   ]
  },
  {
   "cell_type": "code",
   "execution_count": null,
   "metadata": {
    "id": "V77MUdBOlm-m"
   },
   "outputs": [],
   "source": []
  },
  {
   "cell_type": "markdown",
   "metadata": {
    "id": "AKrAnKp7nNRD"
   },
   "source": [
    "## C2: Baseline Timing per Epoch\n",
    "\n",
    "Task: Next, we profile the training process to understand where time is spent. For each epoch, we measure:\n",
    "\n",
    "- Data Loading Time: the time spent loading and preparing batches (including tokenization/padding and any waiting for data).\n",
    "\n",
    "- Compute Time: the time spent on the forward pass, backpropagation, and optimizer step (model computation).\n",
    "\n",
    "- Total Time: the overall wall-clock time for the epoch (data + compute, accounting for any overlap).\n",
    "\n",
    "To accurately measure GPU compute time, we use torch.cuda.synchronize() to ensure timing measurements account for completed CUDA operations. We will instrument the training loop to record these timings.\n",
    "\n",
    "Implementation: We reuse the training loop with added timers. For each epoch, we:\n",
    "\n",
    "- Start a timer at the beginning of the epoch.\n",
    "\n",
    "- For each batch, time the data loading (from the end of the previous batch's compute to when the next batch is ready) and the compute step separately.\n",
    "\n",
    "- Use time.time() or time.perf_counter() to measure elapsed times in seconds. On GPU, we call torch.cuda.synchronize() right after the model computation (forward/backward) before stopping the timer, to ensure all CUDA kernels have finished.\n",
    "\n",
    "- Accumulate the data loading time and compute time over all batches in the epoch.\n",
    "\n",
    "- Stop the epoch timer at the end to get total epoch time."
   ]
  },
  {
   "cell_type": "code",
   "execution_count": null,
   "metadata": {
    "colab": {
     "base_uri": "https://localhost:8080/"
    },
    "executionInfo": {
     "elapsed": 4,
     "status": "ok",
     "timestamp": 1760893664381,
     "user": {
      "displayName": "Mahdi Saleh Tabesh",
      "userId": "07240825415212703464"
     },
     "user_tz": 240
    },
    "id": "Mx3FBp2lnkbJ",
    "outputId": "760dbce9-ca5f-4118-8223-f84ea0f49b03"
   },
   "outputs": [
    {
     "data": {
      "text/plain": [
       "device(type='cuda')"
      ]
     },
     "execution_count": 12,
     "metadata": {},
     "output_type": "execute_result"
    }
   ],
   "source": [
    "device"
   ]
  },
  {
   "cell_type": "code",
   "execution_count": null,
   "metadata": {
    "colab": {
     "base_uri": "https://localhost:8080/",
     "height": 778
    },
    "executionInfo": {
     "elapsed": 572714,
     "status": "ok",
     "timestamp": 1760894237096,
     "user": {
      "displayName": "Mahdi Saleh Tabesh",
      "userId": "07240825415212703464"
     },
     "user_tz": 240
    },
    "id": "r60ZNrZbnaB4",
    "outputId": "c00043ec-8eab-46bd-9e3a-2b336f87d755"
   },
   "outputs": [
    {
     "name": "stderr",
     "output_type": "stream",
     "text": [
      "Some weights of DistilBertForSequenceClassification were not initialized from the model checkpoint at distilbert-base-uncased and are newly initialized: ['classifier.bias', 'classifier.weight', 'pre_classifier.bias', 'pre_classifier.weight']\n",
      "You should probably TRAIN this model on a down-stream task to be able to use it for predictions and inference.\n"
     ]
    },
    {
     "data": {
      "text/html": [],
      "text/plain": [
       "<IPython.core.display.HTML object>"
      ]
     },
     "metadata": {},
     "output_type": "display_data"
    },
    {
     "data": {
      "text/html": [
       "Tracking run with wandb version 0.22.2"
      ],
      "text/plain": [
       "<IPython.core.display.HTML object>"
      ]
     },
     "metadata": {},
     "output_type": "display_data"
    },
    {
     "data": {
      "text/html": [
       "Run data is saved locally in <code>/content/drive/MyDrive/03-HPML HW2/wandb/run-20251019_170744-9advd8ar</code>"
      ],
      "text/plain": [
       "<IPython.core.display.HTML object>"
      ]
     },
     "metadata": {},
     "output_type": "display_data"
    },
    {
     "data": {
      "text/html": [
       "Syncing run <strong><a href='https://wandb.ai/mah3i-tabesh500-mahdi-saleh-tabesh/hpml-hw2-llm/runs/9advd8ar' target=\"_blank\">C2_baseline_timing</a></strong> to <a href='https://wandb.ai/mah3i-tabesh500-mahdi-saleh-tabesh/hpml-hw2-llm' target=\"_blank\">Weights & Biases</a> (<a href='https://wandb.me/developer-guide' target=\"_blank\">docs</a>)<br>"
      ],
      "text/plain": [
       "<IPython.core.display.HTML object>"
      ]
     },
     "metadata": {},
     "output_type": "display_data"
    },
    {
     "data": {
      "text/html": [
       " View project at <a href='https://wandb.ai/mah3i-tabesh500-mahdi-saleh-tabesh/hpml-hw2-llm' target=\"_blank\">https://wandb.ai/mah3i-tabesh500-mahdi-saleh-tabesh/hpml-hw2-llm</a>"
      ],
      "text/plain": [
       "<IPython.core.display.HTML object>"
      ]
     },
     "metadata": {},
     "output_type": "display_data"
    },
    {
     "data": {
      "text/html": [
       " View run at <a href='https://wandb.ai/mah3i-tabesh500-mahdi-saleh-tabesh/hpml-hw2-llm/runs/9advd8ar' target=\"_blank\">https://wandb.ai/mah3i-tabesh500-mahdi-saleh-tabesh/hpml-hw2-llm/runs/9advd8ar</a>"
      ],
      "text/plain": [
       "<IPython.core.display.HTML object>"
      ]
     },
     "metadata": {},
     "output_type": "display_data"
    },
    {
     "name": "stderr",
     "output_type": "stream",
     "text": [
      "You're using a DistilBertTokenizerFast tokenizer. Please note that with a fast tokenizer, using the `__call__` method is faster than using a method to encode the text followed by a call to the `pad` method to get a padded encoding.\n",
      "You're using a DistilBertTokenizerFast tokenizer. Please note that with a fast tokenizer, using the `__call__` method is faster than using a method to encode the text followed by a call to the `pad` method to get a padded encoding.\n"
     ]
    },
    {
     "name": "stdout",
     "output_type": "stream",
     "text": [
      "Epoch 1: Data Time = 1.750s, Compute Time = 111.906s, Total Time = 113.917s (GPU)\n"
     ]
    },
    {
     "name": "stderr",
     "output_type": "stream",
     "text": [
      "You're using a DistilBertTokenizerFast tokenizer. Please note that with a fast tokenizer, using the `__call__` method is faster than using a method to encode the text followed by a call to the `pad` method to get a padded encoding.\n",
      "You're using a DistilBertTokenizerFast tokenizer. Please note that with a fast tokenizer, using the `__call__` method is faster than using a method to encode the text followed by a call to the `pad` method to get a padded encoding.\n"
     ]
    },
    {
     "name": "stdout",
     "output_type": "stream",
     "text": [
      "Epoch 2: Data Time = 1.755s, Compute Time = 111.871s, Total Time = 113.887s (GPU)\n"
     ]
    },
    {
     "name": "stderr",
     "output_type": "stream",
     "text": [
      "You're using a DistilBertTokenizerFast tokenizer. Please note that with a fast tokenizer, using the `__call__` method is faster than using a method to encode the text followed by a call to the `pad` method to get a padded encoding.\n",
      "You're using a DistilBertTokenizerFast tokenizer. Please note that with a fast tokenizer, using the `__call__` method is faster than using a method to encode the text followed by a call to the `pad` method to get a padded encoding.\n"
     ]
    },
    {
     "name": "stdout",
     "output_type": "stream",
     "text": [
      "Epoch 3: Data Time = 1.770s, Compute Time = 111.867s, Total Time = 113.898s (GPU)\n"
     ]
    },
    {
     "name": "stderr",
     "output_type": "stream",
     "text": [
      "You're using a DistilBertTokenizerFast tokenizer. Please note that with a fast tokenizer, using the `__call__` method is faster than using a method to encode the text followed by a call to the `pad` method to get a padded encoding.\n",
      "You're using a DistilBertTokenizerFast tokenizer. Please note that with a fast tokenizer, using the `__call__` method is faster than using a method to encode the text followed by a call to the `pad` method to get a padded encoding.\n"
     ]
    },
    {
     "name": "stdout",
     "output_type": "stream",
     "text": [
      "Epoch 4: Data Time = 1.780s, Compute Time = 111.866s, Total Time = 113.919s (GPU)\n"
     ]
    },
    {
     "name": "stderr",
     "output_type": "stream",
     "text": [
      "You're using a DistilBertTokenizerFast tokenizer. Please note that with a fast tokenizer, using the `__call__` method is faster than using a method to encode the text followed by a call to the `pad` method to get a padded encoding.\n",
      "You're using a DistilBertTokenizerFast tokenizer. Please note that with a fast tokenizer, using the `__call__` method is faster than using a method to encode the text followed by a call to the `pad` method to get a padded encoding.\n"
     ]
    },
    {
     "name": "stdout",
     "output_type": "stream",
     "text": [
      "Epoch 5: Data Time = 1.821s, Compute Time = 111.859s, Total Time = 113.938s (GPU)\n"
     ]
    },
    {
     "data": {
      "text/html": [],
      "text/plain": [
       "<IPython.core.display.HTML object>"
      ]
     },
     "metadata": {},
     "output_type": "display_data"
    },
    {
     "data": {
      "text/html": [
       "<br>    <style><br>        .wandb-row {<br>            display: flex;<br>            flex-direction: row;<br>            flex-wrap: wrap;<br>            justify-content: flex-start;<br>            width: 100%;<br>        }<br>        .wandb-col {<br>            display: flex;<br>            flex-direction: column;<br>            flex-basis: 100%;<br>            flex: 1;<br>            padding: 10px;<br>        }<br>    </style><br><div class=\"wandb-row\"><div class=\"wandb-col\"><h3>Run history:</h3><br/><table class=\"wandb\"><tr><td>time/compute</td><td>█▃▂▂▁</td></tr><tr><td>time/data</td><td>▁▂▃▄█</td></tr><tr><td>time/epoch</td><td>▅▁▂▅█</td></tr></table><br/></div><div class=\"wandb-col\"><h3>Run summary:</h3><br/><table class=\"wandb\"><tr><td>time/compute</td><td>111.85866</td></tr><tr><td>time/data</td><td>1.82069</td></tr><tr><td>time/epoch</td><td>113.93848</td></tr></table><br/></div></div>"
      ],
      "text/plain": [
       "<IPython.core.display.HTML object>"
      ]
     },
     "metadata": {},
     "output_type": "display_data"
    },
    {
     "data": {
      "text/html": [
       " View run <strong style=\"color:#cdcd00\">C2_baseline_timing</strong> at: <a href='https://wandb.ai/mah3i-tabesh500-mahdi-saleh-tabesh/hpml-hw2-llm/runs/9advd8ar' target=\"_blank\">https://wandb.ai/mah3i-tabesh500-mahdi-saleh-tabesh/hpml-hw2-llm/runs/9advd8ar</a><br> View project at: <a href='https://wandb.ai/mah3i-tabesh500-mahdi-saleh-tabesh/hpml-hw2-llm' target=\"_blank\">https://wandb.ai/mah3i-tabesh500-mahdi-saleh-tabesh/hpml-hw2-llm</a><br>Synced 5 W&B file(s), 0 media file(s), 0 artifact file(s) and 0 other file(s)"
      ],
      "text/plain": [
       "<IPython.core.display.HTML object>"
      ]
     },
     "metadata": {},
     "output_type": "display_data"
    },
    {
     "data": {
      "text/html": [
       "Find logs at: <code>./wandb/run-20251019_170744-9advd8ar/logs</code>"
      ],
      "text/plain": [
       "<IPython.core.display.HTML object>"
      ]
     },
     "metadata": {},
     "output_type": "display_data"
    }
   ],
   "source": [
    "import time\n",
    "\n",
    "# Reinitialize model and optimizer for a fresh run (to measure timing from scratch)\n",
    "model = DistilBertForSequenceClassification.from_pretrained(model_name, num_labels=2).to(device)\n",
    "optimizer = optim.AdamW(model.parameters(), lr=1e-4)\n",
    "\n",
    "# Initialize W&B for timing experiment\n",
    "wandb.init(\n",
    "    project=\"hpml-hw2-llm\",\n",
    "    name=\"C2_baseline_timing\",\n",
    "    group=\"C2_experiments\",\n",
    "    config={\n",
    "        \"model_name\": model_name,\n",
    "        \"batch_size\": 32,\n",
    "        \"lr\": 1e-4,\n",
    "        \"epochs\": 5,\n",
    "        \"optimizer\": \"AdamW\",\n",
    "        \"device\": str(device),\n",
    "        \"num_workers\": 2,\n",
    "        \"compile_mode\": False})\n",
    "\n",
    "epochs = 5\n",
    "epoch_data_times = []\n",
    "epoch_compute_times = []\n",
    "epoch_total_times = []\n",
    "\n",
    "for epoch in range(1, epochs+1):\n",
    "    model.train()\n",
    "    # Timers for this epoch\n",
    "    total_start = time.time()\n",
    "    data_time = 0.0\n",
    "    compute_time = 0.0\n",
    "\n",
    "    # Iterate over training batches with timing\n",
    "    batch_end_time = time.time()  # end time of previous batch's compute (initially, epoch start)\n",
    "    for batch in train_loader:\n",
    "        # Measure data loading time: time from end of last compute to now (batch ready)\n",
    "        data_start_time = time.time()\n",
    "        data_time += data_start_time - batch_end_time\n",
    "\n",
    "        # Prepare batch\n",
    "        batch = {k: v.to(device) for k, v in batch.items()}\n",
    "\n",
    "        # Compute (forward + backward + optimize) with timing\n",
    "        compute_start_time = time.time()\n",
    "        optimizer.zero_grad()\n",
    "        outputs = model(**batch)\n",
    "        loss = outputs.loss\n",
    "        loss.backward()\n",
    "        optimizer.step()\n",
    "        # If using GPU, synchronize to wait for all operations to finish\n",
    "        if device.type == \"cuda\":\n",
    "            torch.cuda.synchronize()\n",
    "        compute_end_time = time.time()\n",
    "\n",
    "        compute_time += compute_end_time - compute_start_time\n",
    "        batch_end_time = compute_end_time  # update for next batch timing\n",
    "    total_end = time.time()\n",
    "\n",
    "    epoch_data_times.append(data_time)\n",
    "    epoch_compute_times.append(compute_time)\n",
    "    epoch_total_times.append(total_end - total_start)\n",
    "\n",
    "    # Log timing for this epoch\n",
    "    device_used = \"GPU\" if device.type == \"cuda\" else \"CPU\"\n",
    "    print(f\"Epoch {epoch}: Data Time = {data_time:.3f}s, Compute Time = {compute_time:.3f}s, Total Time = {epoch_total_times[-1]:.3f}s ({device_used})\")\n",
    "\n",
    "    # Log to W&B\n",
    "    wandb.log({\n",
    "        \"time/data\": data_time,\n",
    "        \"time/compute\": compute_time,\n",
    "        \"time/epoch\": epoch_total_times[-1]\n",
    "    }, step=epoch)\n",
    "\n",
    "# Finish W&B run\n",
    "wandb.finish()"
   ]
  },
  {
   "cell_type": "code",
   "execution_count": null,
   "metadata": {
    "id": "X5fASxVvqM93"
   },
   "outputs": [],
   "source": []
  },
  {
   "cell_type": "markdown",
   "metadata": {
    "id": "RLRSDn0kkxH5"
   },
   "source": [
    "# Experiment Tracking (Weights & Biases) link of W&B run page.\n",
    "- View run C2_baseline_timing at: https://wandb.ai/mah3i-tabesh500-mahdi-saleh-tabesh/hpml-hw2-llm/runs/9advd8ar\n",
    "- View project at: https://wandb.ai/mah3i-tabesh500-mahdi-saleh-tabesh/hpml-hw2-llm\n",
    "- Synced 5 W&B file(s), 0 media file(s), 0 artifact file(s) and 0 other file(s)\n",
    "- Find logs at: ./wandb/run-20251019_170744-9advd8ar/logs"
   ]
  },
  {
   "cell_type": "markdown",
   "metadata": {
    "id": "bmxuqonWqPDL"
   },
   "source": [
    "# Table T2: Per-epoch timing breakdown"
   ]
  },
  {
   "cell_type": "code",
   "execution_count": null,
   "metadata": {
    "colab": {
     "base_uri": "https://localhost:8080/"
    },
    "executionInfo": {
     "elapsed": 57,
     "status": "ok",
     "timestamp": 1760894237156,
     "user": {
      "displayName": "Mahdi Saleh Tabesh",
      "userId": "07240825415212703464"
     },
     "user_tz": 240
    },
    "id": "7QMRAW3sn3tG",
    "outputId": "753e68f9-2c28-4192-badd-77a5b9335c76"
   },
   "outputs": [
    {
     "name": "stdout",
     "output_type": "stream",
     "text": [
      "\n",
      "Table T2: Per-Epoch Timing Results\n",
      "\n",
      "   Epoch  Data Time (s)  Compute Time (s)  Total (s) Device\n",
      "0      1          1.750           111.906    113.917    GPU\n",
      "1      2          1.755           111.871    113.887    GPU\n",
      "2      3          1.770           111.867    113.898    GPU\n",
      "3      4          1.780           111.866    113.919    GPU\n",
      "4      5          1.821           111.859    113.938    GPU\n"
     ]
    }
   ],
   "source": [
    "import pandas as pd\n",
    "\n",
    "device_used = \"GPU\" if device.type == \"cuda\" else \"CPU\"\n",
    "\n",
    "# Build DataFrame\n",
    "t2_df = pd.DataFrame({\n",
    "    \"Epoch\": range(1, epochs+1),\n",
    "    \"Data Time (s)\": [round(x, 3) for x in epoch_data_times],\n",
    "    \"Compute Time (s)\": [round(x, 3) for x in epoch_compute_times],\n",
    "    \"Total (s)\": [round(x, 3) for x in epoch_total_times],\n",
    "    \"Device\": device_used\n",
    "})\n",
    "\n",
    "# Display neatly\n",
    "print(\"\\nTable T2: Per-Epoch Timing Results\\n\")\n",
    "print(t2_df)"
   ]
  },
  {
   "cell_type": "markdown",
   "metadata": {
    "id": "D2I2sH7xqSi9"
   },
   "source": [
    "### Figure F2: Stacked bar chart of data loading time vs. compute time for each epoch. Compute (orange) dominates the total time, while data loading (blue) is a small component in each epoch."
   ]
  },
  {
   "cell_type": "code",
   "execution_count": null,
   "metadata": {
    "colab": {
     "base_uri": "https://localhost:8080/",
     "height": 507
    },
    "executionInfo": {
     "elapsed": 198,
     "status": "ok",
     "timestamp": 1760894237356,
     "user": {
      "displayName": "Mahdi Saleh Tabesh",
      "userId": "07240825415212703464"
     },
     "user_tz": 240
    },
    "id": "weFSjDu7ox3h",
    "outputId": "8e3c412a-cc9f-4ab8-ad9c-24c90b599d54"
   },
   "outputs": [
    {
     "data": {
      "image/png": "[encoded data removed]",
      "text/plain": [
       "<Figure size 800x500 with 1 Axes>"
      ]
     },
     "metadata": {},
     "output_type": "display_data"
    }
   ],
   "source": [
    "import matplotlib.pyplot as plt\n",
    "import numpy as np\n",
    "\n",
    "epochs_range = np.arange(1, epochs+1)\n",
    "\n",
    "plt.figure(figsize=(8,5))\n",
    "plt.bar(epochs_range, epoch_data_times, label=\"Data Loading\", color=\"#1f77b4\")\n",
    "plt.bar(epochs_range, epoch_compute_times, bottom=epoch_data_times,\n",
    "        label=\"Compute (Fwd+Back+Opt)\", color=\"#ff7f0e\")\n",
    "\n",
    "plt.xlabel(\"Epoch\")\n",
    "plt.ylabel(\"Time (s)\")\n",
    "plt.title(\"Figure F2 – Data vs Compute Time per Epoch\")\n",
    "plt.legend()\n",
    "plt.grid(True, linestyle=\"--\", alpha=0.6)\n",
    "plt.tight_layout()\n",
    "plt.show()"
   ]
  },
  {
   "cell_type": "code",
   "execution_count": null,
   "metadata": {
    "id": "quDjd8VIqKu_"
   },
   "outputs": [],
   "source": []
  }
 ],
 "metadata": {
  "accelerator": "GPU",
  "colab": {
   "authorship_tag": "ABX9TyNHBnqfF1L1ZlspdC4L1Bhn",
   "gpuType": "A100",
   "provenance": []
  },
  "kernelspec": {
   "display_name": "Python 3 (ipykernel)",
   "language": "python",
   "name": "python3"
  },
  "language_info": {
   "codemirror_mode": {
    "name": "ipython",
    "version": 3
   },
   "file_extension": ".py",
   "mimetype": "text/x-python",
   "name": "python",
   "nbconvert_exporter": "python",
   "pygments_lexer": "ipython3",
   "version": "3.10.17"
  },
  "widgets": {
   "application/vnd.jupyter.widget-state+json": {
    "0171f2fae59a42e190f305e82d6ab52d": {
     "model_module": "@jupyter-widgets/controls",
     "model_module_version": "1.5.0",
     "model_name": "DescriptionStyleModel",
     "state": {
      "_model_module": "@jupyter-widgets/controls",
      "_model_module_version": "1.5.0",
      "_model_name": "DescriptionStyleModel",
      "_view_count": null,
      "_view_module": "@jupyter-widgets/base",
      "_view_module_version": "1.2.0",
      "_view_name": "StyleView",
      "description_width": ""
     }
    },
    "031fb83776c44692ba313b0c789c124b": {
     "model_module": "@jupyter-widgets/controls",
     "model_module_version": "1.5.0",
     "model_name": "DescriptionStyleModel",
     "state": {
      "_model_module": "@jupyter-widgets/controls",
      "_model_module_version": "1.5.0",
      "_model_name": "DescriptionStyleModel",
      "_view_count": null,
      "_view_module": "@jupyter-widgets/base",
      "_view_module_version": "1.2.0",
      "_view_name": "StyleView",
      "description_width": ""
     }
    },
    "08bfae2ddf094acaa260fa82775ba2cf": {
     "model_module": "@jupyter-widgets/base",
     "model_module_version": "1.2.0",
     "model_name": "LayoutModel",
     "state": {
      "_model_module": "@jupyter-widgets/base",
      "_model_module_version": "1.2.0",
      "_model_name": "LayoutModel",
      "_view_count": null,
      "_view_module": "@jupyter-widgets/base",
      "_view_module_version": "1.2.0",
      "_view_name": "LayoutView",
      "align_content": null,
      "align_items": null,
      "align_self": null,
      "border": null,
      "bottom": null,
      "display": null,
      "flex": null,
      "flex_flow": null,
      "grid_area": null,
      "grid_auto_columns": null,
      "grid_auto_flow": null,
      "grid_auto_rows": null,
      "grid_column": null,
      "grid_gap": null,
      "grid_row": null,
      "grid_template_areas": null,
      "grid_template_columns": null,
      "grid_template_rows": null,
      "height": null,
      "justify_content": null,
      "justify_items": null,
      "left": null,
      "margin": null,
      "max_height": null,
      "max_width": null,
      "min_height": null,
      "min_width": null,
      "object_fit": null,
      "object_position": null,
      "order": null,
      "overflow": null,
      "overflow_x": null,
      "overflow_y": null,
      "padding": null,
      "right": null,
      "top": null,
      "visibility": null,
      "width": null
     }
    },
    "0baa0563b46f4b0f88fe4dfb7790adc4": {
     "model_module": "@jupyter-widgets/base",
     "model_module_version": "1.2.0",
     "model_name": "LayoutModel",
     "state": {
      "_model_module": "@jupyter-widgets/base",
      "_model_module_version": "1.2.0",
      "_model_name": "LayoutModel",
      "_view_count": null,
      "_view_module": "@jupyter-widgets/base",
      "_view_module_version": "1.2.0",
      "_view_name": "LayoutView",
      "align_content": null,
      "align_items": null,
      "align_self": null,
      "border": null,
      "bottom": null,
      "display": null,
      "flex": null,
      "flex_flow": null,
      "grid_area": null,
      "grid_auto_columns": null,
      "grid_auto_flow": null,
      "grid_auto_rows": null,
      "grid_column": null,
      "grid_gap": null,
      "grid_row": null,
      "grid_template_areas": null,
      "grid_template_columns": null,
      "grid_template_rows": null,
      "height": null,
      "justify_content": null,
      "justify_items": null,
      "left": null,
      "margin": null,
      "max_height": null,
      "max_width": null,
      "min_height": null,
      "min_width": null,
      "object_fit": null,
      "object_position": null,
      "order": null,
      "overflow": null,
      "overflow_x": null,
      "overflow_y": null,
      "padding": null,
      "right": null,
      "top": null,
      "visibility": null,
      "width": null
     }
    },
    "0cefa1550110479aaf835869f2e54694": {
     "model_module": "@jupyter-widgets/controls",
     "model_module_version": "1.5.0",
     "model_name": "FloatProgressModel",
     "state": {
      "_dom_classes": [],
      "_model_module": "@jupyter-widgets/controls",
      "_model_module_version": "1.5.0",
      "_model_name": "FloatProgressModel",
      "_view_count": null,
      "_view_module": "@jupyter-widgets/controls",
      "_view_module_version": "1.5.0",
      "_view_name": "ProgressView",
      "bar_style": "success",
      "description": "",
      "description_tooltip": null,
      "layout": "IPY_MODEL_a76f77ded74c4230bea6ce6556b26914",
      "max": 466062,
      "min": 0,
      "orientation": "horizontal",
      "style": "IPY_MODEL_545d94ea54a3453492ecd9b031095259",
      "value": 466062
     }
    },
    "0d6fb458e93c4fe49a9e6546f73c9813": {
     "model_module": "@jupyter-widgets/controls",
     "model_module_version": "1.5.0",
     "model_name": "FloatProgressModel",
     "state": {
      "_dom_classes": [],
      "_model_module": "@jupyter-widgets/controls",
      "_model_module_version": "1.5.0",
      "_model_name": "FloatProgressModel",
      "_view_count": null,
      "_view_module": "@jupyter-widgets/controls",
      "_view_module_version": "1.5.0",
      "_view_name": "ProgressView",
      "bar_style": "success",
      "description": "",
      "description_tooltip": null,
      "layout": "IPY_MODEL_12835fec09664067bd0c99e6f826b9d2",
      "max": 25000,
      "min": 0,
      "orientation": "horizontal",
      "style": "IPY_MODEL_153e061d4a66468086a8fd5f5960630b",
      "value": 25000
     }
    },
    "0ea7bfabdc674c4db2d9e329191276bc": {
     "model_module": "@jupyter-widgets/controls",
     "model_module_version": "1.5.0",
     "model_name": "HTMLModel",
     "state": {
      "_dom_classes": [],
      "_model_module": "@jupyter-widgets/controls",
      "_model_module_version": "1.5.0",
      "_model_name": "HTMLModel",
      "_view_count": null,
      "_view_module": "@jupyter-widgets/controls",
      "_view_module_version": "1.5.0",
      "_view_name": "HTMLView",
      "description": "",
      "description_tooltip": null,
      "layout": "IPY_MODEL_5115d74e172341c488686162ff51ffb5",
      "placeholder": "​",
      "style": "IPY_MODEL_031fb83776c44692ba313b0c789c124b",
      "value": " 48.0/48.0 [00:00&lt;00:00, 6.69kB/s]"
     }
    },
    "10f9786768d24a028830e350002b7e7f": {
     "model_module": "@jupyter-widgets/base",
     "model_module_version": "1.2.0",
     "model_name": "LayoutModel",
     "state": {
      "_model_module": "@jupyter-widgets/base",
      "_model_module_version": "1.2.0",
      "_model_name": "LayoutModel",
      "_view_count": null,
      "_view_module": "@jupyter-widgets/base",
      "_view_module_version": "1.2.0",
      "_view_name": "LayoutView",
      "align_content": null,
      "align_items": null,
      "align_self": null,
      "border": null,
      "bottom": null,
      "display": null,
      "flex": null,
      "flex_flow": null,
      "grid_area": null,
      "grid_auto_columns": null,
      "grid_auto_flow": null,
      "grid_auto_rows": null,
      "grid_column": null,
      "grid_gap": null,
      "grid_row": null,
      "grid_template_areas": null,
      "grid_template_columns": null,
      "grid_template_rows": null,
      "height": null,
      "justify_content": null,
      "justify_items": null,
      "left": null,
      "margin": null,
      "max_height": null,
      "max_width": null,
      "min_height": null,
      "min_width": null,
      "object_fit": null,
      "object_position": null,
      "order": null,
      "overflow": null,
      "overflow_x": null,
      "overflow_y": null,
      "padding": null,
      "right": null,
      "top": null,
      "visibility": null,
      "width": null
     }
    },
    "12835fec09664067bd0c99e6f826b9d2": {
     "model_module": "@jupyter-widgets/base",
     "model_module_version": "1.2.0",
     "model_name": "LayoutModel",
     "state": {
      "_model_module": "@jupyter-widgets/base",
      "_model_module_version": "1.2.0",
      "_model_name": "LayoutModel",
      "_view_count": null,
      "_view_module": "@jupyter-widgets/base",
      "_view_module_version": "1.2.0",
      "_view_name": "LayoutView",
      "align_content": null,
      "align_items": null,
      "align_self": null,
      "border": null,
      "bottom": null,
      "display": null,
      "flex": null,
      "flex_flow": null,
      "grid_area": null,
      "grid_auto_columns": null,
      "grid_auto_flow": null,
      "grid_auto_rows": null,
      "grid_column": null,
      "grid_gap": null,
      "grid_row": null,
      "grid_template_areas": null,
      "grid_template_columns": null,
      "grid_template_rows": null,
      "height": null,
      "justify_content": null,
      "justify_items": null,
      "left": null,
      "margin": null,
      "max_height": null,
      "max_width": null,
      "min_height": null,
      "min_width": null,
      "object_fit": null,
      "object_position": null,
      "order": null,
      "overflow": null,
      "overflow_x": null,
      "overflow_y": null,
      "padding": null,
      "right": null,
      "top": null,
      "visibility": null,
      "width": null
     }
    },
    "13c17c16f44444a8a79d0f1b444f8809": {
     "model_module": "@jupyter-widgets/base",
     "model_module_version": "1.2.0",
     "model_name": "LayoutModel",
     "state": {
      "_model_module": "@jupyter-widgets/base",
      "_model_module_version": "1.2.0",
      "_model_name": "LayoutModel",
      "_view_count": null,
      "_view_module": "@jupyter-widgets/base",
      "_view_module_version": "1.2.0",
      "_view_name": "LayoutView",
      "align_content": null,
      "align_items": null,
      "align_self": null,
      "border": null,
      "bottom": null,
      "display": null,
      "flex": null,
      "flex_flow": null,
      "grid_area": null,
      "grid_auto_columns": null,
      "grid_auto_flow": null,
      "grid_auto_rows": null,
      "grid_column": null,
      "grid_gap": null,
      "grid_row": null,
      "grid_template_areas": null,
      "grid_template_columns": null,
      "grid_template_rows": null,
      "height": null,
      "justify_content": null,
      "justify_items": null,
      "left": null,
      "margin": null,
      "max_height": null,
      "max_width": null,
      "min_height": null,
      "min_width": null,
      "object_fit": null,
      "object_position": null,
      "order": null,
      "overflow": null,
      "overflow_x": null,
      "overflow_y": null,
      "padding": null,
      "right": null,
      "top": null,
      "visibility": null,
      "width": null
     }
    },
    "14c5f8fa018d4d418b3fd17590d05477": {
     "model_module": "@jupyter-widgets/base",
     "model_module_version": "1.2.0",
     "model_name": "LayoutModel",
     "state": {
      "_model_module": "@jupyter-widgets/base",
      "_model_module_version": "1.2.0",
      "_model_name": "LayoutModel",
      "_view_count": null,
      "_view_module": "@jupyter-widgets/base",
      "_view_module_version": "1.2.0",
      "_view_name": "LayoutView",
      "align_content": null,
      "align_items": null,
      "align_self": null,
      "border": null,
      "bottom": null,
      "display": null,
      "flex": null,
      "flex_flow": null,
      "grid_area": null,
      "grid_auto_columns": null,
      "grid_auto_flow": null,
      "grid_auto_rows": null,
      "grid_column": null,
      "grid_gap": null,
      "grid_row": null,
      "grid_template_areas": null,
      "grid_template_columns": null,
      "grid_template_rows": null,
      "height": null,
      "justify_content": null,
      "justify_items": null,
      "left": null,
      "margin": null,
      "max_height": null,
      "max_width": null,
      "min_height": null,
      "min_width": null,
      "object_fit": null,
      "object_position": null,
      "order": null,
      "overflow": null,
      "overflow_x": null,
      "overflow_y": null,
      "padding": null,
      "right": null,
      "top": null,
      "visibility": null,
      "width": null
     }
    },
    "153e061d4a66468086a8fd5f5960630b": {
     "model_module": "@jupyter-widgets/controls",
     "model_module_version": "1.5.0",
     "model_name": "ProgressStyleModel",
     "state": {
      "_model_module": "@jupyter-widgets/controls",
      "_model_module_version": "1.5.0",
      "_model_name": "ProgressStyleModel",
      "_view_count": null,
      "_view_module": "@jupyter-widgets/base",
      "_view_module_version": "1.2.0",
      "_view_name": "StyleView",
      "bar_color": null,
      "description_width": ""
     }
    },
    "15eabdb504d34c289ad7c6be632da17f": {
     "model_module": "@jupyter-widgets/controls",
     "model_module_version": "1.5.0",
     "model_name": "HTMLModel",
     "state": {
      "_dom_classes": [],
      "_model_module": "@jupyter-widgets/controls",
      "_model_module_version": "1.5.0",
      "_model_name": "HTMLModel",
      "_view_count": null,
      "_view_module": "@jupyter-widgets/controls",
      "_view_module_version": "1.5.0",
      "_view_name": "HTMLView",
      "description": "",
      "description_tooltip": null,
      "layout": "IPY_MODEL_7424f1a269aa4c99a8c2b74270c3cacb",
      "placeholder": "​",
      "style": "IPY_MODEL_1b7a332bc39f4829896a375b78c970db",
      "value": " 268M/268M [00:01&lt;00:00, 190MB/s]"
     }
    },
    "1b7a332bc39f4829896a375b78c970db": {
     "model_module": "@jupyter-widgets/controls",
     "model_module_version": "1.5.0",
     "model_name": "DescriptionStyleModel",
     "state": {
      "_model_module": "@jupyter-widgets/controls",
      "_model_module_version": "1.5.0",
      "_model_name": "DescriptionStyleModel",
      "_view_count": null,
      "_view_module": "@jupyter-widgets/base",
      "_view_module_version": "1.2.0",
      "_view_name": "StyleView",
      "description_width": ""
     }
    },
    "1c359112acaf42bf97005f744069103a": {
     "model_module": "@jupyter-widgets/base",
     "model_module_version": "1.2.0",
     "model_name": "LayoutModel",
     "state": {
      "_model_module": "@jupyter-widgets/base",
      "_model_module_version": "1.2.0",
      "_model_name": "LayoutModel",
      "_view_count": null,
      "_view_module": "@jupyter-widgets/base",
      "_view_module_version": "1.2.0",
      "_view_name": "LayoutView",
      "align_content": null,
      "align_items": null,
      "align_self": null,
      "border": null,
      "bottom": null,
      "display": null,
      "flex": null,
      "flex_flow": null,
      "grid_area": null,
      "grid_auto_columns": null,
      "grid_auto_flow": null,
      "grid_auto_rows": null,
      "grid_column": null,
      "grid_gap": null,
      "grid_row": null,
      "grid_template_areas": null,
      "grid_template_columns": null,
      "grid_template_rows": null,
      "height": null,
      "justify_content": null,
      "justify_items": null,
      "left": null,
      "margin": null,
      "max_height": null,
      "max_width": null,
      "min_height": null,
      "min_width": null,
      "object_fit": null,
      "object_position": null,
      "order": null,
      "overflow": null,
      "overflow_x": null,
      "overflow_y": null,
      "padding": null,
      "right": null,
      "top": null,
      "visibility": null,
      "width": null
     }
    },
    "1e9418168d5f46b28aea0943000a9aeb": {
     "model_module": "@jupyter-widgets/controls",
     "model_module_version": "1.5.0",
     "model_name": "DescriptionStyleModel",
     "state": {
      "_model_module": "@jupyter-widgets/controls",
      "_model_module_version": "1.5.0",
      "_model_name": "DescriptionStyleModel",
      "_view_count": null,
      "_view_module": "@jupyter-widgets/base",
      "_view_module_version": "1.2.0",
      "_view_name": "StyleView",
      "description_width": ""
     }
    },
    "1fd5fef4915244e2a9532d58528c0007": {
     "model_module": "@jupyter-widgets/base",
     "model_module_version": "1.2.0",
     "model_name": "LayoutModel",
     "state": {
      "_model_module": "@jupyter-widgets/base",
      "_model_module_version": "1.2.0",
      "_model_name": "LayoutModel",
      "_view_count": null,
      "_view_module": "@jupyter-widgets/base",
      "_view_module_version": "1.2.0",
      "_view_name": "LayoutView",
      "align_content": null,
      "align_items": null,
      "align_self": null,
      "border": null,
      "bottom": null,
      "display": null,
      "flex": null,
      "flex_flow": null,
      "grid_area": null,
      "grid_auto_columns": null,
      "grid_auto_flow": null,
      "grid_auto_rows": null,
      "grid_column": null,
      "grid_gap": null,
      "grid_row": null,
      "grid_template_areas": null,
      "grid_template_columns": null,
      "grid_template_rows": null,
      "height": null,
      "justify_content": null,
      "justify_items": null,
      "left": null,
      "margin": null,
      "max_height": null,
      "max_width": null,
      "min_height": null,
      "min_width": null,
      "object_fit": null,
      "object_position": null,
      "order": null,
      "overflow": null,
      "overflow_x": null,
      "overflow_y": null,
      "padding": null,
      "right": null,
      "top": null,
      "visibility": null,
      "width": null
     }
    },
    "20424dfb18c34c2d86007b0f30199c55": {
     "model_module": "@jupyter-widgets/controls",
     "model_module_version": "1.5.0",
     "model_name": "ProgressStyleModel",
     "state": {
      "_model_module": "@jupyter-widgets/controls",
      "_model_module_version": "1.5.0",
      "_model_name": "ProgressStyleModel",
      "_view_count": null,
      "_view_module": "@jupyter-widgets/base",
      "_view_module_version": "1.2.0",
      "_view_name": "StyleView",
      "bar_color": null,
      "description_width": ""
     }
    },
    "2112f2ff9cc041dbb582bab0ebe04387": {
     "model_module": "@jupyter-widgets/controls",
     "model_module_version": "1.5.0",
     "model_name": "HTMLModel",
     "state": {
      "_dom_classes": [],
      "_model_module": "@jupyter-widgets/controls",
      "_model_module_version": "1.5.0",
      "_model_name": "HTMLModel",
      "_view_count": null,
      "_view_module": "@jupyter-widgets/controls",
      "_view_module_version": "1.5.0",
      "_view_name": "HTMLView",
      "description": "",
      "description_tooltip": null,
      "layout": "IPY_MODEL_1fd5fef4915244e2a9532d58528c0007",
      "placeholder": "​",
      "style": "IPY_MODEL_4666a84309754b2da431159c98c280d8",
      "value": "Generating test split: 100%"
     }
    },
    "224b18563ccd45728a757bfc88318074": {
     "model_module": "@jupyter-widgets/controls",
     "model_module_version": "1.5.0",
     "model_name": "DescriptionStyleModel",
     "state": {
      "_model_module": "@jupyter-widgets/controls",
      "_model_module_version": "1.5.0",
      "_model_name": "DescriptionStyleModel",
      "_view_count": null,
      "_view_module": "@jupyter-widgets/base",
      "_view_module_version": "1.2.0",
      "_view_name": "StyleView",
      "description_width": ""
     }
    },
    "23be1f883e9a425889509729efca6e1a": {
     "model_module": "@jupyter-widgets/controls",
     "model_module_version": "1.5.0",
     "model_name": "HTMLModel",
     "state": {
      "_dom_classes": [],
      "_model_module": "@jupyter-widgets/controls",
      "_model_module_version": "1.5.0",
      "_model_name": "HTMLModel",
      "_view_count": null,
      "_view_module": "@jupyter-widgets/controls",
      "_view_module_version": "1.5.0",
      "_view_name": "HTMLView",
      "description": "",
      "description_tooltip": null,
      "layout": "IPY_MODEL_5c40471e888741a8988b005f2db2130f",
      "placeholder": "​",
      "style": "IPY_MODEL_2d996db6eb0d4e21836014f27aa77147",
      "value": "vocab.txt: 100%"
     }
    },
    "246ee01a56f940999f5a2b5e160fcd4d": {
     "model_module": "@jupyter-widgets/controls",
     "model_module_version": "1.5.0",
     "model_name": "DescriptionStyleModel",
     "state": {
      "_model_module": "@jupyter-widgets/controls",
      "_model_module_version": "1.5.0",
      "_model_name": "DescriptionStyleModel",
      "_view_count": null,
      "_view_module": "@jupyter-widgets/base",
      "_view_module_version": "1.2.0",
      "_view_name": "StyleView",
      "description_width": ""
     }
    },
    "250e897defdd4fb4a281c9bad201e3f6": {
     "model_module": "@jupyter-widgets/base",
     "model_module_version": "1.2.0",
     "model_name": "LayoutModel",
     "state": {
      "_model_module": "@jupyter-widgets/base",
      "_model_module_version": "1.2.0",
      "_model_name": "LayoutModel",
      "_view_count": null,
      "_view_module": "@jupyter-widgets/base",
      "_view_module_version": "1.2.0",
      "_view_name": "LayoutView",
      "align_content": null,
      "align_items": null,
      "align_self": null,
      "border": null,
      "bottom": null,
      "display": null,
      "flex": null,
      "flex_flow": null,
      "grid_area": null,
      "grid_auto_columns": null,
      "grid_auto_flow": null,
      "grid_auto_rows": null,
      "grid_column": null,
      "grid_gap": null,
      "grid_row": null,
      "grid_template_areas": null,
      "grid_template_columns": null,
      "grid_template_rows": null,
      "height": null,
      "justify_content": null,
      "justify_items": null,
      "left": null,
      "margin": null,
      "max_height": null,
      "max_width": null,
      "min_height": null,
      "min_width": null,
      "object_fit": null,
      "object_position": null,
      "order": null,
      "overflow": null,
      "overflow_x": null,
      "overflow_y": null,
      "padding": null,
      "right": null,
      "top": null,
      "visibility": null,
      "width": null
     }
    },
    "26ad781f4d644b2a81a4cc226b064ce9": {
     "model_module": "@jupyter-widgets/base",
     "model_module_version": "1.2.0",
     "model_name": "LayoutModel",
     "state": {
      "_model_module": "@jupyter-widgets/base",
      "_model_module_version": "1.2.0",
      "_model_name": "LayoutModel",
      "_view_count": null,
      "_view_module": "@jupyter-widgets/base",
      "_view_module_version": "1.2.0",
      "_view_name": "LayoutView",
      "align_content": null,
      "align_items": null,
      "align_self": null,
      "border": null,
      "bottom": null,
      "display": null,
      "flex": null,
      "flex_flow": null,
      "grid_area": null,
      "grid_auto_columns": null,
      "grid_auto_flow": null,
      "grid_auto_rows": null,
      "grid_column": null,
      "grid_gap": null,
      "grid_row": null,
      "grid_template_areas": null,
      "grid_template_columns": null,
      "grid_template_rows": null,
      "height": null,
      "justify_content": null,
      "justify_items": null,
      "left": null,
      "margin": null,
      "max_height": null,
      "max_width": null,
      "min_height": null,
      "min_width": null,
      "object_fit": null,
      "object_position": null,
      "order": null,
      "overflow": null,
      "overflow_x": null,
      "overflow_y": null,
      "padding": null,
      "right": null,
      "top": null,
      "visibility": null,
      "width": null
     }
    },
    "2a5d32ef39604d75a41644ce929723ea": {
     "model_module": "@jupyter-widgets/base",
     "model_module_version": "1.2.0",
     "model_name": "LayoutModel",
     "state": {
      "_model_module": "@jupyter-widgets/base",
      "_model_module_version": "1.2.0",
      "_model_name": "LayoutModel",
      "_view_count": null,
      "_view_module": "@jupyter-widgets/base",
      "_view_module_version": "1.2.0",
      "_view_name": "LayoutView",
      "align_content": null,
      "align_items": null,
      "align_self": null,
      "border": null,
      "bottom": null,
      "display": null,
      "flex": null,
      "flex_flow": null,
      "grid_area": null,
      "grid_auto_columns": null,
      "grid_auto_flow": null,
      "grid_auto_rows": null,
      "grid_column": null,
      "grid_gap": null,
      "grid_row": null,
      "grid_template_areas": null,
      "grid_template_columns": null,
      "grid_template_rows": null,
      "height": null,
      "justify_content": null,
      "justify_items": null,
      "left": null,
      "margin": null,
      "max_height": null,
      "max_width": null,
      "min_height": null,
      "min_width": null,
      "object_fit": null,
      "object_position": null,
      "order": null,
      "overflow": null,
      "overflow_x": null,
      "overflow_y": null,
      "padding": null,
      "right": null,
      "top": null,
      "visibility": null,
      "width": null
     }
    },
    "2d996db6eb0d4e21836014f27aa77147": {
     "model_module": "@jupyter-widgets/controls",
     "model_module_version": "1.5.0",
     "model_name": "DescriptionStyleModel",
     "state": {
      "_model_module": "@jupyter-widgets/controls",
      "_model_module_version": "1.5.0",
      "_model_name": "DescriptionStyleModel",
      "_view_count": null,
      "_view_module": "@jupyter-widgets/base",
      "_view_module_version": "1.2.0",
      "_view_name": "StyleView",
      "description_width": ""
     }
    },
    "2ea1f8b433914752827c7f13f529999a": {
     "model_module": "@jupyter-widgets/controls",
     "model_module_version": "1.5.0",
     "model_name": "HTMLModel",
     "state": {
      "_dom_classes": [],
      "_model_module": "@jupyter-widgets/controls",
      "_model_module_version": "1.5.0",
      "_model_name": "HTMLModel",
      "_view_count": null,
      "_view_module": "@jupyter-widgets/controls",
      "_view_module_version": "1.5.0",
      "_view_name": "HTMLView",
      "description": "",
      "description_tooltip": null,
      "layout": "IPY_MODEL_4d913af97cc8451babcd772bbd91db94",
      "placeholder": "​",
      "style": "IPY_MODEL_be354fe21dbb4b518d9016444c487594",
      "value": " 25000/25000 [00:00&lt;00:00, 186389.45 examples/s]"
     }
    },
    "2f0d074599864de2821c0b4d040104f3": {
     "model_module": "@jupyter-widgets/controls",
     "model_module_version": "1.5.0",
     "model_name": "ProgressStyleModel",
     "state": {
      "_model_module": "@jupyter-widgets/controls",
      "_model_module_version": "1.5.0",
      "_model_name": "ProgressStyleModel",
      "_view_count": null,
      "_view_module": "@jupyter-widgets/base",
      "_view_module_version": "1.2.0",
      "_view_name": "StyleView",
      "bar_color": null,
      "description_width": ""
     }
    },
    "2fc4eb58175945f083134c2a735b65c7": {
     "model_module": "@jupyter-widgets/controls",
     "model_module_version": "1.5.0",
     "model_name": "HTMLModel",
     "state": {
      "_dom_classes": [],
      "_model_module": "@jupyter-widgets/controls",
      "_model_module_version": "1.5.0",
      "_model_name": "HTMLModel",
      "_view_count": null,
      "_view_module": "@jupyter-widgets/controls",
      "_view_module_version": "1.5.0",
      "_view_name": "HTMLView",
      "description": "",
      "description_tooltip": null,
      "layout": "IPY_MODEL_bf363ec1dcc843029c377270f30d3ca0",
      "placeholder": "​",
      "style": "IPY_MODEL_71a16afd534a4ed38f12c3d56e8d82b4",
      "value": " 20.5M/20.5M [00:00&lt;00:00, 84.9kB/s]"
     }
    },
    "341950a54ab14b8288b86170cc1a4a19": {
     "model_module": "@jupyter-widgets/controls",
     "model_module_version": "1.5.0",
     "model_name": "HTMLModel",
     "state": {
      "_dom_classes": [],
      "_model_module": "@jupyter-widgets/controls",
      "_model_module_version": "1.5.0",
      "_model_name": "HTMLModel",
      "_view_count": null,
      "_view_module": "@jupyter-widgets/controls",
      "_view_module_version": "1.5.0",
      "_view_name": "HTMLView",
      "description": "",
      "description_tooltip": null,
      "layout": "IPY_MODEL_250e897defdd4fb4a281c9bad201e3f6",
      "placeholder": "​",
      "style": "IPY_MODEL_f57988ecd890483e8999769c7c01243d",
      "value": "Map: 100%"
     }
    },
    "345d6d261a924ff49184ec7b53086694": {
     "model_module": "@jupyter-widgets/controls",
     "model_module_version": "1.5.0",
     "model_name": "HBoxModel",
     "state": {
      "_dom_classes": [],
      "_model_module": "@jupyter-widgets/controls",
      "_model_module_version": "1.5.0",
      "_model_name": "HBoxModel",
      "_view_count": null,
      "_view_module": "@jupyter-widgets/controls",
      "_view_module_version": "1.5.0",
      "_view_name": "HBoxView",
      "box_style": "",
      "children": [
       "IPY_MODEL_4faaae83012348a2a801fb7a98179e5d",
       "IPY_MODEL_6481adcfbc684153821091559cf67969",
       "IPY_MODEL_2fc4eb58175945f083134c2a735b65c7"
      ],
      "layout": "IPY_MODEL_3e23b37e969d481581f11db31c43a561"
     }
    },
    "379c7c3ccaa640759f5203ab7fab0644": {
     "model_module": "@jupyter-widgets/controls",
     "model_module_version": "1.5.0",
     "model_name": "DescriptionStyleModel",
     "state": {
      "_model_module": "@jupyter-widgets/controls",
      "_model_module_version": "1.5.0",
      "_model_name": "DescriptionStyleModel",
      "_view_count": null,
      "_view_module": "@jupyter-widgets/base",
      "_view_module_version": "1.2.0",
      "_view_name": "StyleView",
      "description_width": ""
     }
    },
    "37dde8f1b6ee40bcbfaf458331fedc6b": {
     "model_module": "@jupyter-widgets/base",
     "model_module_version": "1.2.0",
     "model_name": "LayoutModel",
     "state": {
      "_model_module": "@jupyter-widgets/base",
      "_model_module_version": "1.2.0",
      "_model_name": "LayoutModel",
      "_view_count": null,
      "_view_module": "@jupyter-widgets/base",
      "_view_module_version": "1.2.0",
      "_view_name": "LayoutView",
      "align_content": null,
      "align_items": null,
      "align_self": null,
      "border": null,
      "bottom": null,
      "display": null,
      "flex": null,
      "flex_flow": null,
      "grid_area": null,
      "grid_auto_columns": null,
      "grid_auto_flow": null,
      "grid_auto_rows": null,
      "grid_column": null,
      "grid_gap": null,
      "grid_row": null,
      "grid_template_areas": null,
      "grid_template_columns": null,
      "grid_template_rows": null,
      "height": null,
      "justify_content": null,
      "justify_items": null,
      "left": null,
      "margin": null,
      "max_height": null,
      "max_width": null,
      "min_height": null,
      "min_width": null,
      "object_fit": null,
      "object_position": null,
      "order": null,
      "overflow": null,
      "overflow_x": null,
      "overflow_y": null,
      "padding": null,
      "right": null,
      "top": null,
      "visibility": null,
      "width": null
     }
    },
    "3a10e2421eeb4c34aa8752bf78a9c68d": {
     "model_module": "@jupyter-widgets/base",
     "model_module_version": "1.2.0",
     "model_name": "LayoutModel",
     "state": {
      "_model_module": "@jupyter-widgets/base",
      "_model_module_version": "1.2.0",
      "_model_name": "LayoutModel",
      "_view_count": null,
      "_view_module": "@jupyter-widgets/base",
      "_view_module_version": "1.2.0",
      "_view_name": "LayoutView",
      "align_content": null,
      "align_items": null,
      "align_self": null,
      "border": null,
      "bottom": null,
      "display": null,
      "flex": null,
      "flex_flow": null,
      "grid_area": null,
      "grid_auto_columns": null,
      "grid_auto_flow": null,
      "grid_auto_rows": null,
      "grid_column": null,
      "grid_gap": null,
      "grid_row": null,
      "grid_template_areas": null,
      "grid_template_columns": null,
      "grid_template_rows": null,
      "height": null,
      "justify_content": null,
      "justify_items": null,
      "left": null,
      "margin": null,
      "max_height": null,
      "max_width": null,
      "min_height": null,
      "min_width": null,
      "object_fit": null,
      "object_position": null,
      "order": null,
      "overflow": null,
      "overflow_x": null,
      "overflow_y": null,
      "padding": null,
      "right": null,
      "top": null,
      "visibility": null,
      "width": null
     }
    },
    "3b455c073c9643389510676c1fde964c": {
     "model_module": "@jupyter-widgets/controls",
     "model_module_version": "1.5.0",
     "model_name": "HBoxModel",
     "state": {
      "_dom_classes": [],
      "_model_module": "@jupyter-widgets/controls",
      "_model_module_version": "1.5.0",
      "_model_name": "HBoxModel",
      "_view_count": null,
      "_view_module": "@jupyter-widgets/controls",
      "_view_module_version": "1.5.0",
      "_view_name": "HBoxView",
      "box_style": "",
      "children": [
       "IPY_MODEL_82a53caca1be40989475f84fc9f4f869",
       "IPY_MODEL_7658af2ef26a40ae9435ad9a1cc8e939",
       "IPY_MODEL_bef16636af984689acab6e1848c28e39"
      ],
      "layout": "IPY_MODEL_e448338b3081470597d9d363a531313b"
     }
    },
    "3b4bbc38e2e44b7c97873f0797355a24": {
     "model_module": "@jupyter-widgets/base",
     "model_module_version": "1.2.0",
     "model_name": "LayoutModel",
     "state": {
      "_model_module": "@jupyter-widgets/base",
      "_model_module_version": "1.2.0",
      "_model_name": "LayoutModel",
      "_view_count": null,
      "_view_module": "@jupyter-widgets/base",
      "_view_module_version": "1.2.0",
      "_view_name": "LayoutView",
      "align_content": null,
      "align_items": null,
      "align_self": null,
      "border": null,
      "bottom": null,
      "display": null,
      "flex": null,
      "flex_flow": null,
      "grid_area": null,
      "grid_auto_columns": null,
      "grid_auto_flow": null,
      "grid_auto_rows": null,
      "grid_column": null,
      "grid_gap": null,
      "grid_row": null,
      "grid_template_areas": null,
      "grid_template_columns": null,
      "grid_template_rows": null,
      "height": null,
      "justify_content": null,
      "justify_items": null,
      "left": null,
      "margin": null,
      "max_height": null,
      "max_width": null,
      "min_height": null,
      "min_width": null,
      "object_fit": null,
      "object_position": null,
      "order": null,
      "overflow": null,
      "overflow_x": null,
      "overflow_y": null,
      "padding": null,
      "right": null,
      "top": null,
      "visibility": null,
      "width": null
     }
    },
    "3cc777800ce74440a2e709fb5c7a8dfb": {
     "model_module": "@jupyter-widgets/controls",
     "model_module_version": "1.5.0",
     "model_name": "HTMLModel",
     "state": {
      "_dom_classes": [],
      "_model_module": "@jupyter-widgets/controls",
      "_model_module_version": "1.5.0",
      "_model_name": "HTMLModel",
      "_view_count": null,
      "_view_module": "@jupyter-widgets/controls",
      "_view_module_version": "1.5.0",
      "_view_name": "HTMLView",
      "description": "",
      "description_tooltip": null,
      "layout": "IPY_MODEL_b2b62a46c5e241368b5865829a39e5f3",
      "placeholder": "​",
      "style": "IPY_MODEL_f1382428497445ad86e3785fc303cd8a",
      "value": " 25000/25000 [00:06&lt;00:00, 4178.00 examples/s]"
     }
    },
    "3e23b37e969d481581f11db31c43a561": {
     "model_module": "@jupyter-widgets/base",
     "model_module_version": "1.2.0",
     "model_name": "LayoutModel",
     "state": {
      "_model_module": "@jupyter-widgets/base",
      "_model_module_version": "1.2.0",
      "_model_name": "LayoutModel",
      "_view_count": null,
      "_view_module": "@jupyter-widgets/base",
      "_view_module_version": "1.2.0",
      "_view_name": "LayoutView",
      "align_content": null,
      "align_items": null,
      "align_self": null,
      "border": null,
      "bottom": null,
      "display": null,
      "flex": null,
      "flex_flow": null,
      "grid_area": null,
      "grid_auto_columns": null,
      "grid_auto_flow": null,
      "grid_auto_rows": null,
      "grid_column": null,
      "grid_gap": null,
      "grid_row": null,
      "grid_template_areas": null,
      "grid_template_columns": null,
      "grid_template_rows": null,
      "height": null,
      "justify_content": null,
      "justify_items": null,
      "left": null,
      "margin": null,
      "max_height": null,
      "max_width": null,
      "min_height": null,
      "min_width": null,
      "object_fit": null,
      "object_position": null,
      "order": null,
      "overflow": null,
      "overflow_x": null,
      "overflow_y": null,
      "padding": null,
      "right": null,
      "top": null,
      "visibility": null,
      "width": null
     }
    },
    "42a12a5003f14cd58314b3dc1a8ac252": {
     "model_module": "@jupyter-widgets/base",
     "model_module_version": "1.2.0",
     "model_name": "LayoutModel",
     "state": {
      "_model_module": "@jupyter-widgets/base",
      "_model_module_version": "1.2.0",
      "_model_name": "LayoutModel",
      "_view_count": null,
      "_view_module": "@jupyter-widgets/base",
      "_view_module_version": "1.2.0",
      "_view_name": "LayoutView",
      "align_content": null,
      "align_items": null,
      "align_self": null,
      "border": null,
      "bottom": null,
      "display": null,
      "flex": null,
      "flex_flow": null,
      "grid_area": null,
      "grid_auto_columns": null,
      "grid_auto_flow": null,
      "grid_auto_rows": null,
      "grid_column": null,
      "grid_gap": null,
      "grid_row": null,
      "grid_template_areas": null,
      "grid_template_columns": null,
      "grid_template_rows": null,
      "height": null,
      "justify_content": null,
      "justify_items": null,
      "left": null,
      "margin": null,
      "max_height": null,
      "max_width": null,
      "min_height": null,
      "min_width": null,
      "object_fit": null,
      "object_position": null,
      "order": null,
      "overflow": null,
      "overflow_x": null,
      "overflow_y": null,
      "padding": null,
      "right": null,
      "top": null,
      "visibility": null,
      "width": null
     }
    },
    "4666a84309754b2da431159c98c280d8": {
     "model_module": "@jupyter-widgets/controls",
     "model_module_version": "1.5.0",
     "model_name": "DescriptionStyleModel",
     "state": {
      "_model_module": "@jupyter-widgets/controls",
      "_model_module_version": "1.5.0",
      "_model_name": "DescriptionStyleModel",
      "_view_count": null,
      "_view_module": "@jupyter-widgets/base",
      "_view_module_version": "1.2.0",
      "_view_name": "StyleView",
      "description_width": ""
     }
    },
    "46dc05dadc3b4da392df2fc4cd5828c2": {
     "model_module": "@jupyter-widgets/base",
     "model_module_version": "1.2.0",
     "model_name": "LayoutModel",
     "state": {
      "_model_module": "@jupyter-widgets/base",
      "_model_module_version": "1.2.0",
      "_model_name": "LayoutModel",
      "_view_count": null,
      "_view_module": "@jupyter-widgets/base",
      "_view_module_version": "1.2.0",
      "_view_name": "LayoutView",
      "align_content": null,
      "align_items": null,
      "align_self": null,
      "border": null,
      "bottom": null,
      "display": null,
      "flex": null,
      "flex_flow": null,
      "grid_area": null,
      "grid_auto_columns": null,
      "grid_auto_flow": null,
      "grid_auto_rows": null,
      "grid_column": null,
      "grid_gap": null,
      "grid_row": null,
      "grid_template_areas": null,
      "grid_template_columns": null,
      "grid_template_rows": null,
      "height": null,
      "justify_content": null,
      "justify_items": null,
      "left": null,
      "margin": null,
      "max_height": null,
      "max_width": null,
      "min_height": null,
      "min_width": null,
      "object_fit": null,
      "object_position": null,
      "order": null,
      "overflow": null,
      "overflow_x": null,
      "overflow_y": null,
      "padding": null,
      "right": null,
      "top": null,
      "visibility": null,
      "width": null
     }
    },
    "4743574c16e34e319c59b1bd0990515a": {
     "model_module": "@jupyter-widgets/controls",
     "model_module_version": "1.5.0",
     "model_name": "DescriptionStyleModel",
     "state": {
      "_model_module": "@jupyter-widgets/controls",
      "_model_module_version": "1.5.0",
      "_model_name": "DescriptionStyleModel",
      "_view_count": null,
      "_view_module": "@jupyter-widgets/base",
      "_view_module_version": "1.2.0",
      "_view_name": "StyleView",
      "description_width": ""
     }
    },
    "4a9d0ce232e84ea49743d8346516a65e": {
     "model_module": "@jupyter-widgets/base",
     "model_module_version": "1.2.0",
     "model_name": "LayoutModel",
     "state": {
      "_model_module": "@jupyter-widgets/base",
      "_model_module_version": "1.2.0",
      "_model_name": "LayoutModel",
      "_view_count": null,
      "_view_module": "@jupyter-widgets/base",
      "_view_module_version": "1.2.0",
      "_view_name": "LayoutView",
      "align_content": null,
      "align_items": null,
      "align_self": null,
      "border": null,
      "bottom": null,
      "display": null,
      "flex": null,
      "flex_flow": null,
      "grid_area": null,
      "grid_auto_columns": null,
      "grid_auto_flow": null,
      "grid_auto_rows": null,
      "grid_column": null,
      "grid_gap": null,
      "grid_row": null,
      "grid_template_areas": null,
      "grid_template_columns": null,
      "grid_template_rows": null,
      "height": null,
      "justify_content": null,
      "justify_items": null,
      "left": null,
      "margin": null,
      "max_height": null,
      "max_width": null,
      "min_height": null,
      "min_width": null,
      "object_fit": null,
      "object_position": null,
      "order": null,
      "overflow": null,
      "overflow_x": null,
      "overflow_y": null,
      "padding": null,
      "right": null,
      "top": null,
      "visibility": null,
      "width": null
     }
    },
    "4d146f10a8264f5e8a67b4d2a52a9136": {
     "model_module": "@jupyter-widgets/controls",
     "model_module_version": "1.5.0",
     "model_name": "HTMLModel",
     "state": {
      "_dom_classes": [],
      "_model_module": "@jupyter-widgets/controls",
      "_model_module_version": "1.5.0",
      "_model_name": "HTMLModel",
      "_view_count": null,
      "_view_module": "@jupyter-widgets/controls",
      "_view_module_version": "1.5.0",
      "_view_name": "HTMLView",
      "description": "",
      "description_tooltip": null,
      "layout": "IPY_MODEL_da0c9577097940f6b7993e5d82954694",
      "placeholder": "​",
      "style": "IPY_MODEL_224b18563ccd45728a757bfc88318074",
      "value": " 232k/232k [00:00&lt;00:00, 1.02MB/s]"
     }
    },
    "4d913af97cc8451babcd772bbd91db94": {
     "model_module": "@jupyter-widgets/base",
     "model_module_version": "1.2.0",
     "model_name": "LayoutModel",
     "state": {
      "_model_module": "@jupyter-widgets/base",
      "_model_module_version": "1.2.0",
      "_model_name": "LayoutModel",
      "_view_count": null,
      "_view_module": "@jupyter-widgets/base",
      "_view_module_version": "1.2.0",
      "_view_name": "LayoutView",
      "align_content": null,
      "align_items": null,
      "align_self": null,
      "border": null,
      "bottom": null,
      "display": null,
      "flex": null,
      "flex_flow": null,
      "grid_area": null,
      "grid_auto_columns": null,
      "grid_auto_flow": null,
      "grid_auto_rows": null,
      "grid_column": null,
      "grid_gap": null,
      "grid_row": null,
      "grid_template_areas": null,
      "grid_template_columns": null,
      "grid_template_rows": null,
      "height": null,
      "justify_content": null,
      "justify_items": null,
      "left": null,
      "margin": null,
      "max_height": null,
      "max_width": null,
      "min_height": null,
      "min_width": null,
      "object_fit": null,
      "object_position": null,
      "order": null,
      "overflow": null,
      "overflow_x": null,
      "overflow_y": null,
      "padding": null,
      "right": null,
      "top": null,
      "visibility": null,
      "width": null
     }
    },
    "4f507c32c9214ddf844bca7124005911": {
     "model_module": "@jupyter-widgets/controls",
     "model_module_version": "1.5.0",
     "model_name": "FloatProgressModel",
     "state": {
      "_dom_classes": [],
      "_model_module": "@jupyter-widgets/controls",
      "_model_module_version": "1.5.0",
      "_model_name": "FloatProgressModel",
      "_view_count": null,
      "_view_module": "@jupyter-widgets/controls",
      "_view_module_version": "1.5.0",
      "_view_name": "ProgressView",
      "bar_style": "success",
      "description": "",
      "description_tooltip": null,
      "layout": "IPY_MODEL_bcbb8d0fb9a24c6eb56628ef56ed44f1",
      "max": 25000,
      "min": 0,
      "orientation": "horizontal",
      "style": "IPY_MODEL_ff0fc76e1a454733acde20da6bbae900",
      "value": 25000
     }
    },
    "4faaae83012348a2a801fb7a98179e5d": {
     "model_module": "@jupyter-widgets/controls",
     "model_module_version": "1.5.0",
     "model_name": "HTMLModel",
     "state": {
      "_dom_classes": [],
      "_model_module": "@jupyter-widgets/controls",
      "_model_module_version": "1.5.0",
      "_model_name": "HTMLModel",
      "_view_count": null,
      "_view_module": "@jupyter-widgets/controls",
      "_view_module_version": "1.5.0",
      "_view_name": "HTMLView",
      "description": "",
      "description_tooltip": null,
      "layout": "IPY_MODEL_60c4b492f856426f9d811a1b77f20a3e",
      "placeholder": "​",
      "style": "IPY_MODEL_d44e9a517dab45259700368edb1913c4",
      "value": "plain_text/test-00000-of-00001.parquet: 100%"
     }
    },
    "5115d74e172341c488686162ff51ffb5": {
     "model_module": "@jupyter-widgets/base",
     "model_module_version": "1.2.0",
     "model_name": "LayoutModel",
     "state": {
      "_model_module": "@jupyter-widgets/base",
      "_model_module_version": "1.2.0",
      "_model_name": "LayoutModel",
      "_view_count": null,
      "_view_module": "@jupyter-widgets/base",
      "_view_module_version": "1.2.0",
      "_view_name": "LayoutView",
      "align_content": null,
      "align_items": null,
      "align_self": null,
      "border": null,
      "bottom": null,
      "display": null,
      "flex": null,
      "flex_flow": null,
      "grid_area": null,
      "grid_auto_columns": null,
      "grid_auto_flow": null,
      "grid_auto_rows": null,
      "grid_column": null,
      "grid_gap": null,
      "grid_row": null,
      "grid_template_areas": null,
      "grid_template_columns": null,
      "grid_template_rows": null,
      "height": null,
      "justify_content": null,
      "justify_items": null,
      "left": null,
      "margin": null,
      "max_height": null,
      "max_width": null,
      "min_height": null,
      "min_width": null,
      "object_fit": null,
      "object_position": null,
      "order": null,
      "overflow": null,
      "overflow_x": null,
      "overflow_y": null,
      "padding": null,
      "right": null,
      "top": null,
      "visibility": null,
      "width": null
     }
    },
    "52d836f8e69b4490a37e67f65f315210": {
     "model_module": "@jupyter-widgets/base",
     "model_module_version": "1.2.0",
     "model_name": "LayoutModel",
     "state": {
      "_model_module": "@jupyter-widgets/base",
      "_model_module_version": "1.2.0",
      "_model_name": "LayoutModel",
      "_view_count": null,
      "_view_module": "@jupyter-widgets/base",
      "_view_module_version": "1.2.0",
      "_view_name": "LayoutView",
      "align_content": null,
      "align_items": null,
      "align_self": null,
      "border": null,
      "bottom": null,
      "display": null,
      "flex": null,
      "flex_flow": null,
      "grid_area": null,
      "grid_auto_columns": null,
      "grid_auto_flow": null,
      "grid_auto_rows": null,
      "grid_column": null,
      "grid_gap": null,
      "grid_row": null,
      "grid_template_areas": null,
      "grid_template_columns": null,
      "grid_template_rows": null,
      "height": null,
      "justify_content": null,
      "justify_items": null,
      "left": null,
      "margin": null,
      "max_height": null,
      "max_width": null,
      "min_height": null,
      "min_width": null,
      "object_fit": null,
      "object_position": null,
      "order": null,
      "overflow": null,
      "overflow_x": null,
      "overflow_y": null,
      "padding": null,
      "right": null,
      "top": null,
      "visibility": null,
      "width": null
     }
    },
    "53512acc10e2492dbd233dfce2795bf5": {
     "model_module": "@jupyter-widgets/controls",
     "model_module_version": "1.5.0",
     "model_name": "HTMLModel",
     "state": {
      "_dom_classes": [],
      "_model_module": "@jupyter-widgets/controls",
      "_model_module_version": "1.5.0",
      "_model_name": "HTMLModel",
      "_view_count": null,
      "_view_module": "@jupyter-widgets/controls",
      "_view_module_version": "1.5.0",
      "_view_name": "HTMLView",
      "description": "",
      "description_tooltip": null,
      "layout": "IPY_MODEL_998aa59115fc40fa8a36491d6f96a725",
      "placeholder": "​",
      "style": "IPY_MODEL_91c33cf9590442ab919429122e95f19a",
      "value": "Generating unsupervised split: 100%"
     }
    },
    "545d94ea54a3453492ecd9b031095259": {
     "model_module": "@jupyter-widgets/controls",
     "model_module_version": "1.5.0",
     "model_name": "ProgressStyleModel",
     "state": {
      "_model_module": "@jupyter-widgets/controls",
      "_model_module_version": "1.5.0",
      "_model_name": "ProgressStyleModel",
      "_view_count": null,
      "_view_module": "@jupyter-widgets/base",
      "_view_module_version": "1.2.0",
      "_view_name": "StyleView",
      "bar_color": null,
      "description_width": ""
     }
    },
    "55f069976e3f41cbb104fc6a205880f5": {
     "model_module": "@jupyter-widgets/controls",
     "model_module_version": "1.5.0",
     "model_name": "FloatProgressModel",
     "state": {
      "_dom_classes": [],
      "_model_module": "@jupyter-widgets/controls",
      "_model_module_version": "1.5.0",
      "_model_name": "FloatProgressModel",
      "_view_count": null,
      "_view_module": "@jupyter-widgets/controls",
      "_view_module_version": "1.5.0",
      "_view_name": "ProgressView",
      "bar_style": "success",
      "description": "",
      "description_tooltip": null,
      "layout": "IPY_MODEL_89c979a3ddfd4c0e9c63533770ae0b12",
      "max": 48,
      "min": 0,
      "orientation": "horizontal",
      "style": "IPY_MODEL_20424dfb18c34c2d86007b0f30199c55",
      "value": 48
     }
    },
    "5846f75dbfec4459b2a57dc15ab156f9": {
     "model_module": "@jupyter-widgets/controls",
     "model_module_version": "1.5.0",
     "model_name": "HTMLModel",
     "state": {
      "_dom_classes": [],
      "_model_module": "@jupyter-widgets/controls",
      "_model_module_version": "1.5.0",
      "_model_name": "HTMLModel",
      "_view_count": null,
      "_view_module": "@jupyter-widgets/controls",
      "_view_module_version": "1.5.0",
      "_view_name": "HTMLView",
      "description": "",
      "description_tooltip": null,
      "layout": "IPY_MODEL_79b53e23042e40e0a6c07b0a33ea8f37",
      "placeholder": "​",
      "style": "IPY_MODEL_af1077139faa4855969d0cd7f532decc",
      "value": " 21.0M/21.0M [00:01&lt;00:00, 16.1MB/s]"
     }
    },
    "58de604769e149be99fc7f481a7a905d": {
     "model_module": "@jupyter-widgets/base",
     "model_module_version": "1.2.0",
     "model_name": "LayoutModel",
     "state": {
      "_model_module": "@jupyter-widgets/base",
      "_model_module_version": "1.2.0",
      "_model_name": "LayoutModel",
      "_view_count": null,
      "_view_module": "@jupyter-widgets/base",
      "_view_module_version": "1.2.0",
      "_view_name": "LayoutView",
      "align_content": null,
      "align_items": null,
      "align_self": null,
      "border": null,
      "bottom": null,
      "display": null,
      "flex": null,
      "flex_flow": null,
      "grid_area": null,
      "grid_auto_columns": null,
      "grid_auto_flow": null,
      "grid_auto_rows": null,
      "grid_column": null,
      "grid_gap": null,
      "grid_row": null,
      "grid_template_areas": null,
      "grid_template_columns": null,
      "grid_template_rows": null,
      "height": null,
      "justify_content": null,
      "justify_items": null,
      "left": null,
      "margin": null,
      "max_height": null,
      "max_width": null,
      "min_height": null,
      "min_width": null,
      "object_fit": null,
      "object_position": null,
      "order": null,
      "overflow": null,
      "overflow_x": null,
      "overflow_y": null,
      "padding": null,
      "right": null,
      "top": null,
      "visibility": null,
      "width": null
     }
    },
    "5b1b59cc315542f3935c6ded2f4b227e": {
     "model_module": "@jupyter-widgets/base",
     "model_module_version": "1.2.0",
     "model_name": "LayoutModel",
     "state": {
      "_model_module": "@jupyter-widgets/base",
      "_model_module_version": "1.2.0",
      "_model_name": "LayoutModel",
      "_view_count": null,
      "_view_module": "@jupyter-widgets/base",
      "_view_module_version": "1.2.0",
      "_view_name": "LayoutView",
      "align_content": null,
      "align_items": null,
      "align_self": null,
      "border": null,
      "bottom": null,
      "display": null,
      "flex": null,
      "flex_flow": null,
      "grid_area": null,
      "grid_auto_columns": null,
      "grid_auto_flow": null,
      "grid_auto_rows": null,
      "grid_column": null,
      "grid_gap": null,
      "grid_row": null,
      "grid_template_areas": null,
      "grid_template_columns": null,
      "grid_template_rows": null,
      "height": null,
      "justify_content": null,
      "justify_items": null,
      "left": null,
      "margin": null,
      "max_height": null,
      "max_width": null,
      "min_height": null,
      "min_width": null,
      "object_fit": null,
      "object_position": null,
      "order": null,
      "overflow": null,
      "overflow_x": null,
      "overflow_y": null,
      "padding": null,
      "right": null,
      "top": null,
      "visibility": null,
      "width": null
     }
    },
    "5c40471e888741a8988b005f2db2130f": {
     "model_module": "@jupyter-widgets/base",
     "model_module_version": "1.2.0",
     "model_name": "LayoutModel",
     "state": {
      "_model_module": "@jupyter-widgets/base",
      "_model_module_version": "1.2.0",
      "_model_name": "LayoutModel",
      "_view_count": null,
      "_view_module": "@jupyter-widgets/base",
      "_view_module_version": "1.2.0",
      "_view_name": "LayoutView",
      "align_content": null,
      "align_items": null,
      "align_self": null,
      "border": null,
      "bottom": null,
      "display": null,
      "flex": null,
      "flex_flow": null,
      "grid_area": null,
      "grid_auto_columns": null,
      "grid_auto_flow": null,
      "grid_auto_rows": null,
      "grid_column": null,
      "grid_gap": null,
      "grid_row": null,
      "grid_template_areas": null,
      "grid_template_columns": null,
      "grid_template_rows": null,
      "height": null,
      "justify_content": null,
      "justify_items": null,
      "left": null,
      "margin": null,
      "max_height": null,
      "max_width": null,
      "min_height": null,
      "min_width": null,
      "object_fit": null,
      "object_position": null,
      "order": null,
      "overflow": null,
      "overflow_x": null,
      "overflow_y": null,
      "padding": null,
      "right": null,
      "top": null,
      "visibility": null,
      "width": null
     }
    },
    "60c4b492f856426f9d811a1b77f20a3e": {
     "model_module": "@jupyter-widgets/base",
     "model_module_version": "1.2.0",
     "model_name": "LayoutModel",
     "state": {
      "_model_module": "@jupyter-widgets/base",
      "_model_module_version": "1.2.0",
      "_model_name": "LayoutModel",
      "_view_count": null,
      "_view_module": "@jupyter-widgets/base",
      "_view_module_version": "1.2.0",
      "_view_name": "LayoutView",
      "align_content": null,
      "align_items": null,
      "align_self": null,
      "border": null,
      "bottom": null,
      "display": null,
      "flex": null,
      "flex_flow": null,
      "grid_area": null,
      "grid_auto_columns": null,
      "grid_auto_flow": null,
      "grid_auto_rows": null,
      "grid_column": null,
      "grid_gap": null,
      "grid_row": null,
      "grid_template_areas": null,
      "grid_template_columns": null,
      "grid_template_rows": null,
      "height": null,
      "justify_content": null,
      "justify_items": null,
      "left": null,
      "margin": null,
      "max_height": null,
      "max_width": null,
      "min_height": null,
      "min_width": null,
      "object_fit": null,
      "object_position": null,
      "order": null,
      "overflow": null,
      "overflow_x": null,
      "overflow_y": null,
      "padding": null,
      "right": null,
      "top": null,
      "visibility": null,
      "width": null
     }
    },
    "6481adcfbc684153821091559cf67969": {
     "model_module": "@jupyter-widgets/controls",
     "model_module_version": "1.5.0",
     "model_name": "FloatProgressModel",
     "state": {
      "_dom_classes": [],
      "_model_module": "@jupyter-widgets/controls",
      "_model_module_version": "1.5.0",
      "_model_name": "FloatProgressModel",
      "_view_count": null,
      "_view_module": "@jupyter-widgets/controls",
      "_view_module_version": "1.5.0",
      "_view_name": "ProgressView",
      "bar_style": "success",
      "description": "",
      "description_tooltip": null,
      "layout": "IPY_MODEL_0baa0563b46f4b0f88fe4dfb7790adc4",
      "max": 20470363,
      "min": 0,
      "orientation": "horizontal",
      "style": "IPY_MODEL_2f0d074599864de2821c0b4d040104f3",
      "value": 20470363
     }
    },
    "64bffac927d34a909d7cc99a79bd0bd8": {
     "model_module": "@jupyter-widgets/base",
     "model_module_version": "1.2.0",
     "model_name": "LayoutModel",
     "state": {
      "_model_module": "@jupyter-widgets/base",
      "_model_module_version": "1.2.0",
      "_model_name": "LayoutModel",
      "_view_count": null,
      "_view_module": "@jupyter-widgets/base",
      "_view_module_version": "1.2.0",
      "_view_name": "LayoutView",
      "align_content": null,
      "align_items": null,
      "align_self": null,
      "border": null,
      "bottom": null,
      "display": null,
      "flex": null,
      "flex_flow": null,
      "grid_area": null,
      "grid_auto_columns": null,
      "grid_auto_flow": null,
      "grid_auto_rows": null,
      "grid_column": null,
      "grid_gap": null,
      "grid_row": null,
      "grid_template_areas": null,
      "grid_template_columns": null,
      "grid_template_rows": null,
      "height": null,
      "justify_content": null,
      "justify_items": null,
      "left": null,
      "margin": null,
      "max_height": null,
      "max_width": null,
      "min_height": null,
      "min_width": null,
      "object_fit": null,
      "object_position": null,
      "order": null,
      "overflow": null,
      "overflow_x": null,
      "overflow_y": null,
      "padding": null,
      "right": null,
      "top": null,
      "visibility": null,
      "width": null
     }
    },
    "6547737fc13f4ec6a7953342372b3f0e": {
     "model_module": "@jupyter-widgets/controls",
     "model_module_version": "1.5.0",
     "model_name": "HTMLModel",
     "state": {
      "_dom_classes": [],
      "_model_module": "@jupyter-widgets/controls",
      "_model_module_version": "1.5.0",
      "_model_name": "HTMLModel",
      "_view_count": null,
      "_view_module": "@jupyter-widgets/controls",
      "_view_module_version": "1.5.0",
      "_view_name": "HTMLView",
      "description": "",
      "description_tooltip": null,
      "layout": "IPY_MODEL_c7e1465f216e408d8bc57e6c51acb514",
      "placeholder": "​",
      "style": "IPY_MODEL_95884cc0f39b4c9da6559d78ad426f3f",
      "value": "config.json: 100%"
     }
    },
    "68224419f60c418692102233180ac5cb": {
     "model_module": "@jupyter-widgets/base",
     "model_module_version": "1.2.0",
     "model_name": "LayoutModel",
     "state": {
      "_model_module": "@jupyter-widgets/base",
      "_model_module_version": "1.2.0",
      "_model_name": "LayoutModel",
      "_view_count": null,
      "_view_module": "@jupyter-widgets/base",
      "_view_module_version": "1.2.0",
      "_view_name": "LayoutView",
      "align_content": null,
      "align_items": null,
      "align_self": null,
      "border": null,
      "bottom": null,
      "display": null,
      "flex": null,
      "flex_flow": null,
      "grid_area": null,
      "grid_auto_columns": null,
      "grid_auto_flow": null,
      "grid_auto_rows": null,
      "grid_column": null,
      "grid_gap": null,
      "grid_row": null,
      "grid_template_areas": null,
      "grid_template_columns": null,
      "grid_template_rows": null,
      "height": null,
      "justify_content": null,
      "justify_items": null,
      "left": null,
      "margin": null,
      "max_height": null,
      "max_width": null,
      "min_height": null,
      "min_width": null,
      "object_fit": null,
      "object_position": null,
      "order": null,
      "overflow": null,
      "overflow_x": null,
      "overflow_y": null,
      "padding": null,
      "right": null,
      "top": null,
      "visibility": null,
      "width": null
     }
    },
    "6a4dd937f3d8455d998bf5b99bce22be": {
     "model_module": "@jupyter-widgets/base",
     "model_module_version": "1.2.0",
     "model_name": "LayoutModel",
     "state": {
      "_model_module": "@jupyter-widgets/base",
      "_model_module_version": "1.2.0",
      "_model_name": "LayoutModel",
      "_view_count": null,
      "_view_module": "@jupyter-widgets/base",
      "_view_module_version": "1.2.0",
      "_view_name": "LayoutView",
      "align_content": null,
      "align_items": null,
      "align_self": null,
      "border": null,
      "bottom": null,
      "display": null,
      "flex": null,
      "flex_flow": null,
      "grid_area": null,
      "grid_auto_columns": null,
      "grid_auto_flow": null,
      "grid_auto_rows": null,
      "grid_column": null,
      "grid_gap": null,
      "grid_row": null,
      "grid_template_areas": null,
      "grid_template_columns": null,
      "grid_template_rows": null,
      "height": null,
      "justify_content": null,
      "justify_items": null,
      "left": null,
      "margin": null,
      "max_height": null,
      "max_width": null,
      "min_height": null,
      "min_width": null,
      "object_fit": null,
      "object_position": null,
      "order": null,
      "overflow": null,
      "overflow_x": null,
      "overflow_y": null,
      "padding": null,
      "right": null,
      "top": null,
      "visibility": null,
      "width": null
     }
    },
    "6af307749a424c27a0ebfdc177be7900": {
     "model_module": "@jupyter-widgets/controls",
     "model_module_version": "1.5.0",
     "model_name": "FloatProgressModel",
     "state": {
      "_dom_classes": [],
      "_model_module": "@jupyter-widgets/controls",
      "_model_module_version": "1.5.0",
      "_model_name": "FloatProgressModel",
      "_view_count": null,
      "_view_module": "@jupyter-widgets/controls",
      "_view_module_version": "1.5.0",
      "_view_name": "ProgressView",
      "bar_style": "success",
      "description": "",
      "description_tooltip": null,
      "layout": "IPY_MODEL_cf0f3e9e09e84391a53938ddb0a81cd4",
      "max": 41996509,
      "min": 0,
      "orientation": "horizontal",
      "style": "IPY_MODEL_950f9f16c26b4ca7b81278ec48f6e604",
      "value": 41996509
     }
    },
    "6b83eb21f90349d98b8546c338696235": {
     "model_module": "@jupyter-widgets/base",
     "model_module_version": "1.2.0",
     "model_name": "LayoutModel",
     "state": {
      "_model_module": "@jupyter-widgets/base",
      "_model_module_version": "1.2.0",
      "_model_name": "LayoutModel",
      "_view_count": null,
      "_view_module": "@jupyter-widgets/base",
      "_view_module_version": "1.2.0",
      "_view_name": "LayoutView",
      "align_content": null,
      "align_items": null,
      "align_self": null,
      "border": null,
      "bottom": null,
      "display": null,
      "flex": null,
      "flex_flow": null,
      "grid_area": null,
      "grid_auto_columns": null,
      "grid_auto_flow": null,
      "grid_auto_rows": null,
      "grid_column": null,
      "grid_gap": null,
      "grid_row": null,
      "grid_template_areas": null,
      "grid_template_columns": null,
      "grid_template_rows": null,
      "height": null,
      "justify_content": null,
      "justify_items": null,
      "left": null,
      "margin": null,
      "max_height": null,
      "max_width": null,
      "min_height": null,
      "min_width": null,
      "object_fit": null,
      "object_position": null,
      "order": null,
      "overflow": null,
      "overflow_x": null,
      "overflow_y": null,
      "padding": null,
      "right": null,
      "top": null,
      "visibility": null,
      "width": null
     }
    },
    "707297ef1137435f982e7a01d4601c02": {
     "model_module": "@jupyter-widgets/controls",
     "model_module_version": "1.5.0",
     "model_name": "DescriptionStyleModel",
     "state": {
      "_model_module": "@jupyter-widgets/controls",
      "_model_module_version": "1.5.0",
      "_model_name": "DescriptionStyleModel",
      "_view_count": null,
      "_view_module": "@jupyter-widgets/base",
      "_view_module_version": "1.2.0",
      "_view_name": "StyleView",
      "description_width": ""
     }
    },
    "71a16afd534a4ed38f12c3d56e8d82b4": {
     "model_module": "@jupyter-widgets/controls",
     "model_module_version": "1.5.0",
     "model_name": "DescriptionStyleModel",
     "state": {
      "_model_module": "@jupyter-widgets/controls",
      "_model_module_version": "1.5.0",
      "_model_name": "DescriptionStyleModel",
      "_view_count": null,
      "_view_module": "@jupyter-widgets/base",
      "_view_module_version": "1.2.0",
      "_view_name": "StyleView",
      "description_width": ""
     }
    },
    "72d878612f6f4c1296b06fdf22c92539": {
     "model_module": "@jupyter-widgets/base",
     "model_module_version": "1.2.0",
     "model_name": "LayoutModel",
     "state": {
      "_model_module": "@jupyter-widgets/base",
      "_model_module_version": "1.2.0",
      "_model_name": "LayoutModel",
      "_view_count": null,
      "_view_module": "@jupyter-widgets/base",
      "_view_module_version": "1.2.0",
      "_view_name": "LayoutView",
      "align_content": null,
      "align_items": null,
      "align_self": null,
      "border": null,
      "bottom": null,
      "display": null,
      "flex": null,
      "flex_flow": null,
      "grid_area": null,
      "grid_auto_columns": null,
      "grid_auto_flow": null,
      "grid_auto_rows": null,
      "grid_column": null,
      "grid_gap": null,
      "grid_row": null,
      "grid_template_areas": null,
      "grid_template_columns": null,
      "grid_template_rows": null,
      "height": null,
      "justify_content": null,
      "justify_items": null,
      "left": null,
      "margin": null,
      "max_height": null,
      "max_width": null,
      "min_height": null,
      "min_width": null,
      "object_fit": null,
      "object_position": null,
      "order": null,
      "overflow": null,
      "overflow_x": null,
      "overflow_y": null,
      "padding": null,
      "right": null,
      "top": null,
      "visibility": null,
      "width": null
     }
    },
    "72ec45eb34174832911b835bcc24b2f8": {
     "model_module": "@jupyter-widgets/base",
     "model_module_version": "1.2.0",
     "model_name": "LayoutModel",
     "state": {
      "_model_module": "@jupyter-widgets/base",
      "_model_module_version": "1.2.0",
      "_model_name": "LayoutModel",
      "_view_count": null,
      "_view_module": "@jupyter-widgets/base",
      "_view_module_version": "1.2.0",
      "_view_name": "LayoutView",
      "align_content": null,
      "align_items": null,
      "align_self": null,
      "border": null,
      "bottom": null,
      "display": null,
      "flex": null,
      "flex_flow": null,
      "grid_area": null,
      "grid_auto_columns": null,
      "grid_auto_flow": null,
      "grid_auto_rows": null,
      "grid_column": null,
      "grid_gap": null,
      "grid_row": null,
      "grid_template_areas": null,
      "grid_template_columns": null,
      "grid_template_rows": null,
      "height": null,
      "justify_content": null,
      "justify_items": null,
      "left": null,
      "margin": null,
      "max_height": null,
      "max_width": null,
      "min_height": null,
      "min_width": null,
      "object_fit": null,
      "object_position": null,
      "order": null,
      "overflow": null,
      "overflow_x": null,
      "overflow_y": null,
      "padding": null,
      "right": null,
      "top": null,
      "visibility": null,
      "width": null
     }
    },
    "7424f1a269aa4c99a8c2b74270c3cacb": {
     "model_module": "@jupyter-widgets/base",
     "model_module_version": "1.2.0",
     "model_name": "LayoutModel",
     "state": {
      "_model_module": "@jupyter-widgets/base",
      "_model_module_version": "1.2.0",
      "_model_name": "LayoutModel",
      "_view_count": null,
      "_view_module": "@jupyter-widgets/base",
      "_view_module_version": "1.2.0",
      "_view_name": "LayoutView",
      "align_content": null,
      "align_items": null,
      "align_self": null,
      "border": null,
      "bottom": null,
      "display": null,
      "flex": null,
      "flex_flow": null,
      "grid_area": null,
      "grid_auto_columns": null,
      "grid_auto_flow": null,
      "grid_auto_rows": null,
      "grid_column": null,
      "grid_gap": null,
      "grid_row": null,
      "grid_template_areas": null,
      "grid_template_columns": null,
      "grid_template_rows": null,
      "height": null,
      "justify_content": null,
      "justify_items": null,
      "left": null,
      "margin": null,
      "max_height": null,
      "max_width": null,
      "min_height": null,
      "min_width": null,
      "object_fit": null,
      "object_position": null,
      "order": null,
      "overflow": null,
      "overflow_x": null,
      "overflow_y": null,
      "padding": null,
      "right": null,
      "top": null,
      "visibility": null,
      "width": null
     }
    },
    "7454439c951c4c4790f2f212fbdf148a": {
     "model_module": "@jupyter-widgets/controls",
     "model_module_version": "1.5.0",
     "model_name": "DescriptionStyleModel",
     "state": {
      "_model_module": "@jupyter-widgets/controls",
      "_model_module_version": "1.5.0",
      "_model_name": "DescriptionStyleModel",
      "_view_count": null,
      "_view_module": "@jupyter-widgets/base",
      "_view_module_version": "1.2.0",
      "_view_name": "StyleView",
      "description_width": ""
     }
    },
    "75388de1c75646da98a0d66ff7f86e93": {
     "model_module": "@jupyter-widgets/controls",
     "model_module_version": "1.5.0",
     "model_name": "HTMLModel",
     "state": {
      "_dom_classes": [],
      "_model_module": "@jupyter-widgets/controls",
      "_model_module_version": "1.5.0",
      "_model_name": "HTMLModel",
      "_view_count": null,
      "_view_module": "@jupyter-widgets/controls",
      "_view_module_version": "1.5.0",
      "_view_name": "HTMLView",
      "description": "",
      "description_tooltip": null,
      "layout": "IPY_MODEL_f966573dfcdf482a9a7110e02bc285cc",
      "placeholder": "​",
      "style": "IPY_MODEL_1e9418168d5f46b28aea0943000a9aeb",
      "value": "plain_text/unsupervised-00000-of-00001.p(…): 100%"
     }
    },
    "7546be2e5d184bb395b2b2452b6d70f7": {
     "model_module": "@jupyter-widgets/controls",
     "model_module_version": "1.5.0",
     "model_name": "HBoxModel",
     "state": {
      "_dom_classes": [],
      "_model_module": "@jupyter-widgets/controls",
      "_model_module_version": "1.5.0",
      "_model_name": "HBoxModel",
      "_view_count": null,
      "_view_module": "@jupyter-widgets/controls",
      "_view_module_version": "1.5.0",
      "_view_name": "HBoxView",
      "box_style": "",
      "children": [
       "IPY_MODEL_23be1f883e9a425889509729efca6e1a",
       "IPY_MODEL_c03a31653655494c8dee07959f3a7f55",
       "IPY_MODEL_4d146f10a8264f5e8a67b4d2a52a9136"
      ],
      "layout": "IPY_MODEL_68224419f60c418692102233180ac5cb"
     }
    },
    "7658af2ef26a40ae9435ad9a1cc8e939": {
     "model_module": "@jupyter-widgets/controls",
     "model_module_version": "1.5.0",
     "model_name": "FloatProgressModel",
     "state": {
      "_dom_classes": [],
      "_model_module": "@jupyter-widgets/controls",
      "_model_module_version": "1.5.0",
      "_model_name": "FloatProgressModel",
      "_view_count": null,
      "_view_module": "@jupyter-widgets/controls",
      "_view_module_version": "1.5.0",
      "_view_name": "ProgressView",
      "bar_style": "success",
      "description": "",
      "description_tooltip": null,
      "layout": "IPY_MODEL_42a12a5003f14cd58314b3dc1a8ac252",
      "max": 25000,
      "min": 0,
      "orientation": "horizontal",
      "style": "IPY_MODEL_850a38e16aa64e05b07412a5c3b8e6ad",
      "value": 25000
     }
    },
    "79b53e23042e40e0a6c07b0a33ea8f37": {
     "model_module": "@jupyter-widgets/base",
     "model_module_version": "1.2.0",
     "model_name": "LayoutModel",
     "state": {
      "_model_module": "@jupyter-widgets/base",
      "_model_module_version": "1.2.0",
      "_model_name": "LayoutModel",
      "_view_count": null,
      "_view_module": "@jupyter-widgets/base",
      "_view_module_version": "1.2.0",
      "_view_name": "LayoutView",
      "align_content": null,
      "align_items": null,
      "align_self": null,
      "border": null,
      "bottom": null,
      "display": null,
      "flex": null,
      "flex_flow": null,
      "grid_area": null,
      "grid_auto_columns": null,
      "grid_auto_flow": null,
      "grid_auto_rows": null,
      "grid_column": null,
      "grid_gap": null,
      "grid_row": null,
      "grid_template_areas": null,
      "grid_template_columns": null,
      "grid_template_rows": null,
      "height": null,
      "justify_content": null,
      "justify_items": null,
      "left": null,
      "margin": null,
      "max_height": null,
      "max_width": null,
      "min_height": null,
      "min_width": null,
      "object_fit": null,
      "object_position": null,
      "order": null,
      "overflow": null,
      "overflow_x": null,
      "overflow_y": null,
      "padding": null,
      "right": null,
      "top": null,
      "visibility": null,
      "width": null
     }
    },
    "7bc5aca7892e4ee598d31d5ba92ab2b6": {
     "model_module": "@jupyter-widgets/controls",
     "model_module_version": "1.5.0",
     "model_name": "HBoxModel",
     "state": {
      "_dom_classes": [],
      "_model_module": "@jupyter-widgets/controls",
      "_model_module_version": "1.5.0",
      "_model_name": "HBoxModel",
      "_view_count": null,
      "_view_module": "@jupyter-widgets/controls",
      "_view_module_version": "1.5.0",
      "_view_name": "HBoxView",
      "box_style": "",
      "children": [
       "IPY_MODEL_ce7f25bb03204dab8aae7c70380d0ade",
       "IPY_MODEL_55f069976e3f41cbb104fc6a205880f5",
       "IPY_MODEL_0ea7bfabdc674c4db2d9e329191276bc"
      ],
      "layout": "IPY_MODEL_10f9786768d24a028830e350002b7e7f"
     }
    },
    "7e37a77f3d05400fbc5f077e5db0bef2": {
     "model_module": "@jupyter-widgets/base",
     "model_module_version": "1.2.0",
     "model_name": "LayoutModel",
     "state": {
      "_model_module": "@jupyter-widgets/base",
      "_model_module_version": "1.2.0",
      "_model_name": "LayoutModel",
      "_view_count": null,
      "_view_module": "@jupyter-widgets/base",
      "_view_module_version": "1.2.0",
      "_view_name": "LayoutView",
      "align_content": null,
      "align_items": null,
      "align_self": null,
      "border": null,
      "bottom": null,
      "display": null,
      "flex": null,
      "flex_flow": null,
      "grid_area": null,
      "grid_auto_columns": null,
      "grid_auto_flow": null,
      "grid_auto_rows": null,
      "grid_column": null,
      "grid_gap": null,
      "grid_row": null,
      "grid_template_areas": null,
      "grid_template_columns": null,
      "grid_template_rows": null,
      "height": null,
      "justify_content": null,
      "justify_items": null,
      "left": null,
      "margin": null,
      "max_height": null,
      "max_width": null,
      "min_height": null,
      "min_width": null,
      "object_fit": null,
      "object_position": null,
      "order": null,
      "overflow": null,
      "overflow_x": null,
      "overflow_y": null,
      "padding": null,
      "right": null,
      "top": null,
      "visibility": null,
      "width": null
     }
    },
    "7f66f1cc69494ddfa34494417dedc173": {
     "model_module": "@jupyter-widgets/controls",
     "model_module_version": "1.5.0",
     "model_name": "HTMLModel",
     "state": {
      "_dom_classes": [],
      "_model_module": "@jupyter-widgets/controls",
      "_model_module_version": "1.5.0",
      "_model_name": "HTMLModel",
      "_view_count": null,
      "_view_module": "@jupyter-widgets/controls",
      "_view_module_version": "1.5.0",
      "_view_name": "HTMLView",
      "description": "",
      "description_tooltip": null,
      "layout": "IPY_MODEL_37dde8f1b6ee40bcbfaf458331fedc6b",
      "placeholder": "​",
      "style": "IPY_MODEL_7454439c951c4c4790f2f212fbdf148a",
      "value": " 25000/25000 [00:05&lt;00:00, 4604.24 examples/s]"
     }
    },
    "8227dee6172a49a9a44ce759e8c080fe": {
     "model_module": "@jupyter-widgets/controls",
     "model_module_version": "1.5.0",
     "model_name": "ProgressStyleModel",
     "state": {
      "_model_module": "@jupyter-widgets/controls",
      "_model_module_version": "1.5.0",
      "_model_name": "ProgressStyleModel",
      "_view_count": null,
      "_view_module": "@jupyter-widgets/base",
      "_view_module_version": "1.2.0",
      "_view_name": "StyleView",
      "bar_color": null,
      "description_width": ""
     }
    },
    "8254f7d3984e4406b571762c9071dc30": {
     "model_module": "@jupyter-widgets/controls",
     "model_module_version": "1.5.0",
     "model_name": "FloatProgressModel",
     "state": {
      "_dom_classes": [],
      "_model_module": "@jupyter-widgets/controls",
      "_model_module_version": "1.5.0",
      "_model_name": "FloatProgressModel",
      "_view_count": null,
      "_view_module": "@jupyter-widgets/controls",
      "_view_module_version": "1.5.0",
      "_view_name": "ProgressView",
      "bar_style": "success",
      "description": "",
      "description_tooltip": null,
      "layout": "IPY_MODEL_df85b462fd094df981d56e80d323bdb6",
      "max": 483,
      "min": 0,
      "orientation": "horizontal",
      "style": "IPY_MODEL_8227dee6172a49a9a44ce759e8c080fe",
      "value": 483
     }
    },
    "82a53caca1be40989475f84fc9f4f869": {
     "model_module": "@jupyter-widgets/controls",
     "model_module_version": "1.5.0",
     "model_name": "HTMLModel",
     "state": {
      "_dom_classes": [],
      "_model_module": "@jupyter-widgets/controls",
      "_model_module_version": "1.5.0",
      "_model_name": "HTMLModel",
      "_view_count": null,
      "_view_module": "@jupyter-widgets/controls",
      "_view_module_version": "1.5.0",
      "_view_name": "HTMLView",
      "description": "",
      "description_tooltip": null,
      "layout": "IPY_MODEL_c276357d264c4cbaab1f8e315866d868",
      "placeholder": "​",
      "style": "IPY_MODEL_f235def5a4a84aeeae9cf6e690d5d0de",
      "value": "Generating train split: 100%"
     }
    },
    "850a38e16aa64e05b07412a5c3b8e6ad": {
     "model_module": "@jupyter-widgets/controls",
     "model_module_version": "1.5.0",
     "model_name": "ProgressStyleModel",
     "state": {
      "_model_module": "@jupyter-widgets/controls",
      "_model_module_version": "1.5.0",
      "_model_name": "ProgressStyleModel",
      "_view_count": null,
      "_view_module": "@jupyter-widgets/base",
      "_view_module_version": "1.2.0",
      "_view_name": "StyleView",
      "bar_color": null,
      "description_width": ""
     }
    },
    "85cccdb0053c411baf37fc4a9d01b1f3": {
     "model_module": "@jupyter-widgets/controls",
     "model_module_version": "1.5.0",
     "model_name": "ProgressStyleModel",
     "state": {
      "_model_module": "@jupyter-widgets/controls",
      "_model_module_version": "1.5.0",
      "_model_name": "ProgressStyleModel",
      "_view_count": null,
      "_view_module": "@jupyter-widgets/base",
      "_view_module_version": "1.2.0",
      "_view_name": "StyleView",
      "bar_color": null,
      "description_width": ""
     }
    },
    "8949ba3359dc44798e50592706c3a639": {
     "model_module": "@jupyter-widgets/controls",
     "model_module_version": "1.5.0",
     "model_name": "FloatProgressModel",
     "state": {
      "_dom_classes": [],
      "_model_module": "@jupyter-widgets/controls",
      "_model_module_version": "1.5.0",
      "_model_name": "FloatProgressModel",
      "_view_count": null,
      "_view_module": "@jupyter-widgets/controls",
      "_view_module_version": "1.5.0",
      "_view_name": "ProgressView",
      "bar_style": "success",
      "description": "",
      "description_tooltip": null,
      "layout": "IPY_MODEL_26ad781f4d644b2a81a4cc226b064ce9",
      "max": 50000,
      "min": 0,
      "orientation": "horizontal",
      "style": "IPY_MODEL_aeebaf5a7fad49989a369895e710ec74",
      "value": 50000
     }
    },
    "89c979a3ddfd4c0e9c63533770ae0b12": {
     "model_module": "@jupyter-widgets/base",
     "model_module_version": "1.2.0",
     "model_name": "LayoutModel",
     "state": {
      "_model_module": "@jupyter-widgets/base",
      "_model_module_version": "1.2.0",
      "_model_name": "LayoutModel",
      "_view_count": null,
      "_view_module": "@jupyter-widgets/base",
      "_view_module_version": "1.2.0",
      "_view_name": "LayoutView",
      "align_content": null,
      "align_items": null,
      "align_self": null,
      "border": null,
      "bottom": null,
      "display": null,
      "flex": null,
      "flex_flow": null,
      "grid_area": null,
      "grid_auto_columns": null,
      "grid_auto_flow": null,
      "grid_auto_rows": null,
      "grid_column": null,
      "grid_gap": null,
      "grid_row": null,
      "grid_template_areas": null,
      "grid_template_columns": null,
      "grid_template_rows": null,
      "height": null,
      "justify_content": null,
      "justify_items": null,
      "left": null,
      "margin": null,
      "max_height": null,
      "max_width": null,
      "min_height": null,
      "min_width": null,
      "object_fit": null,
      "object_position": null,
      "order": null,
      "overflow": null,
      "overflow_x": null,
      "overflow_y": null,
      "padding": null,
      "right": null,
      "top": null,
      "visibility": null,
      "width": null
     }
    },
    "8ad9ee070d0a4f28957fb1db7de83fa3": {
     "model_module": "@jupyter-widgets/controls",
     "model_module_version": "1.5.0",
     "model_name": "HTMLModel",
     "state": {
      "_dom_classes": [],
      "_model_module": "@jupyter-widgets/controls",
      "_model_module_version": "1.5.0",
      "_model_name": "HTMLModel",
      "_view_count": null,
      "_view_module": "@jupyter-widgets/controls",
      "_view_module_version": "1.5.0",
      "_view_name": "HTMLView",
      "description": "",
      "description_tooltip": null,
      "layout": "IPY_MODEL_58de604769e149be99fc7f481a7a905d",
      "placeholder": "​",
      "style": "IPY_MODEL_e67950835cc249a08905adb1d9a2592d",
      "value": " 50000/50000 [00:00&lt;00:00, 191609.94 examples/s]"
     }
    },
    "8bbb1f59d9c14e9a80b431381a1339a1": {
     "model_module": "@jupyter-widgets/controls",
     "model_module_version": "1.5.0",
     "model_name": "DescriptionStyleModel",
     "state": {
      "_model_module": "@jupyter-widgets/controls",
      "_model_module_version": "1.5.0",
      "_model_name": "DescriptionStyleModel",
      "_view_count": null,
      "_view_module": "@jupyter-widgets/base",
      "_view_module_version": "1.2.0",
      "_view_name": "StyleView",
      "description_width": ""
     }
    },
    "8e2c3ac4852b4ffbaab8a1b063e17ed2": {
     "model_module": "@jupyter-widgets/controls",
     "model_module_version": "1.5.0",
     "model_name": "HTMLModel",
     "state": {
      "_dom_classes": [],
      "_model_module": "@jupyter-widgets/controls",
      "_model_module_version": "1.5.0",
      "_model_name": "HTMLModel",
      "_view_count": null,
      "_view_module": "@jupyter-widgets/controls",
      "_view_module_version": "1.5.0",
      "_view_name": "HTMLView",
      "description": "",
      "description_tooltip": null,
      "layout": "IPY_MODEL_6a4dd937f3d8455d998bf5b99bce22be",
      "placeholder": "​",
      "style": "IPY_MODEL_379c7c3ccaa640759f5203ab7fab0644",
      "value": "plain_text/train-00000-of-00001.parquet: 100%"
     }
    },
    "90f564f093ff41e2beb97d02de24a5c7": {
     "model_module": "@jupyter-widgets/controls",
     "model_module_version": "1.5.0",
     "model_name": "DescriptionStyleModel",
     "state": {
      "_model_module": "@jupyter-widgets/controls",
      "_model_module_version": "1.5.0",
      "_model_name": "DescriptionStyleModel",
      "_view_count": null,
      "_view_module": "@jupyter-widgets/base",
      "_view_module_version": "1.2.0",
      "_view_name": "StyleView",
      "description_width": ""
     }
    },
    "914818301e9a414d848ccf89d4326c83": {
     "model_module": "@jupyter-widgets/controls",
     "model_module_version": "1.5.0",
     "model_name": "HTMLModel",
     "state": {
      "_dom_classes": [],
      "_model_module": "@jupyter-widgets/controls",
      "_model_module_version": "1.5.0",
      "_model_name": "HTMLModel",
      "_view_count": null,
      "_view_module": "@jupyter-widgets/controls",
      "_view_module_version": "1.5.0",
      "_view_name": "HTMLView",
      "description": "",
      "description_tooltip": null,
      "layout": "IPY_MODEL_08bfae2ddf094acaa260fa82775ba2cf",
      "placeholder": "​",
      "style": "IPY_MODEL_f9a5b90bd1b74aeea4be31d209d4a143",
      "value": " 42.0M/42.0M [00:02&lt;00:00, 6.35MB/s]"
     }
    },
    "91c33cf9590442ab919429122e95f19a": {
     "model_module": "@jupyter-widgets/controls",
     "model_module_version": "1.5.0",
     "model_name": "DescriptionStyleModel",
     "state": {
      "_model_module": "@jupyter-widgets/controls",
      "_model_module_version": "1.5.0",
      "_model_name": "DescriptionStyleModel",
      "_view_count": null,
      "_view_module": "@jupyter-widgets/base",
      "_view_module_version": "1.2.0",
      "_view_name": "StyleView",
      "description_width": ""
     }
    },
    "950f9f16c26b4ca7b81278ec48f6e604": {
     "model_module": "@jupyter-widgets/controls",
     "model_module_version": "1.5.0",
     "model_name": "ProgressStyleModel",
     "state": {
      "_model_module": "@jupyter-widgets/controls",
      "_model_module_version": "1.5.0",
      "_model_name": "ProgressStyleModel",
      "_view_count": null,
      "_view_module": "@jupyter-widgets/base",
      "_view_module_version": "1.2.0",
      "_view_name": "StyleView",
      "bar_color": null,
      "description_width": ""
     }
    },
    "95884cc0f39b4c9da6559d78ad426f3f": {
     "model_module": "@jupyter-widgets/controls",
     "model_module_version": "1.5.0",
     "model_name": "DescriptionStyleModel",
     "state": {
      "_model_module": "@jupyter-widgets/controls",
      "_model_module_version": "1.5.0",
      "_model_name": "DescriptionStyleModel",
      "_view_count": null,
      "_view_module": "@jupyter-widgets/base",
      "_view_module_version": "1.2.0",
      "_view_name": "StyleView",
      "description_width": ""
     }
    },
    "998aa59115fc40fa8a36491d6f96a725": {
     "model_module": "@jupyter-widgets/base",
     "model_module_version": "1.2.0",
     "model_name": "LayoutModel",
     "state": {
      "_model_module": "@jupyter-widgets/base",
      "_model_module_version": "1.2.0",
      "_model_name": "LayoutModel",
      "_view_count": null,
      "_view_module": "@jupyter-widgets/base",
      "_view_module_version": "1.2.0",
      "_view_name": "LayoutView",
      "align_content": null,
      "align_items": null,
      "align_self": null,
      "border": null,
      "bottom": null,
      "display": null,
      "flex": null,
      "flex_flow": null,
      "grid_area": null,
      "grid_auto_columns": null,
      "grid_auto_flow": null,
      "grid_auto_rows": null,
      "grid_column": null,
      "grid_gap": null,
      "grid_row": null,
      "grid_template_areas": null,
      "grid_template_columns": null,
      "grid_template_rows": null,
      "height": null,
      "justify_content": null,
      "justify_items": null,
      "left": null,
      "margin": null,
      "max_height": null,
      "max_width": null,
      "min_height": null,
      "min_width": null,
      "object_fit": null,
      "object_position": null,
      "order": null,
      "overflow": null,
      "overflow_x": null,
      "overflow_y": null,
      "padding": null,
      "right": null,
      "top": null,
      "visibility": null,
      "width": null
     }
    },
    "9b2384b5d37243cd966c506bfc89666d": {
     "model_module": "@jupyter-widgets/base",
     "model_module_version": "1.2.0",
     "model_name": "LayoutModel",
     "state": {
      "_model_module": "@jupyter-widgets/base",
      "_model_module_version": "1.2.0",
      "_model_name": "LayoutModel",
      "_view_count": null,
      "_view_module": "@jupyter-widgets/base",
      "_view_module_version": "1.2.0",
      "_view_name": "LayoutView",
      "align_content": null,
      "align_items": null,
      "align_self": null,
      "border": null,
      "bottom": null,
      "display": null,
      "flex": null,
      "flex_flow": null,
      "grid_area": null,
      "grid_auto_columns": null,
      "grid_auto_flow": null,
      "grid_auto_rows": null,
      "grid_column": null,
      "grid_gap": null,
      "grid_row": null,
      "grid_template_areas": null,
      "grid_template_columns": null,
      "grid_template_rows": null,
      "height": null,
      "justify_content": null,
      "justify_items": null,
      "left": null,
      "margin": null,
      "max_height": null,
      "max_width": null,
      "min_height": null,
      "min_width": null,
      "object_fit": null,
      "object_position": null,
      "order": null,
      "overflow": null,
      "overflow_x": null,
      "overflow_y": null,
      "padding": null,
      "right": null,
      "top": null,
      "visibility": null,
      "width": null
     }
    },
    "9bacf453ec7f4847a98665b7e2a3a596": {
     "model_module": "@jupyter-widgets/controls",
     "model_module_version": "1.5.0",
     "model_name": "DescriptionStyleModel",
     "state": {
      "_model_module": "@jupyter-widgets/controls",
      "_model_module_version": "1.5.0",
      "_model_name": "DescriptionStyleModel",
      "_view_count": null,
      "_view_module": "@jupyter-widgets/base",
      "_view_module_version": "1.2.0",
      "_view_name": "StyleView",
      "description_width": ""
     }
    },
    "9da4f521939d42949205b6cbfbdacc91": {
     "model_module": "@jupyter-widgets/controls",
     "model_module_version": "1.5.0",
     "model_name": "HBoxModel",
     "state": {
      "_dom_classes": [],
      "_model_module": "@jupyter-widgets/controls",
      "_model_module_version": "1.5.0",
      "_model_name": "HBoxModel",
      "_view_count": null,
      "_view_module": "@jupyter-widgets/controls",
      "_view_module_version": "1.5.0",
      "_view_name": "HBoxView",
      "box_style": "",
      "children": [
       "IPY_MODEL_cd6e887a2216446e804c0b2806d104f4",
       "IPY_MODEL_0d6fb458e93c4fe49a9e6546f73c9813",
       "IPY_MODEL_7f66f1cc69494ddfa34494417dedc173"
      ],
      "layout": "IPY_MODEL_4a9d0ce232e84ea49743d8346516a65e"
     }
    },
    "a2e633b8dc04480a9f60bfbc8150828a": {
     "model_module": "@jupyter-widgets/controls",
     "model_module_version": "1.5.0",
     "model_name": "HBoxModel",
     "state": {
      "_dom_classes": [],
      "_model_module": "@jupyter-widgets/controls",
      "_model_module_version": "1.5.0",
      "_model_name": "HBoxModel",
      "_view_count": null,
      "_view_module": "@jupyter-widgets/controls",
      "_view_module_version": "1.5.0",
      "_view_name": "HBoxView",
      "box_style": "",
      "children": [
       "IPY_MODEL_2112f2ff9cc041dbb582bab0ebe04387",
       "IPY_MODEL_4f507c32c9214ddf844bca7124005911",
       "IPY_MODEL_2ea1f8b433914752827c7f13f529999a"
      ],
      "layout": "IPY_MODEL_72d878612f6f4c1296b06fdf22c92539"
     }
    },
    "a412e285de5f40a8a43d6baba02fe509": {
     "model_module": "@jupyter-widgets/base",
     "model_module_version": "1.2.0",
     "model_name": "LayoutModel",
     "state": {
      "_model_module": "@jupyter-widgets/base",
      "_model_module_version": "1.2.0",
      "_model_name": "LayoutModel",
      "_view_count": null,
      "_view_module": "@jupyter-widgets/base",
      "_view_module_version": "1.2.0",
      "_view_name": "LayoutView",
      "align_content": null,
      "align_items": null,
      "align_self": null,
      "border": null,
      "bottom": null,
      "display": null,
      "flex": null,
      "flex_flow": null,
      "grid_area": null,
      "grid_auto_columns": null,
      "grid_auto_flow": null,
      "grid_auto_rows": null,
      "grid_column": null,
      "grid_gap": null,
      "grid_row": null,
      "grid_template_areas": null,
      "grid_template_columns": null,
      "grid_template_rows": null,
      "height": null,
      "justify_content": null,
      "justify_items": null,
      "left": null,
      "margin": null,
      "max_height": null,
      "max_width": null,
      "min_height": null,
      "min_width": null,
      "object_fit": null,
      "object_position": null,
      "order": null,
      "overflow": null,
      "overflow_x": null,
      "overflow_y": null,
      "padding": null,
      "right": null,
      "top": null,
      "visibility": null,
      "width": null
     }
    },
    "a76f77ded74c4230bea6ce6556b26914": {
     "model_module": "@jupyter-widgets/base",
     "model_module_version": "1.2.0",
     "model_name": "LayoutModel",
     "state": {
      "_model_module": "@jupyter-widgets/base",
      "_model_module_version": "1.2.0",
      "_model_name": "LayoutModel",
      "_view_count": null,
      "_view_module": "@jupyter-widgets/base",
      "_view_module_version": "1.2.0",
      "_view_name": "LayoutView",
      "align_content": null,
      "align_items": null,
      "align_self": null,
      "border": null,
      "bottom": null,
      "display": null,
      "flex": null,
      "flex_flow": null,
      "grid_area": null,
      "grid_auto_columns": null,
      "grid_auto_flow": null,
      "grid_auto_rows": null,
      "grid_column": null,
      "grid_gap": null,
      "grid_row": null,
      "grid_template_areas": null,
      "grid_template_columns": null,
      "grid_template_rows": null,
      "height": null,
      "justify_content": null,
      "justify_items": null,
      "left": null,
      "margin": null,
      "max_height": null,
      "max_width": null,
      "min_height": null,
      "min_width": null,
      "object_fit": null,
      "object_position": null,
      "order": null,
      "overflow": null,
      "overflow_x": null,
      "overflow_y": null,
      "padding": null,
      "right": null,
      "top": null,
      "visibility": null,
      "width": null
     }
    },
    "aeebaf5a7fad49989a369895e710ec74": {
     "model_module": "@jupyter-widgets/controls",
     "model_module_version": "1.5.0",
     "model_name": "ProgressStyleModel",
     "state": {
      "_model_module": "@jupyter-widgets/controls",
      "_model_module_version": "1.5.0",
      "_model_name": "ProgressStyleModel",
      "_view_count": null,
      "_view_module": "@jupyter-widgets/base",
      "_view_module_version": "1.2.0",
      "_view_name": "StyleView",
      "bar_color": null,
      "description_width": ""
     }
    },
    "af1077139faa4855969d0cd7f532decc": {
     "model_module": "@jupyter-widgets/controls",
     "model_module_version": "1.5.0",
     "model_name": "DescriptionStyleModel",
     "state": {
      "_model_module": "@jupyter-widgets/controls",
      "_model_module_version": "1.5.0",
      "_model_name": "DescriptionStyleModel",
      "_view_count": null,
      "_view_module": "@jupyter-widgets/base",
      "_view_module_version": "1.2.0",
      "_view_name": "StyleView",
      "description_width": ""
     }
    },
    "af4679fcb61a4698b2c293bc53f82a1a": {
     "model_module": "@jupyter-widgets/base",
     "model_module_version": "1.2.0",
     "model_name": "LayoutModel",
     "state": {
      "_model_module": "@jupyter-widgets/base",
      "_model_module_version": "1.2.0",
      "_model_name": "LayoutModel",
      "_view_count": null,
      "_view_module": "@jupyter-widgets/base",
      "_view_module_version": "1.2.0",
      "_view_name": "LayoutView",
      "align_content": null,
      "align_items": null,
      "align_self": null,
      "border": null,
      "bottom": null,
      "display": null,
      "flex": null,
      "flex_flow": null,
      "grid_area": null,
      "grid_auto_columns": null,
      "grid_auto_flow": null,
      "grid_auto_rows": null,
      "grid_column": null,
      "grid_gap": null,
      "grid_row": null,
      "grid_template_areas": null,
      "grid_template_columns": null,
      "grid_template_rows": null,
      "height": null,
      "justify_content": null,
      "justify_items": null,
      "left": null,
      "margin": null,
      "max_height": null,
      "max_width": null,
      "min_height": null,
      "min_width": null,
      "object_fit": null,
      "object_position": null,
      "order": null,
      "overflow": null,
      "overflow_x": null,
      "overflow_y": null,
      "padding": null,
      "right": null,
      "top": null,
      "visibility": null,
      "width": null
     }
    },
    "b25052be0bdf4e69abda144948122d00": {
     "model_module": "@jupyter-widgets/controls",
     "model_module_version": "1.5.0",
     "model_name": "HBoxModel",
     "state": {
      "_dom_classes": [],
      "_model_module": "@jupyter-widgets/controls",
      "_model_module_version": "1.5.0",
      "_model_name": "HBoxModel",
      "_view_count": null,
      "_view_module": "@jupyter-widgets/controls",
      "_view_module_version": "1.5.0",
      "_view_name": "HBoxView",
      "box_style": "",
      "children": [
       "IPY_MODEL_de79c876256d40868535c1465ef7500d",
       "IPY_MODEL_fe646b6aac1a4779acbb679b932ce326",
       "IPY_MODEL_15eabdb504d34c289ad7c6be632da17f"
      ],
      "layout": "IPY_MODEL_72ec45eb34174832911b835bcc24b2f8"
     }
    },
    "b2b62a46c5e241368b5865829a39e5f3": {
     "model_module": "@jupyter-widgets/base",
     "model_module_version": "1.2.0",
     "model_name": "LayoutModel",
     "state": {
      "_model_module": "@jupyter-widgets/base",
      "_model_module_version": "1.2.0",
      "_model_name": "LayoutModel",
      "_view_count": null,
      "_view_module": "@jupyter-widgets/base",
      "_view_module_version": "1.2.0",
      "_view_name": "LayoutView",
      "align_content": null,
      "align_items": null,
      "align_self": null,
      "border": null,
      "bottom": null,
      "display": null,
      "flex": null,
      "flex_flow": null,
      "grid_area": null,
      "grid_auto_columns": null,
      "grid_auto_flow": null,
      "grid_auto_rows": null,
      "grid_column": null,
      "grid_gap": null,
      "grid_row": null,
      "grid_template_areas": null,
      "grid_template_columns": null,
      "grid_template_rows": null,
      "height": null,
      "justify_content": null,
      "justify_items": null,
      "left": null,
      "margin": null,
      "max_height": null,
      "max_width": null,
      "min_height": null,
      "min_width": null,
      "object_fit": null,
      "object_position": null,
      "order": null,
      "overflow": null,
      "overflow_x": null,
      "overflow_y": null,
      "padding": null,
      "right": null,
      "top": null,
      "visibility": null,
      "width": null
     }
    },
    "b359fe07f68541be80f80bf18dd7f072": {
     "model_module": "@jupyter-widgets/controls",
     "model_module_version": "1.5.0",
     "model_name": "FloatProgressModel",
     "state": {
      "_dom_classes": [],
      "_model_module": "@jupyter-widgets/controls",
      "_model_module_version": "1.5.0",
      "_model_name": "FloatProgressModel",
      "_view_count": null,
      "_view_module": "@jupyter-widgets/controls",
      "_view_module_version": "1.5.0",
      "_view_name": "ProgressView",
      "bar_style": "success",
      "description": "",
      "description_tooltip": null,
      "layout": "IPY_MODEL_3b4bbc38e2e44b7c97873f0797355a24",
      "max": 20979968,
      "min": 0,
      "orientation": "horizontal",
      "style": "IPY_MODEL_85cccdb0053c411baf37fc4a9d01b1f3",
      "value": 20979968
     }
    },
    "bcbb8d0fb9a24c6eb56628ef56ed44f1": {
     "model_module": "@jupyter-widgets/base",
     "model_module_version": "1.2.0",
     "model_name": "LayoutModel",
     "state": {
      "_model_module": "@jupyter-widgets/base",
      "_model_module_version": "1.2.0",
      "_model_name": "LayoutModel",
      "_view_count": null,
      "_view_module": "@jupyter-widgets/base",
      "_view_module_version": "1.2.0",
      "_view_name": "LayoutView",
      "align_content": null,
      "align_items": null,
      "align_self": null,
      "border": null,
      "bottom": null,
      "display": null,
      "flex": null,
      "flex_flow": null,
      "grid_area": null,
      "grid_auto_columns": null,
      "grid_auto_flow": null,
      "grid_auto_rows": null,
      "grid_column": null,
      "grid_gap": null,
      "grid_row": null,
      "grid_template_areas": null,
      "grid_template_columns": null,
      "grid_template_rows": null,
      "height": null,
      "justify_content": null,
      "justify_items": null,
      "left": null,
      "margin": null,
      "max_height": null,
      "max_width": null,
      "min_height": null,
      "min_width": null,
      "object_fit": null,
      "object_position": null,
      "order": null,
      "overflow": null,
      "overflow_x": null,
      "overflow_y": null,
      "padding": null,
      "right": null,
      "top": null,
      "visibility": null,
      "width": null
     }
    },
    "be354fe21dbb4b518d9016444c487594": {
     "model_module": "@jupyter-widgets/controls",
     "model_module_version": "1.5.0",
     "model_name": "DescriptionStyleModel",
     "state": {
      "_model_module": "@jupyter-widgets/controls",
      "_model_module_version": "1.5.0",
      "_model_name": "DescriptionStyleModel",
      "_view_count": null,
      "_view_module": "@jupyter-widgets/base",
      "_view_module_version": "1.2.0",
      "_view_name": "StyleView",
      "description_width": ""
     }
    },
    "bef16636af984689acab6e1848c28e39": {
     "model_module": "@jupyter-widgets/controls",
     "model_module_version": "1.5.0",
     "model_name": "HTMLModel",
     "state": {
      "_dom_classes": [],
      "_model_module": "@jupyter-widgets/controls",
      "_model_module_version": "1.5.0",
      "_model_name": "HTMLModel",
      "_view_count": null,
      "_view_module": "@jupyter-widgets/controls",
      "_view_module_version": "1.5.0",
      "_view_name": "HTMLView",
      "description": "",
      "description_tooltip": null,
      "layout": "IPY_MODEL_52d836f8e69b4490a37e67f65f315210",
      "placeholder": "​",
      "style": "IPY_MODEL_4743574c16e34e319c59b1bd0990515a",
      "value": " 25000/25000 [00:00&lt;00:00, 103039.17 examples/s]"
     }
    },
    "bf363ec1dcc843029c377270f30d3ca0": {
     "model_module": "@jupyter-widgets/base",
     "model_module_version": "1.2.0",
     "model_name": "LayoutModel",
     "state": {
      "_model_module": "@jupyter-widgets/base",
      "_model_module_version": "1.2.0",
      "_model_name": "LayoutModel",
      "_view_count": null,
      "_view_module": "@jupyter-widgets/base",
      "_view_module_version": "1.2.0",
      "_view_name": "LayoutView",
      "align_content": null,
      "align_items": null,
      "align_self": null,
      "border": null,
      "bottom": null,
      "display": null,
      "flex": null,
      "flex_flow": null,
      "grid_area": null,
      "grid_auto_columns": null,
      "grid_auto_flow": null,
      "grid_auto_rows": null,
      "grid_column": null,
      "grid_gap": null,
      "grid_row": null,
      "grid_template_areas": null,
      "grid_template_columns": null,
      "grid_template_rows": null,
      "height": null,
      "justify_content": null,
      "justify_items": null,
      "left": null,
      "margin": null,
      "max_height": null,
      "max_width": null,
      "min_height": null,
      "min_width": null,
      "object_fit": null,
      "object_position": null,
      "order": null,
      "overflow": null,
      "overflow_x": null,
      "overflow_y": null,
      "padding": null,
      "right": null,
      "top": null,
      "visibility": null,
      "width": null
     }
    },
    "c03a31653655494c8dee07959f3a7f55": {
     "model_module": "@jupyter-widgets/controls",
     "model_module_version": "1.5.0",
     "model_name": "FloatProgressModel",
     "state": {
      "_dom_classes": [],
      "_model_module": "@jupyter-widgets/controls",
      "_model_module_version": "1.5.0",
      "_model_name": "FloatProgressModel",
      "_view_count": null,
      "_view_module": "@jupyter-widgets/controls",
      "_view_module_version": "1.5.0",
      "_view_name": "ProgressView",
      "bar_style": "success",
      "description": "",
      "description_tooltip": null,
      "layout": "IPY_MODEL_ed4f55f053574fb0b311de96d1188b4b",
      "max": 231508,
      "min": 0,
      "orientation": "horizontal",
      "style": "IPY_MODEL_f4a176ecdbee4312842fd5071de29291",
      "value": 231508
     }
    },
    "c17253b8e04648efb278b917ff63b6a6": {
     "model_module": "@jupyter-widgets/controls",
     "model_module_version": "1.5.0",
     "model_name": "HTMLModel",
     "state": {
      "_dom_classes": [],
      "_model_module": "@jupyter-widgets/controls",
      "_model_module_version": "1.5.0",
      "_model_name": "HTMLModel",
      "_view_count": null,
      "_view_module": "@jupyter-widgets/controls",
      "_view_module_version": "1.5.0",
      "_view_name": "HTMLView",
      "description": "",
      "description_tooltip": null,
      "layout": "IPY_MODEL_2a5d32ef39604d75a41644ce929723ea",
      "placeholder": "​",
      "style": "IPY_MODEL_90f564f093ff41e2beb97d02de24a5c7",
      "value": " 483/483 [00:00&lt;00:00, 68.9kB/s]"
     }
    },
    "c223e920208a4a149ec8dcf00f82eb92": {
     "model_module": "@jupyter-widgets/controls",
     "model_module_version": "1.5.0",
     "model_name": "HBoxModel",
     "state": {
      "_dom_classes": [],
      "_model_module": "@jupyter-widgets/controls",
      "_model_module_version": "1.5.0",
      "_model_name": "HBoxModel",
      "_view_count": null,
      "_view_module": "@jupyter-widgets/controls",
      "_view_module_version": "1.5.0",
      "_view_name": "HBoxView",
      "box_style": "",
      "children": [
       "IPY_MODEL_53512acc10e2492dbd233dfce2795bf5",
       "IPY_MODEL_8949ba3359dc44798e50592706c3a639",
       "IPY_MODEL_8ad9ee070d0a4f28957fb1db7de83fa3"
      ],
      "layout": "IPY_MODEL_6b83eb21f90349d98b8546c338696235"
     }
    },
    "c276357d264c4cbaab1f8e315866d868": {
     "model_module": "@jupyter-widgets/base",
     "model_module_version": "1.2.0",
     "model_name": "LayoutModel",
     "state": {
      "_model_module": "@jupyter-widgets/base",
      "_model_module_version": "1.2.0",
      "_model_name": "LayoutModel",
      "_view_count": null,
      "_view_module": "@jupyter-widgets/base",
      "_view_module_version": "1.2.0",
      "_view_name": "LayoutView",
      "align_content": null,
      "align_items": null,
      "align_self": null,
      "border": null,
      "bottom": null,
      "display": null,
      "flex": null,
      "flex_flow": null,
      "grid_area": null,
      "grid_auto_columns": null,
      "grid_auto_flow": null,
      "grid_auto_rows": null,
      "grid_column": null,
      "grid_gap": null,
      "grid_row": null,
      "grid_template_areas": null,
      "grid_template_columns": null,
      "grid_template_rows": null,
      "height": null,
      "justify_content": null,
      "justify_items": null,
      "left": null,
      "margin": null,
      "max_height": null,
      "max_width": null,
      "min_height": null,
      "min_width": null,
      "object_fit": null,
      "object_position": null,
      "order": null,
      "overflow": null,
      "overflow_x": null,
      "overflow_y": null,
      "padding": null,
      "right": null,
      "top": null,
      "visibility": null,
      "width": null
     }
    },
    "c293537720d446ef94701be7d80c023f": {
     "model_module": "@jupyter-widgets/controls",
     "model_module_version": "1.5.0",
     "model_name": "ProgressStyleModel",
     "state": {
      "_model_module": "@jupyter-widgets/controls",
      "_model_module_version": "1.5.0",
      "_model_name": "ProgressStyleModel",
      "_view_count": null,
      "_view_module": "@jupyter-widgets/base",
      "_view_module_version": "1.2.0",
      "_view_name": "StyleView",
      "bar_color": null,
      "description_width": ""
     }
    },
    "c7e1465f216e408d8bc57e6c51acb514": {
     "model_module": "@jupyter-widgets/base",
     "model_module_version": "1.2.0",
     "model_name": "LayoutModel",
     "state": {
      "_model_module": "@jupyter-widgets/base",
      "_model_module_version": "1.2.0",
      "_model_name": "LayoutModel",
      "_view_count": null,
      "_view_module": "@jupyter-widgets/base",
      "_view_module_version": "1.2.0",
      "_view_name": "LayoutView",
      "align_content": null,
      "align_items": null,
      "align_self": null,
      "border": null,
      "bottom": null,
      "display": null,
      "flex": null,
      "flex_flow": null,
      "grid_area": null,
      "grid_auto_columns": null,
      "grid_auto_flow": null,
      "grid_auto_rows": null,
      "grid_column": null,
      "grid_gap": null,
      "grid_row": null,
      "grid_template_areas": null,
      "grid_template_columns": null,
      "grid_template_rows": null,
      "height": null,
      "justify_content": null,
      "justify_items": null,
      "left": null,
      "margin": null,
      "max_height": null,
      "max_width": null,
      "min_height": null,
      "min_width": null,
      "object_fit": null,
      "object_position": null,
      "order": null,
      "overflow": null,
      "overflow_x": null,
      "overflow_y": null,
      "padding": null,
      "right": null,
      "top": null,
      "visibility": null,
      "width": null
     }
    },
    "cc1d1ed6a8e34064bce5561576f9a35b": {
     "model_module": "@jupyter-widgets/controls",
     "model_module_version": "1.5.0",
     "model_name": "HTMLModel",
     "state": {
      "_dom_classes": [],
      "_model_module": "@jupyter-widgets/controls",
      "_model_module_version": "1.5.0",
      "_model_name": "HTMLModel",
      "_view_count": null,
      "_view_module": "@jupyter-widgets/controls",
      "_view_module_version": "1.5.0",
      "_view_name": "HTMLView",
      "description": "",
      "description_tooltip": null,
      "layout": "IPY_MODEL_46dc05dadc3b4da392df2fc4cd5828c2",
      "placeholder": "​",
      "style": "IPY_MODEL_707297ef1137435f982e7a01d4601c02",
      "value": " 466k/466k [00:00&lt;00:00, 1.98MB/s]"
     }
    },
    "cd6e887a2216446e804c0b2806d104f4": {
     "model_module": "@jupyter-widgets/controls",
     "model_module_version": "1.5.0",
     "model_name": "HTMLModel",
     "state": {
      "_dom_classes": [],
      "_model_module": "@jupyter-widgets/controls",
      "_model_module_version": "1.5.0",
      "_model_name": "HTMLModel",
      "_view_count": null,
      "_view_module": "@jupyter-widgets/controls",
      "_view_module_version": "1.5.0",
      "_view_name": "HTMLView",
      "description": "",
      "description_tooltip": null,
      "layout": "IPY_MODEL_3a10e2421eeb4c34aa8752bf78a9c68d",
      "placeholder": "​",
      "style": "IPY_MODEL_9bacf453ec7f4847a98665b7e2a3a596",
      "value": "Map: 100%"
     }
    },
    "ce7f25bb03204dab8aae7c70380d0ade": {
     "model_module": "@jupyter-widgets/controls",
     "model_module_version": "1.5.0",
     "model_name": "HTMLModel",
     "state": {
      "_dom_classes": [],
      "_model_module": "@jupyter-widgets/controls",
      "_model_module_version": "1.5.0",
      "_model_name": "HTMLModel",
      "_view_count": null,
      "_view_module": "@jupyter-widgets/controls",
      "_view_module_version": "1.5.0",
      "_view_name": "HTMLView",
      "description": "",
      "description_tooltip": null,
      "layout": "IPY_MODEL_af4679fcb61a4698b2c293bc53f82a1a",
      "placeholder": "​",
      "style": "IPY_MODEL_246ee01a56f940999f5a2b5e160fcd4d",
      "value": "tokenizer_config.json: 100%"
     }
    },
    "cf0f3e9e09e84391a53938ddb0a81cd4": {
     "model_module": "@jupyter-widgets/base",
     "model_module_version": "1.2.0",
     "model_name": "LayoutModel",
     "state": {
      "_model_module": "@jupyter-widgets/base",
      "_model_module_version": "1.2.0",
      "_model_name": "LayoutModel",
      "_view_count": null,
      "_view_module": "@jupyter-widgets/base",
      "_view_module_version": "1.2.0",
      "_view_name": "LayoutView",
      "align_content": null,
      "align_items": null,
      "align_self": null,
      "border": null,
      "bottom": null,
      "display": null,
      "flex": null,
      "flex_flow": null,
      "grid_area": null,
      "grid_auto_columns": null,
      "grid_auto_flow": null,
      "grid_auto_rows": null,
      "grid_column": null,
      "grid_gap": null,
      "grid_row": null,
      "grid_template_areas": null,
      "grid_template_columns": null,
      "grid_template_rows": null,
      "height": null,
      "justify_content": null,
      "justify_items": null,
      "left": null,
      "margin": null,
      "max_height": null,
      "max_width": null,
      "min_height": null,
      "min_width": null,
      "object_fit": null,
      "object_position": null,
      "order": null,
      "overflow": null,
      "overflow_x": null,
      "overflow_y": null,
      "padding": null,
      "right": null,
      "top": null,
      "visibility": null,
      "width": null
     }
    },
    "cf76aa7145fc409ea45f9e51ab119bfe": {
     "model_module": "@jupyter-widgets/controls",
     "model_module_version": "1.5.0",
     "model_name": "HBoxModel",
     "state": {
      "_dom_classes": [],
      "_model_module": "@jupyter-widgets/controls",
      "_model_module_version": "1.5.0",
      "_model_name": "HBoxModel",
      "_view_count": null,
      "_view_module": "@jupyter-widgets/controls",
      "_view_module_version": "1.5.0",
      "_view_name": "HBoxView",
      "box_style": "",
      "children": [
       "IPY_MODEL_75388de1c75646da98a0d66ff7f86e93",
       "IPY_MODEL_6af307749a424c27a0ebfdc177be7900",
       "IPY_MODEL_914818301e9a414d848ccf89d4326c83"
      ],
      "layout": "IPY_MODEL_5b1b59cc315542f3935c6ded2f4b227e"
     }
    },
    "d098e7098da3490cbcb5fd9b77105db5": {
     "model_module": "@jupyter-widgets/controls",
     "model_module_version": "1.5.0",
     "model_name": "HBoxModel",
     "state": {
      "_dom_classes": [],
      "_model_module": "@jupyter-widgets/controls",
      "_model_module_version": "1.5.0",
      "_model_name": "HBoxModel",
      "_view_count": null,
      "_view_module": "@jupyter-widgets/controls",
      "_view_module_version": "1.5.0",
      "_view_name": "HBoxView",
      "box_style": "",
      "children": [
       "IPY_MODEL_6547737fc13f4ec6a7953342372b3f0e",
       "IPY_MODEL_8254f7d3984e4406b571762c9071dc30",
       "IPY_MODEL_c17253b8e04648efb278b917ff63b6a6"
      ],
      "layout": "IPY_MODEL_1c359112acaf42bf97005f744069103a"
     }
    },
    "d44e9a517dab45259700368edb1913c4": {
     "model_module": "@jupyter-widgets/controls",
     "model_module_version": "1.5.0",
     "model_name": "DescriptionStyleModel",
     "state": {
      "_model_module": "@jupyter-widgets/controls",
      "_model_module_version": "1.5.0",
      "_model_name": "DescriptionStyleModel",
      "_view_count": null,
      "_view_module": "@jupyter-widgets/base",
      "_view_module_version": "1.2.0",
      "_view_name": "StyleView",
      "description_width": ""
     }
    },
    "da0c9577097940f6b7993e5d82954694": {
     "model_module": "@jupyter-widgets/base",
     "model_module_version": "1.2.0",
     "model_name": "LayoutModel",
     "state": {
      "_model_module": "@jupyter-widgets/base",
      "_model_module_version": "1.2.0",
      "_model_name": "LayoutModel",
      "_view_count": null,
      "_view_module": "@jupyter-widgets/base",
      "_view_module_version": "1.2.0",
      "_view_name": "LayoutView",
      "align_content": null,
      "align_items": null,
      "align_self": null,
      "border": null,
      "bottom": null,
      "display": null,
      "flex": null,
      "flex_flow": null,
      "grid_area": null,
      "grid_auto_columns": null,
      "grid_auto_flow": null,
      "grid_auto_rows": null,
      "grid_column": null,
      "grid_gap": null,
      "grid_row": null,
      "grid_template_areas": null,
      "grid_template_columns": null,
      "grid_template_rows": null,
      "height": null,
      "justify_content": null,
      "justify_items": null,
      "left": null,
      "margin": null,
      "max_height": null,
      "max_width": null,
      "min_height": null,
      "min_width": null,
      "object_fit": null,
      "object_position": null,
      "order": null,
      "overflow": null,
      "overflow_x": null,
      "overflow_y": null,
      "padding": null,
      "right": null,
      "top": null,
      "visibility": null,
      "width": null
     }
    },
    "dba73ab22767420c90e5410c7474a9d4": {
     "model_module": "@jupyter-widgets/controls",
     "model_module_version": "1.5.0",
     "model_name": "HBoxModel",
     "state": {
      "_dom_classes": [],
      "_model_module": "@jupyter-widgets/controls",
      "_model_module_version": "1.5.0",
      "_model_name": "HBoxModel",
      "_view_count": null,
      "_view_module": "@jupyter-widgets/controls",
      "_view_module_version": "1.5.0",
      "_view_name": "HBoxView",
      "box_style": "",
      "children": [
       "IPY_MODEL_8e2c3ac4852b4ffbaab8a1b063e17ed2",
       "IPY_MODEL_b359fe07f68541be80f80bf18dd7f072",
       "IPY_MODEL_5846f75dbfec4459b2a57dc15ab156f9"
      ],
      "layout": "IPY_MODEL_64bffac927d34a909d7cc99a79bd0bd8"
     }
    },
    "de79c876256d40868535c1465ef7500d": {
     "model_module": "@jupyter-widgets/controls",
     "model_module_version": "1.5.0",
     "model_name": "HTMLModel",
     "state": {
      "_dom_classes": [],
      "_model_module": "@jupyter-widgets/controls",
      "_model_module_version": "1.5.0",
      "_model_name": "HTMLModel",
      "_view_count": null,
      "_view_module": "@jupyter-widgets/controls",
      "_view_module_version": "1.5.0",
      "_view_name": "HTMLView",
      "description": "",
      "description_tooltip": null,
      "layout": "IPY_MODEL_14c5f8fa018d4d418b3fd17590d05477",
      "placeholder": "​",
      "style": "IPY_MODEL_0171f2fae59a42e190f305e82d6ab52d",
      "value": "model.safetensors: 100%"
     }
    },
    "df85b462fd094df981d56e80d323bdb6": {
     "model_module": "@jupyter-widgets/base",
     "model_module_version": "1.2.0",
     "model_name": "LayoutModel",
     "state": {
      "_model_module": "@jupyter-widgets/base",
      "_model_module_version": "1.2.0",
      "_model_name": "LayoutModel",
      "_view_count": null,
      "_view_module": "@jupyter-widgets/base",
      "_view_module_version": "1.2.0",
      "_view_name": "LayoutView",
      "align_content": null,
      "align_items": null,
      "align_self": null,
      "border": null,
      "bottom": null,
      "display": null,
      "flex": null,
      "flex_flow": null,
      "grid_area": null,
      "grid_auto_columns": null,
      "grid_auto_flow": null,
      "grid_auto_rows": null,
      "grid_column": null,
      "grid_gap": null,
      "grid_row": null,
      "grid_template_areas": null,
      "grid_template_columns": null,
      "grid_template_rows": null,
      "height": null,
      "justify_content": null,
      "justify_items": null,
      "left": null,
      "margin": null,
      "max_height": null,
      "max_width": null,
      "min_height": null,
      "min_width": null,
      "object_fit": null,
      "object_position": null,
      "order": null,
      "overflow": null,
      "overflow_x": null,
      "overflow_y": null,
      "padding": null,
      "right": null,
      "top": null,
      "visibility": null,
      "width": null
     }
    },
    "e448338b3081470597d9d363a531313b": {
     "model_module": "@jupyter-widgets/base",
     "model_module_version": "1.2.0",
     "model_name": "LayoutModel",
     "state": {
      "_model_module": "@jupyter-widgets/base",
      "_model_module_version": "1.2.0",
      "_model_name": "LayoutModel",
      "_view_count": null,
      "_view_module": "@jupyter-widgets/base",
      "_view_module_version": "1.2.0",
      "_view_name": "LayoutView",
      "align_content": null,
      "align_items": null,
      "align_self": null,
      "border": null,
      "bottom": null,
      "display": null,
      "flex": null,
      "flex_flow": null,
      "grid_area": null,
      "grid_auto_columns": null,
      "grid_auto_flow": null,
      "grid_auto_rows": null,
      "grid_column": null,
      "grid_gap": null,
      "grid_row": null,
      "grid_template_areas": null,
      "grid_template_columns": null,
      "grid_template_rows": null,
      "height": null,
      "justify_content": null,
      "justify_items": null,
      "left": null,
      "margin": null,
      "max_height": null,
      "max_width": null,
      "min_height": null,
      "min_width": null,
      "object_fit": null,
      "object_position": null,
      "order": null,
      "overflow": null,
      "overflow_x": null,
      "overflow_y": null,
      "padding": null,
      "right": null,
      "top": null,
      "visibility": null,
      "width": null
     }
    },
    "e4944715640f4575a0f3af0e5792935e": {
     "model_module": "@jupyter-widgets/controls",
     "model_module_version": "1.5.0",
     "model_name": "FloatProgressModel",
     "state": {
      "_dom_classes": [],
      "_model_module": "@jupyter-widgets/controls",
      "_model_module_version": "1.5.0",
      "_model_name": "FloatProgressModel",
      "_view_count": null,
      "_view_module": "@jupyter-widgets/controls",
      "_view_module_version": "1.5.0",
      "_view_name": "ProgressView",
      "bar_style": "success",
      "description": "",
      "description_tooltip": null,
      "layout": "IPY_MODEL_7e37a77f3d05400fbc5f077e5db0bef2",
      "max": 25000,
      "min": 0,
      "orientation": "horizontal",
      "style": "IPY_MODEL_f3169aa56f3b42afbe6fa9deefb51fe1",
      "value": 25000
     }
    },
    "e4d5249330f940f89e1334bcb14e3f72": {
     "model_module": "@jupyter-widgets/controls",
     "model_module_version": "1.5.0",
     "model_name": "HBoxModel",
     "state": {
      "_dom_classes": [],
      "_model_module": "@jupyter-widgets/controls",
      "_model_module_version": "1.5.0",
      "_model_name": "HBoxModel",
      "_view_count": null,
      "_view_module": "@jupyter-widgets/controls",
      "_view_module_version": "1.5.0",
      "_view_name": "HBoxView",
      "box_style": "",
      "children": [
       "IPY_MODEL_341950a54ab14b8288b86170cc1a4a19",
       "IPY_MODEL_e4944715640f4575a0f3af0e5792935e",
       "IPY_MODEL_3cc777800ce74440a2e709fb5c7a8dfb"
      ],
      "layout": "IPY_MODEL_f8a29f26526d4df8bc15090280cdca97"
     }
    },
    "e5acf5d218264902ac955e115ae661ea": {
     "model_module": "@jupyter-widgets/controls",
     "model_module_version": "1.5.0",
     "model_name": "HBoxModel",
     "state": {
      "_dom_classes": [],
      "_model_module": "@jupyter-widgets/controls",
      "_model_module_version": "1.5.0",
      "_model_name": "HBoxModel",
      "_view_count": null,
      "_view_module": "@jupyter-widgets/controls",
      "_view_module_version": "1.5.0",
      "_view_name": "HBoxView",
      "box_style": "",
      "children": [
       "IPY_MODEL_f49e3f49f6724372905a8985b3990bcc",
       "IPY_MODEL_0cefa1550110479aaf835869f2e54694",
       "IPY_MODEL_cc1d1ed6a8e34064bce5561576f9a35b"
      ],
      "layout": "IPY_MODEL_9b2384b5d37243cd966c506bfc89666d"
     }
    },
    "e67950835cc249a08905adb1d9a2592d": {
     "model_module": "@jupyter-widgets/controls",
     "model_module_version": "1.5.0",
     "model_name": "DescriptionStyleModel",
     "state": {
      "_model_module": "@jupyter-widgets/controls",
      "_model_module_version": "1.5.0",
      "_model_name": "DescriptionStyleModel",
      "_view_count": null,
      "_view_module": "@jupyter-widgets/base",
      "_view_module_version": "1.2.0",
      "_view_name": "StyleView",
      "description_width": ""
     }
    },
    "ed4f55f053574fb0b311de96d1188b4b": {
     "model_module": "@jupyter-widgets/base",
     "model_module_version": "1.2.0",
     "model_name": "LayoutModel",
     "state": {
      "_model_module": "@jupyter-widgets/base",
      "_model_module_version": "1.2.0",
      "_model_name": "LayoutModel",
      "_view_count": null,
      "_view_module": "@jupyter-widgets/base",
      "_view_module_version": "1.2.0",
      "_view_name": "LayoutView",
      "align_content": null,
      "align_items": null,
      "align_self": null,
      "border": null,
      "bottom": null,
      "display": null,
      "flex": null,
      "flex_flow": null,
      "grid_area": null,
      "grid_auto_columns": null,
      "grid_auto_flow": null,
      "grid_auto_rows": null,
      "grid_column": null,
      "grid_gap": null,
      "grid_row": null,
      "grid_template_areas": null,
      "grid_template_columns": null,
      "grid_template_rows": null,
      "height": null,
      "justify_content": null,
      "justify_items": null,
      "left": null,
      "margin": null,
      "max_height": null,
      "max_width": null,
      "min_height": null,
      "min_width": null,
      "object_fit": null,
      "object_position": null,
      "order": null,
      "overflow": null,
      "overflow_x": null,
      "overflow_y": null,
      "padding": null,
      "right": null,
      "top": null,
      "visibility": null,
      "width": null
     }
    },
    "f1382428497445ad86e3785fc303cd8a": {
     "model_module": "@jupyter-widgets/controls",
     "model_module_version": "1.5.0",
     "model_name": "DescriptionStyleModel",
     "state": {
      "_model_module": "@jupyter-widgets/controls",
      "_model_module_version": "1.5.0",
      "_model_name": "DescriptionStyleModel",
      "_view_count": null,
      "_view_module": "@jupyter-widgets/base",
      "_view_module_version": "1.2.0",
      "_view_name": "StyleView",
      "description_width": ""
     }
    },
    "f235def5a4a84aeeae9cf6e690d5d0de": {
     "model_module": "@jupyter-widgets/controls",
     "model_module_version": "1.5.0",
     "model_name": "DescriptionStyleModel",
     "state": {
      "_model_module": "@jupyter-widgets/controls",
      "_model_module_version": "1.5.0",
      "_model_name": "DescriptionStyleModel",
      "_view_count": null,
      "_view_module": "@jupyter-widgets/base",
      "_view_module_version": "1.2.0",
      "_view_name": "StyleView",
      "description_width": ""
     }
    },
    "f3169aa56f3b42afbe6fa9deefb51fe1": {
     "model_module": "@jupyter-widgets/controls",
     "model_module_version": "1.5.0",
     "model_name": "ProgressStyleModel",
     "state": {
      "_model_module": "@jupyter-widgets/controls",
      "_model_module_version": "1.5.0",
      "_model_name": "ProgressStyleModel",
      "_view_count": null,
      "_view_module": "@jupyter-widgets/base",
      "_view_module_version": "1.2.0",
      "_view_name": "StyleView",
      "bar_color": null,
      "description_width": ""
     }
    },
    "f49e3f49f6724372905a8985b3990bcc": {
     "model_module": "@jupyter-widgets/controls",
     "model_module_version": "1.5.0",
     "model_name": "HTMLModel",
     "state": {
      "_dom_classes": [],
      "_model_module": "@jupyter-widgets/controls",
      "_model_module_version": "1.5.0",
      "_model_name": "HTMLModel",
      "_view_count": null,
      "_view_module": "@jupyter-widgets/controls",
      "_view_module_version": "1.5.0",
      "_view_name": "HTMLView",
      "description": "",
      "description_tooltip": null,
      "layout": "IPY_MODEL_a412e285de5f40a8a43d6baba02fe509",
      "placeholder": "​",
      "style": "IPY_MODEL_8bbb1f59d9c14e9a80b431381a1339a1",
      "value": "tokenizer.json: 100%"
     }
    },
    "f4a176ecdbee4312842fd5071de29291": {
     "model_module": "@jupyter-widgets/controls",
     "model_module_version": "1.5.0",
     "model_name": "ProgressStyleModel",
     "state": {
      "_model_module": "@jupyter-widgets/controls",
      "_model_module_version": "1.5.0",
      "_model_name": "ProgressStyleModel",
      "_view_count": null,
      "_view_module": "@jupyter-widgets/base",
      "_view_module_version": "1.2.0",
      "_view_name": "StyleView",
      "bar_color": null,
      "description_width": ""
     }
    },
    "f57988ecd890483e8999769c7c01243d": {
     "model_module": "@jupyter-widgets/controls",
     "model_module_version": "1.5.0",
     "model_name": "DescriptionStyleModel",
     "state": {
      "_model_module": "@jupyter-widgets/controls",
      "_model_module_version": "1.5.0",
      "_model_name": "DescriptionStyleModel",
      "_view_count": null,
      "_view_module": "@jupyter-widgets/base",
      "_view_module_version": "1.2.0",
      "_view_name": "StyleView",
      "description_width": ""
     }
    },
    "f8a29f26526d4df8bc15090280cdca97": {
     "model_module": "@jupyter-widgets/base",
     "model_module_version": "1.2.0",
     "model_name": "LayoutModel",
     "state": {
      "_model_module": "@jupyter-widgets/base",
      "_model_module_version": "1.2.0",
      "_model_name": "LayoutModel",
      "_view_count": null,
      "_view_module": "@jupyter-widgets/base",
      "_view_module_version": "1.2.0",
      "_view_name": "LayoutView",
      "align_content": null,
      "align_items": null,
      "align_self": null,
      "border": null,
      "bottom": null,
      "display": null,
      "flex": null,
      "flex_flow": null,
      "grid_area": null,
      "grid_auto_columns": null,
      "grid_auto_flow": null,
      "grid_auto_rows": null,
      "grid_column": null,
      "grid_gap": null,
      "grid_row": null,
      "grid_template_areas": null,
      "grid_template_columns": null,
      "grid_template_rows": null,
      "height": null,
      "justify_content": null,
      "justify_items": null,
      "left": null,
      "margin": null,
      "max_height": null,
      "max_width": null,
      "min_height": null,
      "min_width": null,
      "object_fit": null,
      "object_position": null,
      "order": null,
      "overflow": null,
      "overflow_x": null,
      "overflow_y": null,
      "padding": null,
      "right": null,
      "top": null,
      "visibility": null,
      "width": null
     }
    },
    "f966573dfcdf482a9a7110e02bc285cc": {
     "model_module": "@jupyter-widgets/base",
     "model_module_version": "1.2.0",
     "model_name": "LayoutModel",
     "state": {
      "_model_module": "@jupyter-widgets/base",
      "_model_module_version": "1.2.0",
      "_model_name": "LayoutModel",
      "_view_count": null,
      "_view_module": "@jupyter-widgets/base",
      "_view_module_version": "1.2.0",
      "_view_name": "LayoutView",
      "align_content": null,
      "align_items": null,
      "align_self": null,
      "border": null,
      "bottom": null,
      "display": null,
      "flex": null,
      "flex_flow": null,
      "grid_area": null,
      "grid_auto_columns": null,
      "grid_auto_flow": null,
      "grid_auto_rows": null,
      "grid_column": null,
      "grid_gap": null,
      "grid_row": null,
      "grid_template_areas": null,
      "grid_template_columns": null,
      "grid_template_rows": null,
      "height": null,
      "justify_content": null,
      "justify_items": null,
      "left": null,
      "margin": null,
      "max_height": null,
      "max_width": null,
      "min_height": null,
      "min_width": null,
      "object_fit": null,
      "object_position": null,
      "order": null,
      "overflow": null,
      "overflow_x": null,
      "overflow_y": null,
      "padding": null,
      "right": null,
      "top": null,
      "visibility": null,
      "width": null
     }
    },
    "f9a5b90bd1b74aeea4be31d209d4a143": {
     "model_module": "@jupyter-widgets/controls",
     "model_module_version": "1.5.0",
     "model_name": "DescriptionStyleModel",
     "state": {
      "_model_module": "@jupyter-widgets/controls",
      "_model_module_version": "1.5.0",
      "_model_name": "DescriptionStyleModel",
      "_view_count": null,
      "_view_module": "@jupyter-widgets/base",
      "_view_module_version": "1.2.0",
      "_view_name": "StyleView",
      "description_width": ""
     }
    },
    "fe646b6aac1a4779acbb679b932ce326": {
     "model_module": "@jupyter-widgets/controls",
     "model_module_version": "1.5.0",
     "model_name": "FloatProgressModel",
     "state": {
      "_dom_classes": [],
      "_model_module": "@jupyter-widgets/controls",
      "_model_module_version": "1.5.0",
      "_model_name": "FloatProgressModel",
      "_view_count": null,
      "_view_module": "@jupyter-widgets/controls",
      "_view_module_version": "1.5.0",
      "_view_name": "ProgressView",
      "bar_style": "success",
      "description": "",
      "description_tooltip": null,
      "layout": "IPY_MODEL_13c17c16f44444a8a79d0f1b444f8809",
      "max": 267954768,
      "min": 0,
      "orientation": "horizontal",
      "style": "IPY_MODEL_c293537720d446ef94701be7d80c023f",
      "value": 267954768
     }
    },
    "ff0fc76e1a454733acde20da6bbae900": {
     "model_module": "@jupyter-widgets/controls",
     "model_module_version": "1.5.0",
     "model_name": "ProgressStyleModel",
     "state": {
      "_model_module": "@jupyter-widgets/controls",
      "_model_module_version": "1.5.0",
      "_model_name": "ProgressStyleModel",
      "_view_count": null,
      "_view_module": "@jupyter-widgets/base",
      "_view_module_version": "1.2.0",
      "_view_name": "StyleView",
      "bar_color": null,
      "description_width": ""
     }
    }
   }
  }
 },
 "nbformat": 4,
 "nbformat_minor": 4
}
